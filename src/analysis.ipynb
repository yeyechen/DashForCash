{
 "cells": [
  {
   "cell_type": "code",
   "execution_count": 1,
   "metadata": {},
   "outputs": [],
   "source": [
    "import pandas as pd\n",
    "import numpy as np\n",
    "import matplotlib.pyplot as plt\n",
    "import seaborn as sns\n",
    "import statsmodels.api as sm\n",
    "import statsmodels.formula.api as smf\n",
    "import os\n",
    "import duckdb\n",
    "import fastparquet"
   ]
  },
  {
   "cell_type": "code",
   "execution_count": 2,
   "metadata": {},
   "outputs": [
    {
     "name": "stdout",
     "output_type": "stream",
     "text": [
      "Change directory to data path: ../data\n"
     ]
    }
   ],
   "source": [
    "data_path = '../data'\n",
    "if os.path.exists(data_path):\n",
    "    os.chdir(data_path)\n",
    "    print(f'Change directory to data path: {data_path}')\n",
    "else:\n",
    "    print('Please point to the correct data path!')"
   ]
  },
  {
   "cell_type": "markdown",
   "metadata": {},
   "source": [
    "#### preprocessing data"
   ]
  },
  {
   "cell_type": "code",
   "execution_count": 3,
   "metadata": {},
   "outputs": [
    {
     "data": {
      "text/html": [
       "<div>\n",
       "<style scoped>\n",
       "    .dataframe tbody tr th:only-of-type {\n",
       "        vertical-align: middle;\n",
       "    }\n",
       "\n",
       "    .dataframe tbody tr th {\n",
       "        vertical-align: top;\n",
       "    }\n",
       "\n",
       "    .dataframe thead th {\n",
       "        text-align: right;\n",
       "    }\n",
       "</style>\n",
       "<table border=\"1\" class=\"dataframe\">\n",
       "  <thead>\n",
       "    <tr style=\"text-align: right;\">\n",
       "      <th></th>\n",
       "      <th>cusip</th>\n",
       "      <th>permno</th>\n",
       "      <th>permco</th>\n",
       "      <th>issuno</th>\n",
       "      <th>hexcd</th>\n",
       "      <th>hsiccd</th>\n",
       "      <th>date</th>\n",
       "      <th>bidlo</th>\n",
       "      <th>askhi</th>\n",
       "      <th>prc</th>\n",
       "      <th>vol</th>\n",
       "      <th>ret</th>\n",
       "      <th>bid</th>\n",
       "      <th>ask</th>\n",
       "      <th>shrout</th>\n",
       "      <th>cfacpr</th>\n",
       "      <th>cfacshr</th>\n",
       "      <th>openprc</th>\n",
       "      <th>numtrd</th>\n",
       "      <th>retx</th>\n",
       "    </tr>\n",
       "  </thead>\n",
       "  <tbody>\n",
       "    <tr>\n",
       "      <th>0</th>\n",
       "      <td>12753720</td>\n",
       "      <td>85570</td>\n",
       "      <td>7556</td>\n",
       "      <td>9833</td>\n",
       "      <td>3</td>\n",
       "      <td>700.0</td>\n",
       "      <td>2012-08-21</td>\n",
       "      <td>8.60</td>\n",
       "      <td>9.40</td>\n",
       "      <td>8.62</td>\n",
       "      <td>37776.0</td>\n",
       "      <td>-0.027088</td>\n",
       "      <td>8.62</td>\n",
       "      <td>8.65</td>\n",
       "      <td>15439.0</td>\n",
       "      <td>1.0</td>\n",
       "      <td>1.0</td>\n",
       "      <td>8.94</td>\n",
       "      <td>224.0</td>\n",
       "      <td>-0.027088</td>\n",
       "    </tr>\n",
       "    <tr>\n",
       "      <th>1</th>\n",
       "      <td>12753720</td>\n",
       "      <td>85570</td>\n",
       "      <td>7556</td>\n",
       "      <td>9833</td>\n",
       "      <td>3</td>\n",
       "      <td>700.0</td>\n",
       "      <td>2012-08-22</td>\n",
       "      <td>8.52</td>\n",
       "      <td>8.86</td>\n",
       "      <td>8.70</td>\n",
       "      <td>27851.0</td>\n",
       "      <td>0.009281</td>\n",
       "      <td>8.67</td>\n",
       "      <td>8.71</td>\n",
       "      <td>15439.0</td>\n",
       "      <td>1.0</td>\n",
       "      <td>1.0</td>\n",
       "      <td>8.64</td>\n",
       "      <td>206.0</td>\n",
       "      <td>0.009281</td>\n",
       "    </tr>\n",
       "    <tr>\n",
       "      <th>2</th>\n",
       "      <td>12753720</td>\n",
       "      <td>85570</td>\n",
       "      <td>7556</td>\n",
       "      <td>9833</td>\n",
       "      <td>3</td>\n",
       "      <td>700.0</td>\n",
       "      <td>2012-08-23</td>\n",
       "      <td>8.26</td>\n",
       "      <td>8.86</td>\n",
       "      <td>8.40</td>\n",
       "      <td>16653.0</td>\n",
       "      <td>-0.034483</td>\n",
       "      <td>8.37</td>\n",
       "      <td>8.40</td>\n",
       "      <td>15439.0</td>\n",
       "      <td>1.0</td>\n",
       "      <td>1.0</td>\n",
       "      <td>8.73</td>\n",
       "      <td>95.0</td>\n",
       "      <td>-0.034483</td>\n",
       "    </tr>\n",
       "  </tbody>\n",
       "</table>\n",
       "</div>"
      ],
      "text/plain": [
       "      cusip  permno  permco  issuno  hexcd  hsiccd       date  bidlo  askhi  \\\n",
       "0  12753720   85570    7556    9833      3   700.0 2012-08-21   8.60   9.40   \n",
       "1  12753720   85570    7556    9833      3   700.0 2012-08-22   8.52   8.86   \n",
       "2  12753720   85570    7556    9833      3   700.0 2012-08-23   8.26   8.86   \n",
       "\n",
       "    prc      vol       ret   bid   ask   shrout  cfacpr  cfacshr  openprc  \\\n",
       "0  8.62  37776.0 -0.027088  8.62  8.65  15439.0     1.0      1.0     8.94   \n",
       "1  8.70  27851.0  0.009281  8.67  8.71  15439.0     1.0      1.0     8.64   \n",
       "2  8.40  16653.0 -0.034483  8.37  8.40  15439.0     1.0      1.0     8.73   \n",
       "\n",
       "   numtrd      retx  \n",
       "0   224.0 -0.027088  \n",
       "1   206.0  0.009281  \n",
       "2    95.0 -0.034483  "
      ]
     },
     "execution_count": 3,
     "metadata": {},
     "output_type": "execute_result"
    }
   ],
   "source": [
    "crsp_d = pd.read_parquet('crsp_202401.dsf.parquet')\n",
    "crsp_d['date'] = pd.to_datetime(crsp_d['date'])\n",
    "crsp_d.head(3)"
   ]
  },
  {
   "cell_type": "code",
   "execution_count": 18,
   "metadata": {},
   "outputs": [
    {
     "name": "stdout",
     "output_type": "stream",
     "text": [
      "Number of unique permno: 37776\n"
     ]
    }
   ],
   "source": [
    "# print the number of unique permno in the crsp_d dataframe\n",
    "unique_permno_count = crsp_d['permno'].nunique()\n",
    "print(f\"Number of unique permno: {unique_permno_count}\")"
   ]
  },
  {
   "cell_type": "code",
   "execution_count": 46,
   "metadata": {},
   "outputs": [],
   "source": [
    "# too many permno, filter out the ones that is not recent\n",
    "crsp_d = crsp_d[crsp_d.groupby('permno')['date'].transform('max') > '2016-01-01']"
   ]
  },
  {
   "cell_type": "code",
   "execution_count": 47,
   "metadata": {},
   "outputs": [
    {
     "name": "stdout",
     "output_type": "stream",
     "text": [
      "After filting number of unique permno: 13754\n"
     ]
    }
   ],
   "source": [
    "print(f\"After filting number of unique permno: {crsp_d['permno'].nunique()}\")"
   ]
  },
  {
   "cell_type": "code",
   "execution_count": 52,
   "metadata": {},
   "outputs": [],
   "source": [
    "# prepare data, treat spy as market and merge with crsp_d\n",
    "spy_permno = 84398\n",
    "market_ret = crsp_d[crsp_d['permno'] == spy_permno][['date', 'ret']].rename(columns={'ret': 'mkt_ret'})\n",
    "\n",
    "# drop spy from crsp_d\n",
    "crsp_d = crsp_d[crsp_d['permno'] != spy_permno]\n",
    "\n",
    "merged = pd.merge(crsp_d, market_ret, on='date', how='left')\n",
    "merged = merged.dropna(subset=['ret', 'mkt_ret'])"
   ]
  },
  {
   "cell_type": "markdown",
   "metadata": {},
   "source": [
    "#### Run regressions to get beta"
   ]
  },
  {
   "cell_type": "code",
   "execution_count": null,
   "metadata": {},
   "outputs": [],
   "source": [
    "# define regression function\n",
    "def calculate_beta(permno_group):\n",
    "    X = sm.add_constant(permno_group['mkt_ret'])\n",
    "    model = sm.OLS(permno_group['ret'], X, missing='drop')\n",
    "    results = model.fit()\n",
    "    return {\"beta\": results.params['mkt_ret']}"
   ]
  },
  {
   "cell_type": "code",
   "execution_count": 81,
   "metadata": {},
   "outputs": [
    {
     "name": "stderr",
     "output_type": "stream",
     "text": [
      "100%|██████████| 13751/13751 [00:33<00:00, 416.57it/s]\n"
     ]
    }
   ],
   "source": [
    "from tqdm import tqdm\n",
    "\n",
    "start_date = '2016-01-01'\n",
    "\n",
    "beta_results_list = []\n",
    "for permno, group in tqdm(merged.groupby('permno')):\n",
    "    \n",
    "    group = group[group['date'] >= start_date]\n",
    "    \n",
    "    # if permno_group has less than 2 years of data, continue\n",
    "    if group['date'].max() - group['date'].min() < pd.Timedelta(days=2*365):\n",
    "        continue\n",
    "    \n",
    "    beta_result = calculate_beta(group)\n",
    "    beta_result['permno'] = permno\n",
    "    beta_results_list.append(beta_result)\n",
    "beta_results = pd.DataFrame(beta_results_list)\n",
    "\n",
    "# merge back with stock metadata\n",
    "beta_results_df = pd.merge(\n",
    "    crsp_d['permno'].drop_duplicates(),\n",
    "    beta_results,\n",
    "    on='permno'\n",
    ")"
   ]
  },
  {
   "cell_type": "code",
   "execution_count": 82,
   "metadata": {},
   "outputs": [
    {
     "data": {
      "text/html": [
       "<div>\n",
       "<style scoped>\n",
       "    .dataframe tbody tr th:only-of-type {\n",
       "        vertical-align: middle;\n",
       "    }\n",
       "\n",
       "    .dataframe tbody tr th {\n",
       "        vertical-align: top;\n",
       "    }\n",
       "\n",
       "    .dataframe thead th {\n",
       "        text-align: right;\n",
       "    }\n",
       "</style>\n",
       "<table border=\"1\" class=\"dataframe\">\n",
       "  <thead>\n",
       "    <tr style=\"text-align: right;\">\n",
       "      <th></th>\n",
       "      <th>permno</th>\n",
       "      <th>beta</th>\n",
       "    </tr>\n",
       "  </thead>\n",
       "  <tbody>\n",
       "    <tr>\n",
       "      <th>0</th>\n",
       "      <td>18405</td>\n",
       "      <td>4.884568</td>\n",
       "    </tr>\n",
       "    <tr>\n",
       "      <th>1</th>\n",
       "      <td>93284</td>\n",
       "      <td>4.176943</td>\n",
       "    </tr>\n",
       "    <tr>\n",
       "      <th>2</th>\n",
       "      <td>17437</td>\n",
       "      <td>4.071240</td>\n",
       "    </tr>\n",
       "    <tr>\n",
       "      <th>3</th>\n",
       "      <td>91128</td>\n",
       "      <td>4.062612</td>\n",
       "    </tr>\n",
       "    <tr>\n",
       "      <th>4</th>\n",
       "      <td>11182</td>\n",
       "      <td>3.631746</td>\n",
       "    </tr>\n",
       "    <tr>\n",
       "      <th>5</th>\n",
       "      <td>92855</td>\n",
       "      <td>3.587863</td>\n",
       "    </tr>\n",
       "    <tr>\n",
       "      <th>6</th>\n",
       "      <td>15613</td>\n",
       "      <td>3.551815</td>\n",
       "    </tr>\n",
       "    <tr>\n",
       "      <th>7</th>\n",
       "      <td>19039</td>\n",
       "      <td>3.535189</td>\n",
       "    </tr>\n",
       "    <tr>\n",
       "      <th>8</th>\n",
       "      <td>15348</td>\n",
       "      <td>3.497892</td>\n",
       "    </tr>\n",
       "    <tr>\n",
       "      <th>9</th>\n",
       "      <td>21999</td>\n",
       "      <td>3.468908</td>\n",
       "    </tr>\n",
       "  </tbody>\n",
       "</table>\n",
       "</div>"
      ],
      "text/plain": [
       "   permno      beta\n",
       "0   18405  4.884568\n",
       "1   93284  4.176943\n",
       "2   17437  4.071240\n",
       "3   91128  4.062612\n",
       "4   11182  3.631746\n",
       "5   92855  3.587863\n",
       "6   15613  3.551815\n",
       "7   19039  3.535189\n",
       "8   15348  3.497892\n",
       "9   21999  3.468908"
      ]
     },
     "execution_count": 82,
     "metadata": {},
     "output_type": "execute_result"
    }
   ],
   "source": [
    "beta_results_df = beta_results_df.sort_values(by=\"beta\", ascending=False).reset_index(drop=True)\n",
    "beta_results_df.head(10)"
   ]
  },
  {
   "cell_type": "markdown",
   "metadata": {},
   "source": [
    "#### Permno Lookup table - just curious about which stocks have beta values so high"
   ]
  },
  {
   "cell_type": "code",
   "execution_count": 83,
   "metadata": {},
   "outputs": [],
   "source": [
    "crsp_names = pd.read_parquet('crsp_202401.dsenames.parquet')\n",
    "crsp_names.head()\n",
    "# generate a dictionary of key: permno, value: ticker, from crsp_names\n",
    "permno_ticker_dict = crsp_names.set_index(\"permno\")[\"ticker\"].to_dict()"
   ]
  },
  {
   "cell_type": "code",
   "execution_count": 84,
   "metadata": {},
   "outputs": [
    {
     "data": {
      "text/plain": [
       "['BACK',\n",
       " 'SOXL',\n",
       " 'VMIN',\n",
       " 'GPOR',\n",
       " 'GASL',\n",
       " 'TECL',\n",
       " 'DPST',\n",
       " 'HIBL',\n",
       " 'LABU',\n",
       " 'FNGG']"
      ]
     },
     "execution_count": 84,
     "metadata": {},
     "output_type": "execute_result"
    }
   ],
   "source": [
    "top_10_permnos = beta_results_df.head(10)[\"permno\"]\n",
    "top_10_tickers = [permno_ticker_dict.get(permno) for permno in top_10_permnos]\n",
    "top_10_tickers"
   ]
  },
  {
   "cell_type": "markdown",
   "metadata": {},
   "source": [
    "#### Examine the cross-section of high beta stocks' return around turn of the month\n",
    "modification of Ethan's code"
   ]
  },
  {
   "cell_type": "code",
   "execution_count": 129,
   "metadata": {},
   "outputs": [],
   "source": [
    "def calc_turn_of_month_returns(crsp_d, permno, verbose=False):\n",
    "\n",
    "    # data preprocessing\n",
    "    curr_permno_d = crsp_d.query(f\"permno == {permno}\").reset_index(drop=True).copy()\n",
    "    curr_permno_d['date'] = pd.to_datetime(curr_permno_d['date'])\n",
    "\n",
    "    # Identify the last trading day of each month\n",
    "    monthly_last = curr_permno_d.groupby(pd.Grouper(key='date', freq='M')).tail(1).reset_index(drop=True)\n",
    "\n",
    "    # Initialize result columns\n",
    "    monthly_last['prev_3_avg'] = np.nan\n",
    "    monthly_last['prev_4_8_avg'] = np.nan\n",
    "    monthly_last['next_3_avg'] = np.nan\n",
    "    monthly_last['next_4_8_avg'] = np.nan\n",
    "\n",
    "    # Create a mapping from date to index for quick lookup\n",
    "    date_to_idx = {date: idx for idx, date in enumerate(curr_permno_d['date'])}\n",
    "\n",
    "    # Iterate over each last trading day to calculate windowed returns\n",
    "    for i, row in monthly_last.iterrows():\n",
    "        current_date = row['date']\n",
    "        current_idx = date_to_idx.get(current_date, -1)\n",
    "        \n",
    "        if current_idx == -1:\n",
    "            if verbose:\n",
    "                print(f\"Error: Date {current_date} for permno {permno} not found in the original data.\")\n",
    "            continue  # Ensure the date exists in the original data\n",
    "        \n",
    "        # Previous 3-day window (3 trading days before the current date)\n",
    "        if current_idx >= 3:\n",
    "            prev_3 = curr_permno_d.iloc[current_idx-3:current_idx]['ret'].mean()\n",
    "            monthly_last.at[i, 'prev_3_avg'] = prev_3\n",
    "        \n",
    "        # Previous 4-8 day window (4-8 trading days before the current date)\n",
    "        if current_idx >= 8:\n",
    "            prev_4_8 = curr_permno_d.iloc[current_idx-8:current_idx-3]['ret'].mean()  # Includes 5 days (4-8)\n",
    "            monthly_last.at[i, 'prev_4_8_avg'] = prev_4_8\n",
    "        \n",
    "        # Next 3-day window (3 trading days after the current date)\n",
    "        if current_idx + 3 < len(curr_permno_d):\n",
    "            next_3 = curr_permno_d.iloc[current_idx+1:current_idx+4]['ret'].mean()\n",
    "            monthly_last.at[i, 'next_3_avg'] = next_3\n",
    "        \n",
    "        # Next 4-8 day window (4-8 trading days after the current date)\n",
    "        if current_idx + 8 < len(curr_permno_d):\n",
    "            next_4_8 = curr_permno_d.iloc[current_idx+4:current_idx+9]['ret'].mean()  # Includes 5 days (4-8)\n",
    "            monthly_last.at[i, 'next_4_8_avg'] = next_4_8\n",
    "             \n",
    "    results = pd.DataFrame(\n",
    "        {'permno': str(permno),\n",
    "        'From T-8 to T-4': monthly_last['prev_4_8_avg'].mean(),\n",
    "        'From T-3 to T-1': monthly_last['prev_3_avg'].mean(),\n",
    "        'On T': monthly_last['ret'].mean(),\n",
    "        'From T+1 to T+3': monthly_last['next_3_avg'].mean(),\n",
    "        'From T+4 to T+8': monthly_last['next_4_8_avg'].mean(),\n",
    "        'Average daily return': curr_permno_d['ret'].mean()},\n",
    "        index=[0]\n",
    "    )\n",
    "    \n",
    "    return results"
   ]
  },
  {
   "cell_type": "code",
   "execution_count": 130,
   "metadata": {},
   "outputs": [
    {
     "data": {
      "text/plain": [
       "0    18405\n",
       "1    93284\n",
       "2    17437\n",
       "3    91128\n",
       "4    11182\n",
       "5    92855\n",
       "6    15613\n",
       "7    19039\n",
       "8    15348\n",
       "9    21999\n",
       "Name: permno, dtype: int32"
      ]
     },
     "execution_count": 130,
     "metadata": {},
     "output_type": "execute_result"
    }
   ],
   "source": [
    "top_10_permnos = beta_results_df.head(10)[\"permno\"]\n",
    "top_10_permnos"
   ]
  },
  {
   "cell_type": "code",
   "execution_count": 133,
   "metadata": {},
   "outputs": [
    {
     "data": {
      "text/html": [
       "<div>\n",
       "<style scoped>\n",
       "    .dataframe tbody tr th:only-of-type {\n",
       "        vertical-align: middle;\n",
       "    }\n",
       "\n",
       "    .dataframe tbody tr th {\n",
       "        vertical-align: top;\n",
       "    }\n",
       "\n",
       "    .dataframe thead th {\n",
       "        text-align: right;\n",
       "    }\n",
       "</style>\n",
       "<table border=\"1\" class=\"dataframe\">\n",
       "  <thead>\n",
       "    <tr style=\"text-align: right;\">\n",
       "      <th></th>\n",
       "      <th>permno</th>\n",
       "      <th>From T-8 to T-4</th>\n",
       "      <th>From T-3 to T-1</th>\n",
       "      <th>On T</th>\n",
       "      <th>From T+1 to T+3</th>\n",
       "      <th>From T+4 to T+8</th>\n",
       "      <th>Average daily return</th>\n",
       "    </tr>\n",
       "  </thead>\n",
       "  <tbody>\n",
       "    <tr>\n",
       "      <th>0</th>\n",
       "      <td>18405</td>\n",
       "      <td>0.030233</td>\n",
       "      <td>-0.000623</td>\n",
       "      <td>0.012209</td>\n",
       "      <td>-0.002006</td>\n",
       "      <td>-0.000932</td>\n",
       "      <td>0.005812</td>\n",
       "    </tr>\n",
       "    <tr>\n",
       "      <th>1</th>\n",
       "      <td>93284</td>\n",
       "      <td>-0.000277</td>\n",
       "      <td>0.006701</td>\n",
       "      <td>0.000113</td>\n",
       "      <td>0.003426</td>\n",
       "      <td>0.001501</td>\n",
       "      <td>0.002576</td>\n",
       "    </tr>\n",
       "    <tr>\n",
       "      <th>2</th>\n",
       "      <td>17437</td>\n",
       "      <td>0.002895</td>\n",
       "      <td>0.000228</td>\n",
       "      <td>0.004594</td>\n",
       "      <td>-0.000772</td>\n",
       "      <td>-0.005762</td>\n",
       "      <td>0.000603</td>\n",
       "    </tr>\n",
       "    <tr>\n",
       "      <th>3</th>\n",
       "      <td>91128</td>\n",
       "      <td>-0.002443</td>\n",
       "      <td>0.003330</td>\n",
       "      <td>0.001042</td>\n",
       "      <td>0.000106</td>\n",
       "      <td>-0.001408</td>\n",
       "      <td>0.000929</td>\n",
       "    </tr>\n",
       "    <tr>\n",
       "      <th>4</th>\n",
       "      <td>11182</td>\n",
       "      <td>-0.007123</td>\n",
       "      <td>0.001995</td>\n",
       "      <td>-0.001587</td>\n",
       "      <td>-0.001439</td>\n",
       "      <td>-0.007141</td>\n",
       "      <td>-0.003285</td>\n",
       "    </tr>\n",
       "    <tr>\n",
       "      <th>5</th>\n",
       "      <td>92855</td>\n",
       "      <td>-0.000325</td>\n",
       "      <td>0.004920</td>\n",
       "      <td>-0.001281</td>\n",
       "      <td>0.004569</td>\n",
       "      <td>0.001836</td>\n",
       "      <td>0.002287</td>\n",
       "    </tr>\n",
       "    <tr>\n",
       "      <th>6</th>\n",
       "      <td>15613</td>\n",
       "      <td>-0.000901</td>\n",
       "      <td>0.007753</td>\n",
       "      <td>-0.011735</td>\n",
       "      <td>0.003023</td>\n",
       "      <td>0.002066</td>\n",
       "      <td>0.000945</td>\n",
       "    </tr>\n",
       "    <tr>\n",
       "      <th>7</th>\n",
       "      <td>19039</td>\n",
       "      <td>-0.001319</td>\n",
       "      <td>0.008405</td>\n",
       "      <td>-0.010404</td>\n",
       "      <td>0.010465</td>\n",
       "      <td>0.003044</td>\n",
       "      <td>0.002141</td>\n",
       "    </tr>\n",
       "    <tr>\n",
       "      <th>8</th>\n",
       "      <td>15348</td>\n",
       "      <td>-0.002013</td>\n",
       "      <td>-0.003122</td>\n",
       "      <td>0.006341</td>\n",
       "      <td>0.007573</td>\n",
       "      <td>-0.002346</td>\n",
       "      <td>0.000620</td>\n",
       "    </tr>\n",
       "    <tr>\n",
       "      <th>9</th>\n",
       "      <td>21999</td>\n",
       "      <td>-0.005673</td>\n",
       "      <td>0.005730</td>\n",
       "      <td>0.006295</td>\n",
       "      <td>-0.003791</td>\n",
       "      <td>-0.001222</td>\n",
       "      <td>-0.000411</td>\n",
       "    </tr>\n",
       "  </tbody>\n",
       "</table>\n",
       "</div>"
      ],
      "text/plain": [
       "  permno  From T-8 to T-4  From T-3 to T-1      On T  From T+1 to T+3  \\\n",
       "0  18405         0.030233        -0.000623  0.012209        -0.002006   \n",
       "1  93284        -0.000277         0.006701  0.000113         0.003426   \n",
       "2  17437         0.002895         0.000228  0.004594        -0.000772   \n",
       "3  91128        -0.002443         0.003330  0.001042         0.000106   \n",
       "4  11182        -0.007123         0.001995 -0.001587        -0.001439   \n",
       "5  92855        -0.000325         0.004920 -0.001281         0.004569   \n",
       "6  15613        -0.000901         0.007753 -0.011735         0.003023   \n",
       "7  19039        -0.001319         0.008405 -0.010404         0.010465   \n",
       "8  15348        -0.002013        -0.003122  0.006341         0.007573   \n",
       "9  21999        -0.005673         0.005730  0.006295        -0.003791   \n",
       "\n",
       "   From T+4 to T+8  Average daily return  \n",
       "0        -0.000932              0.005812  \n",
       "1         0.001501              0.002576  \n",
       "2        -0.005762              0.000603  \n",
       "3        -0.001408              0.000929  \n",
       "4        -0.007141             -0.003285  \n",
       "5         0.001836              0.002287  \n",
       "6         0.002066              0.000945  \n",
       "7         0.003044              0.002141  \n",
       "8        -0.002346              0.000620  \n",
       "9        -0.001222             -0.000411  "
      ]
     },
     "execution_count": 133,
     "metadata": {},
     "output_type": "execute_result"
    }
   ],
   "source": [
    "import warnings\n",
    "warnings.filterwarnings('ignore')\n",
    "\n",
    "results_list = [calc_turn_of_month_returns(crsp_d, permno) for permno in top_10_permnos]\n",
    "combined_results = pd.concat(results_list, ignore_index=True)\n",
    "combined_results"
   ]
  }
 ],
 "metadata": {
  "kernelspec": {
   "display_name": "Python 3",
   "language": "python",
   "name": "python3"
  },
  "language_info": {
   "codemirror_mode": {
    "name": "ipython",
    "version": 3
   },
   "file_extension": ".py",
   "mimetype": "text/x-python",
   "name": "python",
   "nbconvert_exporter": "python",
   "pygments_lexer": "ipython3",
   "version": "3.9.21"
  }
 },
 "nbformat": 4,
 "nbformat_minor": 2
}
