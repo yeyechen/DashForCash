{
 "cells": [
  {
   "cell_type": "code",
   "execution_count": 1,
   "metadata": {},
   "outputs": [],
   "source": [
    "import pandas as pd\n",
    "import numpy as np\n",
    "import matplotlib.pyplot as plt\n",
    "import statsmodels.api as sm\n",
    "import os\n",
    "import duckdb\n",
    "from tqdm import tqdm"
   ]
  },
  {
   "cell_type": "code",
   "execution_count": 2,
   "metadata": {},
   "outputs": [
    {
     "name": "stdout",
     "output_type": "stream",
     "text": [
      "Change directory to data path: ../data\n"
     ]
    }
   ],
   "source": [
    "data_path = '../data'\n",
    "if os.path.exists(data_path):\n",
    "    os.chdir(data_path)\n",
    "    print(f'Change directory to data path: {data_path}')\n",
    "else:\n",
    "    print('Please point to the correct data path!')"
   ]
  },
  {
   "cell_type": "markdown",
   "metadata": {},
   "source": [
    "#### preprocessing data"
   ]
  },
  {
   "cell_type": "code",
   "execution_count": null,
   "metadata": {},
   "outputs": [],
   "source": [
    "# loading data\n",
    "\n",
    "# standard CRSP exchange codes:\n",
    "# 1 = NYSE\n",
    "# 2 = AMEX\n",
    "# 3 = NASDAQ\n",
    "# 4 = NYSE Arca (includes SPY)\n",
    "# 11 = NYSE MKT\n",
    "\n",
    "con = duckdb.connect()\n",
    "\n",
    "start_date = '2010-01-01'\n",
    "end_date = '2012-01-01'\n",
    "\n",
    "# Query:\n",
    "# 1. join with delisting adjusted data\n",
    "# 2. join with market data\n",
    "# 3. filter by exchange\n",
    "# 4. make sure the return is not null\n",
    "query_data = (f\"\"\"\n",
    "    SELECT \n",
    "    dsf.permno,\n",
    "    dlycaldt  AS date,\n",
    "    dlyret    AS ret,\n",
    "    shrout    AS shares_outstanding,\n",
    "    (shrout * dlyprc) AS market_cap,\n",
    "    mkt_rf,\n",
    "    rf,\n",
    "    (ret - rf) AS ret_rf\n",
    "    FROM read_parquet('crsp_202401.dsf_v2.parquet') AS dsf \n",
    "    JOIN (\n",
    "        SELECT DISTINCT permno, hexcd AS exchange\n",
    "        FROM read_parquet('crsp_202401.dsenames.parquet')\n",
    "    ) AS exchanges\n",
    "    ON dsf.permno = exchanges.permno\n",
    "    JOIN (\n",
    "        SELECT dt, mkt_rf, rf\n",
    "        FROM read_parquet('ff.four_factor.parquet')\n",
    "    ) AS mkt\n",
    "    ON dsf.dlycaldt = mkt.dt\n",
    "    WHERE dlycaldt BETWEEN '{start_date}' AND '{end_date}'\n",
    "    AND exchange IN (1, 2, 3)\n",
    "    AND dsf.dlyret IS NOT NULL\n",
    "\"\"\")\n",
    "\n",
    "crsp_d = con.execute(query_data).fetch_df()\n",
    "crsp_d['date'] = pd.to_datetime(crsp_d['date'])\n",
    "con.close()\n",
    "crsp_d.head(3)"
   ]
  },
  {
   "cell_type": "code",
   "execution_count": null,
   "metadata": {},
   "outputs": [],
   "source": [
    "print(f'Number of unique permnos: {crsp_d[\"permno\"].nunique()}')"
   ]
  },
  {
   "cell_type": "markdown",
   "metadata": {},
   "source": [
    "#### Run regressions to get beta - multi-process"
   ]
  },
  {
   "cell_type": "code",
   "execution_count": 6,
   "metadata": {},
   "outputs": [],
   "source": [
    "# calculate the average of the rolling betas\n",
    "def calc_rolling_beta(df: pd.DataFrame, window_size=60, step=1) -> dict:\n",
    "    # use a rolling window approach with a fixed window size\n",
    "    betas = {}\n",
    "    \n",
    "    for i in range(window_size, len(df), step):\n",
    "        window_data = df.iloc[i - window_size:i]\n",
    "        X = sm.add_constant(window_data['mkt_rf'])\n",
    "        y = window_data['ret_rf']\n",
    "        model = sm.OLS(y, X, missing='drop')\n",
    "        results = model.fit()\n",
    "        date_label = df.iloc[i]['date']\n",
    "        betas[date_label] = results.params['mkt_rf']\n",
    "         \n",
    "    return betas"
   ]
  },
  {
   "cell_type": "code",
   "execution_count": 7,
   "metadata": {},
   "outputs": [],
   "source": [
    "# sample_df = crsp_d[crsp_d['permno'] == 10107]\n",
    "# dic = calc_rolling_beta(sample_df)\n",
    "# # convert the dictionary to a dataframe for better readability\n",
    "# dic_df = pd.DataFrame(list(dic.items()), columns=[\"date\", \"beta\"])\n",
    "# print(dic_df)"
   ]
  },
  {
   "cell_type": "code",
   "execution_count": null,
   "metadata": {},
   "outputs": [],
   "source": [
    "from joblib import Parallel, delayed\n",
    "from tqdm import tqdm\n",
    "\n",
    "# pre-filter groups with sufficient data\n",
    "groups = [(permno, group) for permno, group in crsp_d.groupby('permno') if len(group) > 60]\n",
    "\n",
    "# sort each group by date\n",
    "groups = [(permno, group.sort_values(by='date')) for permno, group in groups]\n",
    "\n",
    "def process_group(permno, group):\n",
    "    return (permno, calc_rolling_beta(group))\n",
    "\n",
    "# process in parallel with progress bar\n",
    "results = Parallel(n_jobs=-1)(\n",
    "    delayed(process_group)(permno, group) \n",
    "    for permno, group in tqdm(groups)\n",
    ")\n",
    "\n",
    "beta_dict = {permno: beta for permno, beta in results}"
   ]
  },
  {
   "cell_type": "code",
   "execution_count": 83,
   "metadata": {},
   "outputs": [],
   "source": [
    "## saving beta_df to a file\n",
    "# beta_df = pd.DataFrame.from_dict(beta_dict, orient=\"index\").stack().reset_index()\n",
    "# beta_df.columns = [\"permno\", \"date\", \"beta\"]\n",
    "# beta_ret_df.to_parquet('beta_df.parquet')"
   ]
  },
  {
   "cell_type": "code",
   "execution_count": 3,
   "metadata": {},
   "outputs": [
    {
     "data": {
      "application/vnd.microsoft.datawrangler.viewer.v0+json": {
       "columns": [
        {
         "name": "index",
         "rawType": "int64",
         "type": "integer"
        },
        {
         "name": "permno",
         "rawType": "int64",
         "type": "integer"
        },
        {
         "name": "date",
         "rawType": "datetime64[ns]",
         "type": "datetime"
        },
        {
         "name": "beta",
         "rawType": "float64",
         "type": "float"
        },
        {
         "name": "ret",
         "rawType": "float64",
         "type": "float"
        }
       ],
       "conversionMethod": "pd.DataFrame",
       "ref": "7fccfdfa-9272-4f4c-85bc-d4b5a18f26c5",
       "rows": [
        [
         "0",
         "42585",
         "2010-04-05 00:00:00",
         "0.5769683667002852",
         "0.000995"
        ],
        [
         "1",
         "42585",
         "2010-04-06 00:00:00",
         "0.5701615802730863",
         "0.005133"
        ],
        [
         "2",
         "42585",
         "2010-04-07 00:00:00",
         "0.5737606451786703",
         "0.001318"
        ]
       ],
       "shape": {
        "columns": 4,
        "rows": 3
       }
      },
      "text/html": [
       "<div>\n",
       "<style scoped>\n",
       "    .dataframe tbody tr th:only-of-type {\n",
       "        vertical-align: middle;\n",
       "    }\n",
       "\n",
       "    .dataframe tbody tr th {\n",
       "        vertical-align: top;\n",
       "    }\n",
       "\n",
       "    .dataframe thead th {\n",
       "        text-align: right;\n",
       "    }\n",
       "</style>\n",
       "<table border=\"1\" class=\"dataframe\">\n",
       "  <thead>\n",
       "    <tr style=\"text-align: right;\">\n",
       "      <th></th>\n",
       "      <th>permno</th>\n",
       "      <th>date</th>\n",
       "      <th>beta</th>\n",
       "      <th>ret</th>\n",
       "    </tr>\n",
       "  </thead>\n",
       "  <tbody>\n",
       "    <tr>\n",
       "      <th>0</th>\n",
       "      <td>42585</td>\n",
       "      <td>2010-04-05</td>\n",
       "      <td>0.576968</td>\n",
       "      <td>0.000995</td>\n",
       "    </tr>\n",
       "    <tr>\n",
       "      <th>1</th>\n",
       "      <td>42585</td>\n",
       "      <td>2010-04-06</td>\n",
       "      <td>0.570162</td>\n",
       "      <td>0.005133</td>\n",
       "    </tr>\n",
       "    <tr>\n",
       "      <th>2</th>\n",
       "      <td>42585</td>\n",
       "      <td>2010-04-07</td>\n",
       "      <td>0.573761</td>\n",
       "      <td>0.001318</td>\n",
       "    </tr>\n",
       "  </tbody>\n",
       "</table>\n",
       "</div>"
      ],
      "text/plain": [
       "   permno       date      beta       ret\n",
       "0   42585 2010-04-05  0.576968  0.000995\n",
       "1   42585 2010-04-06  0.570162  0.005133\n",
       "2   42585 2010-04-07  0.573761  0.001318"
      ]
     },
     "execution_count": 3,
     "metadata": {},
     "output_type": "execute_result"
    }
   ],
   "source": [
    "# reading beta_df from a file\n",
    "beta_df = pd.read_parquet('beta_df.parquet')\n",
    "beta_df.head(3)"
   ]
  },
  {
   "cell_type": "markdown",
   "metadata": {},
   "source": [
    "#### Decile Portfolios"
   ]
  },
  {
   "cell_type": "code",
   "execution_count": null,
   "metadata": {},
   "outputs": [],
   "source": [
    "from tqdm import tqdm\n",
    "\n",
    "# Helper function to turn of the month identification\n",
    "# Identify Trading Days Relative to Month End\n",
    "# label trading days relative to month end\n",
    "def label_trading_days(df):\n",
    "    df = df.sort_values(['permno', 'date'])\n",
    "    df['month'] = df['date'].dt.to_period('M')\n",
    "    \n",
    "    # Initialize trading day labels\n",
    "    df['period_label'] = np.nan\n",
    "    df['period_label'] = df['period_label'].astype(str)\n",
    "    \n",
    "    result = []\n",
    "    \n",
    "    for month in tqdm(df['month'].unique()):\n",
    "        month_data_all_permno = df[df['month'] == month]\n",
    "\n",
    "        for permno in month_data_all_permno['permno'].unique():\n",
    "            month_data_curr_permno = month_data_all_permno[month_data_all_permno['permno'] == permno]\n",
    "            # reset index to make sure everything lines up\n",
    "            month_data_curr_permno.reset_index(drop=True, inplace=True)\n",
    "            \n",
    "            # get around corner cases, where we don't have previous 8 days or next 8 days\n",
    "            try:\n",
    "                # start-of-month index in current month\n",
    "                S_idx: int = month_data_curr_permno['date'].idxmin()\n",
    "                # order matters, process 'T+1_T+4' first\n",
    "                month_data_curr_permno.loc[list(range(S_idx, S_idx + 3)), 'period_label'] = 'T+1_T+3'\n",
    "                month_data_curr_permno.loc[list(range(S_idx + 3, S_idx + 8)), 'period_label'] = 'T+4_T+8'\n",
    "            except:\n",
    "                pass\n",
    "\n",
    "            try:\n",
    "                # end-of-month index in current month\n",
    "                T_idx: int = month_data_curr_permno['date'].idxmax()\n",
    "                month_data_curr_permno.loc[T_idx, 'period_label'] = 'T'\n",
    "                # order matters for the same reason\n",
    "                month_data_curr_permno.loc[list(range(T_idx - 3, T_idx)), 'period_label'] = 'T-3_T-1'\n",
    "                month_data_curr_permno.loc[list(range(T_idx - 8, T_idx - 3)), 'period_label'] = 'T-8_T-4'\n",
    "            except:\n",
    "                pass\n",
    "            \n",
    "            result.append(month_data_curr_permno)\n",
    "            \n",
    "    result_df = pd.concat(result, ignore_index=True)\n",
    "    return result_df"
   ]
  },
  {
   "cell_type": "code",
   "execution_count": 12,
   "metadata": {},
   "outputs": [],
   "source": [
    "# Helper function from Alan\n",
    "def apply_quantiles(df, col, bins=10):\n",
    "    \"\"\"\n",
    "    Assigns a quantile-based bin (1,...,bins) for each value in `col`\n",
    "    within each date group.\n",
    "    \"\"\"\n",
    "    def quantile_bin(s):\n",
    "        # Use pd.qcut to get quantile bins; if duplicate edges occur, use rank instead.\n",
    "        try:\n",
    "            return pd.qcut(s, q=bins, labels=False, duplicates=\"drop\") + 1\n",
    "        except Exception:\n",
    "            return np.ceil(s.rank(method='average') / len(s) * bins)\n",
    "    return df.groupby('date')[col].transform(quantile_bin)"
   ]
  },
  {
   "cell_type": "code",
   "execution_count": 39,
   "metadata": {},
   "outputs": [],
   "source": [
    "beta_df = pd.read_pickle('beta_trading_days_label.pkl')\n",
    "beta_df = beta_df[beta_df['period_label'] != 'nan']\n",
    "beta_df['bin'] = apply_quantiles(beta_df, 'beta')"
   ]
  },
  {
   "cell_type": "code",
   "execution_count": 40,
   "metadata": {},
   "outputs": [
    {
     "data": {
      "application/vnd.microsoft.datawrangler.viewer.v0+json": {
       "columns": [
        {
         "name": "index",
         "rawType": "int64",
         "type": "integer"
        },
        {
         "name": "permno",
         "rawType": "int64",
         "type": "integer"
        },
        {
         "name": "date",
         "rawType": "datetime64[ns]",
         "type": "datetime"
        },
        {
         "name": "beta",
         "rawType": "float64",
         "type": "float"
        },
        {
         "name": "ret",
         "rawType": "float64",
         "type": "float"
        },
        {
         "name": "month",
         "rawType": "period[M]",
         "type": "unknown"
        },
        {
         "name": "period_label",
         "rawType": "object",
         "type": "string"
        },
        {
         "name": "bin",
         "rawType": "int64",
         "type": "integer"
        }
       ],
       "conversionMethod": "pd.DataFrame",
       "ref": "118e96b3-b97e-4658-9175-17966fe5b954",
       "rows": [
        [
         "0",
         "10001",
         "2010-03-31 00:00:00",
         "0.014376321287015228",
         "0.004792",
         "2010-03",
         "T",
         "1"
        ],
        [
         "5712",
         "10001",
         "2010-04-01 00:00:00",
         "0.02720185097142787",
         "0.007866",
         "2010-04",
         "T+1_T+3",
         "1"
        ],
        [
         "5713",
         "10001",
         "2010-04-05 00:00:00",
         "0.04059659035678985",
         "0.006829",
         "2010-04",
         "T+1_T+3",
         "1"
        ],
        [
         "5714",
         "10001",
         "2010-04-06 00:00:00",
         "0.05054983626282576",
         "0.002907",
         "2010-04",
         "T+1_T+3",
         "1"
        ],
        [
         "5715",
         "10001",
         "2010-04-07 00:00:00",
         "0.07285455233620744",
         "0.006512",
         "2010-04",
         "T+4_T+8",
         "2"
        ],
        [
         "5716",
         "10001",
         "2010-04-08 00:00:00",
         "0.046876176285696174",
         "-0.008342",
         "2010-04",
         "T+4_T+8",
         "1"
        ],
        [
         "5717",
         "10001",
         "2010-04-09 00:00:00",
         "0.041307922190083154",
         "0.016398",
         "2010-04",
         "T+4_T+8",
         "1"
        ],
        [
         "5718",
         "10001",
         "2010-04-12 00:00:00",
         "0.04987932810465075",
         "0.042867",
         "2010-04",
         "T+4_T+8",
         "2"
        ],
        [
         "5719",
         "10001",
         "2010-04-13 00:00:00",
         "0.06795361773425283",
         "0.003014",
         "2010-04",
         "T+4_T+8",
         "2"
        ],
        [
         "5724",
         "10001",
         "2010-04-20 00:00:00",
         "0.19651146326541236",
         "0.007428",
         "2010-04",
         "T-8_T-4",
         "2"
        ],
        [
         "5725",
         "10001",
         "2010-04-21 00:00:00",
         "0.25263929218847725",
         "0.004885",
         "2010-04",
         "T-8_T-4",
         "2"
        ],
        [
         "5726",
         "10001",
         "2010-04-22 00:00:00",
         "0.2622708043046127",
         "0.001559",
         "2010-04",
         "T-8_T-4",
         "2"
        ],
        [
         "5727",
         "10001",
         "2010-04-23 00:00:00",
         "0.2647981573272242",
         "0.005495",
         "2010-04",
         "T-8_T-4",
         "2"
        ],
        [
         "5728",
         "10001",
         "2010-04-26 00:00:00",
         "0.26174650483310685",
         "0.010929",
         "2010-04",
         "T-8_T-4",
         "2"
        ],
        [
         "5729",
         "10001",
         "2010-04-27 00:00:00",
         "0.3149862224579322",
         "0.045946",
         "2010-04",
         "T-3_T-1",
         "3"
        ],
        [
         "5730",
         "10001",
         "2010-04-28 00:00:00",
         "-0.017077464389847308",
         "-0.031878",
         "2010-04",
         "T-3_T-1",
         "1"
        ],
        [
         "5731",
         "10001",
         "2010-04-29 00:00:00",
         "-0.021334941299773896",
         "0.02492",
         "2010-04",
         "T-3_T-1",
         "1"
        ],
        [
         "5732",
         "10001",
         "2010-04-30 00:00:00",
         "0.0482242876548033",
         "-0.011285",
         "2010-04",
         "T",
         "1"
        ],
        [
         "125699",
         "10001",
         "2010-05-03 00:00:00",
         "0.11630491378437924",
         "0.035997",
         "2010-05",
         "T+1_T+3",
         "2"
        ],
        [
         "125700",
         "10001",
         "2010-05-04 00:00:00",
         "0.14917169935324084",
         "-0.020339",
         "2010-05",
         "T+1_T+3",
         "2"
        ],
        [
         "125701",
         "10001",
         "2010-05-05 00:00:00",
         "0.27544064073379104",
         "-0.019896",
         "2010-05",
         "T+1_T+3",
         "2"
        ],
        [
         "125702",
         "10001",
         "2010-05-06 00:00:00",
         "0.37917632819926966",
         "-0.037952",
         "2010-05",
         "T+4_T+8",
         "3"
        ],
        [
         "125703",
         "10001",
         "2010-05-07 00:00:00",
         "0.5641920716339777",
         "-0.027523",
         "2010-05",
         "T+4_T+8",
         "3"
        ],
        [
         "125704",
         "10001",
         "2010-05-10 00:00:00",
         "0.6173829741112861",
         "-0.019811",
         "2010-05",
         "T+4_T+8",
         "3"
        ],
        [
         "125705",
         "10001",
         "2010-05-11 00:00:00",
         "0.34266327028666477",
         "0.025987",
         "2010-05",
         "T+4_T+8",
         "2"
        ],
        [
         "125706",
         "10001",
         "2010-05-12 00:00:00",
         "0.3334408343811649",
         "-0.007974",
         "2010-05",
         "T+4_T+8",
         "2"
        ],
        [
         "125710",
         "10001",
         "2010-05-18 00:00:00",
         "0.30375663484766285",
         "0.021767",
         "2010-05",
         "T-8_T-4",
         "2"
        ],
        [
         "125711",
         "10001",
         "2010-05-19 00:00:00",
         "0.25874468931057887",
         "0.009003",
         "2010-05",
         "T-8_T-4",
         "2"
        ],
        [
         "125712",
         "10001",
         "2010-05-20 00:00:00",
         "0.24978538614745244",
         "0.000883",
         "2010-05",
         "T-8_T-4",
         "2"
        ],
        [
         "125713",
         "10001",
         "2010-05-21 00:00:00",
         "0.2007130319353322",
         "-0.011474",
         "2010-05",
         "T-8_T-4",
         "2"
        ],
        [
         "125714",
         "10001",
         "2010-05-24 00:00:00",
         "0.17466574980714022",
         "0.009821",
         "2010-05",
         "T-8_T-4",
         "1"
        ],
        [
         "125715",
         "10001",
         "2010-05-25 00:00:00",
         "0.16397745715362094",
         "-0.007082",
         "2010-05",
         "T-3_T-1",
         "1"
        ],
        [
         "125716",
         "10001",
         "2010-05-26 00:00:00",
         "0.17060784244505384",
         "0.00179",
         "2010-05",
         "T-3_T-1",
         "1"
        ],
        [
         "125717",
         "10001",
         "2010-05-27 00:00:00",
         "0.16978456249719812",
         "0.013333",
         "2010-05",
         "T-3_T-1",
         "1"
        ],
        [
         "125718",
         "10001",
         "2010-05-28 00:00:00",
         "0.18655517697346516",
         "0.0",
         "2010-05",
         "T",
         "2"
        ],
        [
         "239966",
         "10001",
         "2010-06-01 00:00:00",
         "0.18877483937506356",
         "-0.002632",
         "2010-06",
         "T+1_T+3",
         "2"
        ],
        [
         "239967",
         "10001",
         "2010-06-02 00:00:00",
         "0.19931113453394506",
         "0.011434",
         "2010-06",
         "T+1_T+3",
         "2"
        ],
        [
         "239968",
         "10001",
         "2010-06-03 00:00:00",
         "0.20741411829838452",
         "-3.5e-05",
         "2010-06",
         "T+1_T+3",
         "2"
        ],
        [
         "239969",
         "10001",
         "2010-06-04 00:00:00",
         "0.20575629764149797",
         "0.018296",
         "2010-06",
         "T+4_T+8",
         "2"
        ],
        [
         "239970",
         "10001",
         "2010-06-07 00:00:00",
         "0.14537714592343226",
         "0.00427",
         "2010-06",
         "T+4_T+8",
         "1"
        ],
        [
         "239971",
         "10001",
         "2010-06-08 00:00:00",
         "0.142501293208801",
         "0.00085",
         "2010-06",
         "T+4_T+8",
         "1"
        ],
        [
         "239972",
         "10001",
         "2010-06-09 00:00:00",
         "0.14059414691793432",
         "0.016143",
         "2010-06",
         "T+4_T+8",
         "1"
        ],
        [
         "239973",
         "10001",
         "2010-06-10 00:00:00",
         "0.13748253863738205",
         "-0.007525",
         "2010-06",
         "T+4_T+8",
         "1"
        ],
        [
         "239979",
         "10001",
         "2010-06-18 00:00:00",
         "0.0634572004750269",
         "0.011017",
         "2010-06",
         "T-8_T-4",
         "1"
        ],
        [
         "239980",
         "10001",
         "2010-06-21 00:00:00",
         "0.06488407098961121",
         "0.005029",
         "2010-06",
         "T-8_T-4",
         "1"
        ],
        [
         "239981",
         "10001",
         "2010-06-22 00:00:00",
         "0.06526024440534586",
         "-0.010008",
         "2010-06",
         "T-8_T-4",
         "1"
        ],
        [
         "239982",
         "10001",
         "2010-06-23 00:00:00",
         "0.0779226086339038",
         "-0.007582",
         "2010-06",
         "T-8_T-4",
         "1"
        ],
        [
         "239983",
         "10001",
         "2010-06-24 00:00:00",
         "0.08269491511711631",
         "0.013582",
         "2010-06",
         "T-8_T-4",
         "1"
        ],
        [
         "239984",
         "10001",
         "2010-06-25 00:00:00",
         "0.07108348346767668",
         "0.030151",
         "2010-06",
         "T-3_T-1",
         "1"
        ],
        [
         "239985",
         "10001",
         "2010-06-28 00:00:00",
         "0.0818242499832191",
         "-0.035772",
         "2010-06",
         "T-3_T-1",
         "1"
        ]
       ],
       "shape": {
        "columns": 7,
        "rows": 358
       }
      },
      "text/html": [
       "<div>\n",
       "<style scoped>\n",
       "    .dataframe tbody tr th:only-of-type {\n",
       "        vertical-align: middle;\n",
       "    }\n",
       "\n",
       "    .dataframe tbody tr th {\n",
       "        vertical-align: top;\n",
       "    }\n",
       "\n",
       "    .dataframe thead th {\n",
       "        text-align: right;\n",
       "    }\n",
       "</style>\n",
       "<table border=\"1\" class=\"dataframe\">\n",
       "  <thead>\n",
       "    <tr style=\"text-align: right;\">\n",
       "      <th></th>\n",
       "      <th>permno</th>\n",
       "      <th>date</th>\n",
       "      <th>beta</th>\n",
       "      <th>ret</th>\n",
       "      <th>month</th>\n",
       "      <th>period_label</th>\n",
       "      <th>bin</th>\n",
       "    </tr>\n",
       "  </thead>\n",
       "  <tbody>\n",
       "    <tr>\n",
       "      <th>0</th>\n",
       "      <td>10001</td>\n",
       "      <td>2010-03-31</td>\n",
       "      <td>0.014376</td>\n",
       "      <td>0.004792</td>\n",
       "      <td>2010-03</td>\n",
       "      <td>T</td>\n",
       "      <td>1</td>\n",
       "    </tr>\n",
       "    <tr>\n",
       "      <th>5712</th>\n",
       "      <td>10001</td>\n",
       "      <td>2010-04-01</td>\n",
       "      <td>0.027202</td>\n",
       "      <td>0.007866</td>\n",
       "      <td>2010-04</td>\n",
       "      <td>T+1_T+3</td>\n",
       "      <td>1</td>\n",
       "    </tr>\n",
       "    <tr>\n",
       "      <th>5713</th>\n",
       "      <td>10001</td>\n",
       "      <td>2010-04-05</td>\n",
       "      <td>0.040597</td>\n",
       "      <td>0.006829</td>\n",
       "      <td>2010-04</td>\n",
       "      <td>T+1_T+3</td>\n",
       "      <td>1</td>\n",
       "    </tr>\n",
       "    <tr>\n",
       "      <th>5714</th>\n",
       "      <td>10001</td>\n",
       "      <td>2010-04-06</td>\n",
       "      <td>0.050550</td>\n",
       "      <td>0.002907</td>\n",
       "      <td>2010-04</td>\n",
       "      <td>T+1_T+3</td>\n",
       "      <td>1</td>\n",
       "    </tr>\n",
       "    <tr>\n",
       "      <th>5715</th>\n",
       "      <td>10001</td>\n",
       "      <td>2010-04-07</td>\n",
       "      <td>0.072855</td>\n",
       "      <td>0.006512</td>\n",
       "      <td>2010-04</td>\n",
       "      <td>T+4_T+8</td>\n",
       "      <td>2</td>\n",
       "    </tr>\n",
       "    <tr>\n",
       "      <th>...</th>\n",
       "      <td>...</td>\n",
       "      <td>...</td>\n",
       "      <td>...</td>\n",
       "      <td>...</td>\n",
       "      <td>...</td>\n",
       "      <td>...</td>\n",
       "      <td>...</td>\n",
       "    </tr>\n",
       "    <tr>\n",
       "      <th>2399076</th>\n",
       "      <td>10001</td>\n",
       "      <td>2011-12-23</td>\n",
       "      <td>-0.006478</td>\n",
       "      <td>0.015483</td>\n",
       "      <td>2011-12</td>\n",
       "      <td>T-8_T-4</td>\n",
       "      <td>1</td>\n",
       "    </tr>\n",
       "    <tr>\n",
       "      <th>2399077</th>\n",
       "      <td>10001</td>\n",
       "      <td>2011-12-27</td>\n",
       "      <td>0.005357</td>\n",
       "      <td>-0.001794</td>\n",
       "      <td>2011-12</td>\n",
       "      <td>T-3_T-1</td>\n",
       "      <td>1</td>\n",
       "    </tr>\n",
       "    <tr>\n",
       "      <th>2399078</th>\n",
       "      <td>10001</td>\n",
       "      <td>2011-12-28</td>\n",
       "      <td>0.042068</td>\n",
       "      <td>0.016173</td>\n",
       "      <td>2011-12</td>\n",
       "      <td>T-3_T-1</td>\n",
       "      <td>1</td>\n",
       "    </tr>\n",
       "    <tr>\n",
       "      <th>2399079</th>\n",
       "      <td>10001</td>\n",
       "      <td>2011-12-29</td>\n",
       "      <td>0.027782</td>\n",
       "      <td>0.006189</td>\n",
       "      <td>2011-12</td>\n",
       "      <td>T-3_T-1</td>\n",
       "      <td>1</td>\n",
       "    </tr>\n",
       "    <tr>\n",
       "      <th>2399080</th>\n",
       "      <td>10001</td>\n",
       "      <td>2011-12-30</td>\n",
       "      <td>0.049106</td>\n",
       "      <td>0.003515</td>\n",
       "      <td>2011-12</td>\n",
       "      <td>T</td>\n",
       "      <td>1</td>\n",
       "    </tr>\n",
       "  </tbody>\n",
       "</table>\n",
       "<p>358 rows × 7 columns</p>\n",
       "</div>"
      ],
      "text/plain": [
       "         permno       date      beta       ret    month period_label  bin\n",
       "0         10001 2010-03-31  0.014376  0.004792  2010-03            T    1\n",
       "5712      10001 2010-04-01  0.027202  0.007866  2010-04      T+1_T+3    1\n",
       "5713      10001 2010-04-05  0.040597  0.006829  2010-04      T+1_T+3    1\n",
       "5714      10001 2010-04-06  0.050550  0.002907  2010-04      T+1_T+3    1\n",
       "5715      10001 2010-04-07  0.072855  0.006512  2010-04      T+4_T+8    2\n",
       "...         ...        ...       ...       ...      ...          ...  ...\n",
       "2399076   10001 2011-12-23 -0.006478  0.015483  2011-12      T-8_T-4    1\n",
       "2399077   10001 2011-12-27  0.005357 -0.001794  2011-12      T-3_T-1    1\n",
       "2399078   10001 2011-12-28  0.042068  0.016173  2011-12      T-3_T-1    1\n",
       "2399079   10001 2011-12-29  0.027782  0.006189  2011-12      T-3_T-1    1\n",
       "2399080   10001 2011-12-30  0.049106  0.003515  2011-12            T    1\n",
       "\n",
       "[358 rows x 7 columns]"
      ]
     },
     "execution_count": 40,
     "metadata": {},
     "output_type": "execute_result"
    }
   ],
   "source": [
    "beta_df[beta_df['permno'] == 10001]"
   ]
  },
  {
   "cell_type": "code",
   "execution_count": 41,
   "metadata": {},
   "outputs": [
    {
     "name": "stderr",
     "output_type": "stream",
     "text": [
      "/var/folders/40/m24m56td08b_d5vqj9mv7ty40000gn/T/ipykernel_41652/2531489733.py:2: DeprecationWarning: DataFrameGroupBy.apply operated on the grouping columns. This behavior is deprecated, and in a future version of pandas the grouping columns will be excluded from the operation. Either pass `include_groups=False` to exclude the groupings or explicitly select the grouping columns after groupby to silence this warning.\n",
      "  bins = beta_df.groupby(['period_label', 'bin']).apply(\n"
     ]
    }
   ],
   "source": [
    "# TODO: add value weighted\n",
    "bins = beta_df.groupby(['period_label', 'bin']).apply(\n",
    "    lambda g: pd.Series({\n",
    "        'EW': g['ret'].mean(),\n",
    "    })\n",
    ").reset_index()"
   ]
  },
  {
   "cell_type": "code",
   "execution_count": 42,
   "metadata": {},
   "outputs": [
    {
     "data": {
      "application/vnd.microsoft.datawrangler.viewer.v0+json": {
       "columns": [
        {
         "name": "index",
         "rawType": "int64",
         "type": "integer"
        },
        {
         "name": "period_label",
         "rawType": "object",
         "type": "string"
        },
        {
         "name": "bin",
         "rawType": "int64",
         "type": "integer"
        },
        {
         "name": "EW",
         "rawType": "float64",
         "type": "float"
        }
       ],
       "conversionMethod": "pd.DataFrame",
       "ref": "36624371-8ec0-42cc-9318-3b86c9a4a440",
       "rows": [
        [
         "0",
         "T",
         "1",
         "0.002817932159216553"
        ],
        [
         "1",
         "T",
         "2",
         "0.002005510207323854"
        ],
        [
         "2",
         "T",
         "3",
         "0.001119999283097021"
        ],
        [
         "3",
         "T",
         "4",
         "0.0009362993772952259"
        ],
        [
         "4",
         "T",
         "5",
         "-0.00047101245807379047"
        ],
        [
         "5",
         "T",
         "6",
         "-0.00033010744264129845"
        ],
        [
         "6",
         "T",
         "7",
         "-0.0012757417600000004"
        ],
        [
         "7",
         "T",
         "8",
         "-0.0010911728740409213"
        ],
        [
         "8",
         "T",
         "9",
         "-0.0006956123379740763"
        ],
        [
         "9",
         "T",
         "10",
         "-0.0012265024347409594"
        ],
        [
         "10",
         "T+1_T+3",
         "1",
         "0.00012153212755830562"
        ],
        [
         "11",
         "T+1_T+3",
         "2",
         "-0.00012063208944793848"
        ],
        [
         "12",
         "T+1_T+3",
         "3",
         "0.0004401008429161549"
        ],
        [
         "13",
         "T+1_T+3",
         "4",
         "0.0005200735400949986"
        ],
        [
         "14",
         "T+1_T+3",
         "5",
         "0.0008920493172107575"
        ],
        [
         "15",
         "T+1_T+3",
         "6",
         "0.0011834830778697696"
        ],
        [
         "16",
         "T+1_T+3",
         "7",
         "0.0013210689414263357"
        ],
        [
         "17",
         "T+1_T+3",
         "8",
         "0.001553569878642134"
        ],
        [
         "18",
         "T+1_T+3",
         "9",
         "0.0015724572059481218"
        ],
        [
         "19",
         "T+1_T+3",
         "10",
         "0.0019647112402559307"
        ],
        [
         "20",
         "T+4_T+8",
         "1",
         "-0.000221028282282181"
        ],
        [
         "21",
         "T+4_T+8",
         "2",
         "-0.0002687824267076237"
        ],
        [
         "22",
         "T+4_T+8",
         "3",
         "-0.00036461633629989213"
        ],
        [
         "23",
         "T+4_T+8",
         "4",
         "-0.0003299543466559009"
        ],
        [
         "24",
         "T+4_T+8",
         "5",
         "-0.0005736014467154514"
        ],
        [
         "25",
         "T+4_T+8",
         "6",
         "-0.0006903602341345262"
        ],
        [
         "26",
         "T+4_T+8",
         "7",
         "-0.0009022037656552074"
        ],
        [
         "27",
         "T+4_T+8",
         "8",
         "-0.000755563978494624"
        ],
        [
         "28",
         "T+4_T+8",
         "9",
         "-0.0008895835770717769"
        ],
        [
         "29",
         "T+4_T+8",
         "10",
         "-0.0009438426964405641"
        ],
        [
         "30",
         "T-3_T-1",
         "1",
         "0.0008223417297087594"
        ],
        [
         "31",
         "T-3_T-1",
         "2",
         "0.00105504566705627"
        ],
        [
         "32",
         "T-3_T-1",
         "3",
         "0.0018098895924572513"
        ],
        [
         "33",
         "T-3_T-1",
         "4",
         "0.002253078884951307"
        ],
        [
         "34",
         "T-3_T-1",
         "5",
         "0.002574479725201073"
        ],
        [
         "35",
         "T-3_T-1",
         "6",
         "0.003065640703658127"
        ],
        [
         "36",
         "T-3_T-1",
         "7",
         "0.0034170385550926835"
        ],
        [
         "37",
         "T-3_T-1",
         "8",
         "0.003690202978735295"
        ],
        [
         "38",
         "T-3_T-1",
         "9",
         "0.004141823044462455"
        ],
        [
         "39",
         "T-3_T-1",
         "10",
         "0.004799581587620803"
        ],
        [
         "40",
         "T-8_T-4",
         "1",
         "0.0004510001005075631"
        ],
        [
         "41",
         "T-8_T-4",
         "2",
         "-1.7751770074829753e-05"
        ],
        [
         "42",
         "T-8_T-4",
         "3",
         "-0.00023283805076346764"
        ],
        [
         "43",
         "T-8_T-4",
         "4",
         "-0.00020814216377804652"
        ],
        [
         "44",
         "T-8_T-4",
         "5",
         "-0.00023119237673427617"
        ],
        [
         "45",
         "T-8_T-4",
         "6",
         "-0.0005043440374672666"
        ],
        [
         "46",
         "T-8_T-4",
         "7",
         "-0.0002814784725953789"
        ],
        [
         "47",
         "T-8_T-4",
         "8",
         "-0.000407235654568042"
        ],
        [
         "48",
         "T-8_T-4",
         "9",
         "-0.0003030280734745961"
        ],
        [
         "49",
         "T-8_T-4",
         "10",
         "-0.0006410918160325947"
        ]
       ],
       "shape": {
        "columns": 3,
        "rows": 50
       }
      },
      "text/html": [
       "<div>\n",
       "<style scoped>\n",
       "    .dataframe tbody tr th:only-of-type {\n",
       "        vertical-align: middle;\n",
       "    }\n",
       "\n",
       "    .dataframe tbody tr th {\n",
       "        vertical-align: top;\n",
       "    }\n",
       "\n",
       "    .dataframe thead th {\n",
       "        text-align: right;\n",
       "    }\n",
       "</style>\n",
       "<table border=\"1\" class=\"dataframe\">\n",
       "  <thead>\n",
       "    <tr style=\"text-align: right;\">\n",
       "      <th></th>\n",
       "      <th>period_label</th>\n",
       "      <th>bin</th>\n",
       "      <th>EW</th>\n",
       "    </tr>\n",
       "  </thead>\n",
       "  <tbody>\n",
       "    <tr>\n",
       "      <th>0</th>\n",
       "      <td>T</td>\n",
       "      <td>1</td>\n",
       "      <td>0.002818</td>\n",
       "    </tr>\n",
       "    <tr>\n",
       "      <th>1</th>\n",
       "      <td>T</td>\n",
       "      <td>2</td>\n",
       "      <td>0.002006</td>\n",
       "    </tr>\n",
       "    <tr>\n",
       "      <th>2</th>\n",
       "      <td>T</td>\n",
       "      <td>3</td>\n",
       "      <td>0.001120</td>\n",
       "    </tr>\n",
       "    <tr>\n",
       "      <th>3</th>\n",
       "      <td>T</td>\n",
       "      <td>4</td>\n",
       "      <td>0.000936</td>\n",
       "    </tr>\n",
       "    <tr>\n",
       "      <th>4</th>\n",
       "      <td>T</td>\n",
       "      <td>5</td>\n",
       "      <td>-0.000471</td>\n",
       "    </tr>\n",
       "    <tr>\n",
       "      <th>5</th>\n",
       "      <td>T</td>\n",
       "      <td>6</td>\n",
       "      <td>-0.000330</td>\n",
       "    </tr>\n",
       "    <tr>\n",
       "      <th>6</th>\n",
       "      <td>T</td>\n",
       "      <td>7</td>\n",
       "      <td>-0.001276</td>\n",
       "    </tr>\n",
       "    <tr>\n",
       "      <th>7</th>\n",
       "      <td>T</td>\n",
       "      <td>8</td>\n",
       "      <td>-0.001091</td>\n",
       "    </tr>\n",
       "    <tr>\n",
       "      <th>8</th>\n",
       "      <td>T</td>\n",
       "      <td>9</td>\n",
       "      <td>-0.000696</td>\n",
       "    </tr>\n",
       "    <tr>\n",
       "      <th>9</th>\n",
       "      <td>T</td>\n",
       "      <td>10</td>\n",
       "      <td>-0.001227</td>\n",
       "    </tr>\n",
       "    <tr>\n",
       "      <th>10</th>\n",
       "      <td>T+1_T+3</td>\n",
       "      <td>1</td>\n",
       "      <td>0.000122</td>\n",
       "    </tr>\n",
       "    <tr>\n",
       "      <th>11</th>\n",
       "      <td>T+1_T+3</td>\n",
       "      <td>2</td>\n",
       "      <td>-0.000121</td>\n",
       "    </tr>\n",
       "    <tr>\n",
       "      <th>12</th>\n",
       "      <td>T+1_T+3</td>\n",
       "      <td>3</td>\n",
       "      <td>0.000440</td>\n",
       "    </tr>\n",
       "    <tr>\n",
       "      <th>13</th>\n",
       "      <td>T+1_T+3</td>\n",
       "      <td>4</td>\n",
       "      <td>0.000520</td>\n",
       "    </tr>\n",
       "    <tr>\n",
       "      <th>14</th>\n",
       "      <td>T+1_T+3</td>\n",
       "      <td>5</td>\n",
       "      <td>0.000892</td>\n",
       "    </tr>\n",
       "    <tr>\n",
       "      <th>15</th>\n",
       "      <td>T+1_T+3</td>\n",
       "      <td>6</td>\n",
       "      <td>0.001183</td>\n",
       "    </tr>\n",
       "    <tr>\n",
       "      <th>16</th>\n",
       "      <td>T+1_T+3</td>\n",
       "      <td>7</td>\n",
       "      <td>0.001321</td>\n",
       "    </tr>\n",
       "    <tr>\n",
       "      <th>17</th>\n",
       "      <td>T+1_T+3</td>\n",
       "      <td>8</td>\n",
       "      <td>0.001554</td>\n",
       "    </tr>\n",
       "    <tr>\n",
       "      <th>18</th>\n",
       "      <td>T+1_T+3</td>\n",
       "      <td>9</td>\n",
       "      <td>0.001572</td>\n",
       "    </tr>\n",
       "    <tr>\n",
       "      <th>19</th>\n",
       "      <td>T+1_T+3</td>\n",
       "      <td>10</td>\n",
       "      <td>0.001965</td>\n",
       "    </tr>\n",
       "    <tr>\n",
       "      <th>20</th>\n",
       "      <td>T+4_T+8</td>\n",
       "      <td>1</td>\n",
       "      <td>-0.000221</td>\n",
       "    </tr>\n",
       "    <tr>\n",
       "      <th>21</th>\n",
       "      <td>T+4_T+8</td>\n",
       "      <td>2</td>\n",
       "      <td>-0.000269</td>\n",
       "    </tr>\n",
       "    <tr>\n",
       "      <th>22</th>\n",
       "      <td>T+4_T+8</td>\n",
       "      <td>3</td>\n",
       "      <td>-0.000365</td>\n",
       "    </tr>\n",
       "    <tr>\n",
       "      <th>23</th>\n",
       "      <td>T+4_T+8</td>\n",
       "      <td>4</td>\n",
       "      <td>-0.000330</td>\n",
       "    </tr>\n",
       "    <tr>\n",
       "      <th>24</th>\n",
       "      <td>T+4_T+8</td>\n",
       "      <td>5</td>\n",
       "      <td>-0.000574</td>\n",
       "    </tr>\n",
       "    <tr>\n",
       "      <th>25</th>\n",
       "      <td>T+4_T+8</td>\n",
       "      <td>6</td>\n",
       "      <td>-0.000690</td>\n",
       "    </tr>\n",
       "    <tr>\n",
       "      <th>26</th>\n",
       "      <td>T+4_T+8</td>\n",
       "      <td>7</td>\n",
       "      <td>-0.000902</td>\n",
       "    </tr>\n",
       "    <tr>\n",
       "      <th>27</th>\n",
       "      <td>T+4_T+8</td>\n",
       "      <td>8</td>\n",
       "      <td>-0.000756</td>\n",
       "    </tr>\n",
       "    <tr>\n",
       "      <th>28</th>\n",
       "      <td>T+4_T+8</td>\n",
       "      <td>9</td>\n",
       "      <td>-0.000890</td>\n",
       "    </tr>\n",
       "    <tr>\n",
       "      <th>29</th>\n",
       "      <td>T+4_T+8</td>\n",
       "      <td>10</td>\n",
       "      <td>-0.000944</td>\n",
       "    </tr>\n",
       "    <tr>\n",
       "      <th>30</th>\n",
       "      <td>T-3_T-1</td>\n",
       "      <td>1</td>\n",
       "      <td>0.000822</td>\n",
       "    </tr>\n",
       "    <tr>\n",
       "      <th>31</th>\n",
       "      <td>T-3_T-1</td>\n",
       "      <td>2</td>\n",
       "      <td>0.001055</td>\n",
       "    </tr>\n",
       "    <tr>\n",
       "      <th>32</th>\n",
       "      <td>T-3_T-1</td>\n",
       "      <td>3</td>\n",
       "      <td>0.001810</td>\n",
       "    </tr>\n",
       "    <tr>\n",
       "      <th>33</th>\n",
       "      <td>T-3_T-1</td>\n",
       "      <td>4</td>\n",
       "      <td>0.002253</td>\n",
       "    </tr>\n",
       "    <tr>\n",
       "      <th>34</th>\n",
       "      <td>T-3_T-1</td>\n",
       "      <td>5</td>\n",
       "      <td>0.002574</td>\n",
       "    </tr>\n",
       "    <tr>\n",
       "      <th>35</th>\n",
       "      <td>T-3_T-1</td>\n",
       "      <td>6</td>\n",
       "      <td>0.003066</td>\n",
       "    </tr>\n",
       "    <tr>\n",
       "      <th>36</th>\n",
       "      <td>T-3_T-1</td>\n",
       "      <td>7</td>\n",
       "      <td>0.003417</td>\n",
       "    </tr>\n",
       "    <tr>\n",
       "      <th>37</th>\n",
       "      <td>T-3_T-1</td>\n",
       "      <td>8</td>\n",
       "      <td>0.003690</td>\n",
       "    </tr>\n",
       "    <tr>\n",
       "      <th>38</th>\n",
       "      <td>T-3_T-1</td>\n",
       "      <td>9</td>\n",
       "      <td>0.004142</td>\n",
       "    </tr>\n",
       "    <tr>\n",
       "      <th>39</th>\n",
       "      <td>T-3_T-1</td>\n",
       "      <td>10</td>\n",
       "      <td>0.004800</td>\n",
       "    </tr>\n",
       "    <tr>\n",
       "      <th>40</th>\n",
       "      <td>T-8_T-4</td>\n",
       "      <td>1</td>\n",
       "      <td>0.000451</td>\n",
       "    </tr>\n",
       "    <tr>\n",
       "      <th>41</th>\n",
       "      <td>T-8_T-4</td>\n",
       "      <td>2</td>\n",
       "      <td>-0.000018</td>\n",
       "    </tr>\n",
       "    <tr>\n",
       "      <th>42</th>\n",
       "      <td>T-8_T-4</td>\n",
       "      <td>3</td>\n",
       "      <td>-0.000233</td>\n",
       "    </tr>\n",
       "    <tr>\n",
       "      <th>43</th>\n",
       "      <td>T-8_T-4</td>\n",
       "      <td>4</td>\n",
       "      <td>-0.000208</td>\n",
       "    </tr>\n",
       "    <tr>\n",
       "      <th>44</th>\n",
       "      <td>T-8_T-4</td>\n",
       "      <td>5</td>\n",
       "      <td>-0.000231</td>\n",
       "    </tr>\n",
       "    <tr>\n",
       "      <th>45</th>\n",
       "      <td>T-8_T-4</td>\n",
       "      <td>6</td>\n",
       "      <td>-0.000504</td>\n",
       "    </tr>\n",
       "    <tr>\n",
       "      <th>46</th>\n",
       "      <td>T-8_T-4</td>\n",
       "      <td>7</td>\n",
       "      <td>-0.000281</td>\n",
       "    </tr>\n",
       "    <tr>\n",
       "      <th>47</th>\n",
       "      <td>T-8_T-4</td>\n",
       "      <td>8</td>\n",
       "      <td>-0.000407</td>\n",
       "    </tr>\n",
       "    <tr>\n",
       "      <th>48</th>\n",
       "      <td>T-8_T-4</td>\n",
       "      <td>9</td>\n",
       "      <td>-0.000303</td>\n",
       "    </tr>\n",
       "    <tr>\n",
       "      <th>49</th>\n",
       "      <td>T-8_T-4</td>\n",
       "      <td>10</td>\n",
       "      <td>-0.000641</td>\n",
       "    </tr>\n",
       "  </tbody>\n",
       "</table>\n",
       "</div>"
      ],
      "text/plain": [
       "   period_label  bin        EW\n",
       "0             T    1  0.002818\n",
       "1             T    2  0.002006\n",
       "2             T    3  0.001120\n",
       "3             T    4  0.000936\n",
       "4             T    5 -0.000471\n",
       "5             T    6 -0.000330\n",
       "6             T    7 -0.001276\n",
       "7             T    8 -0.001091\n",
       "8             T    9 -0.000696\n",
       "9             T   10 -0.001227\n",
       "10      T+1_T+3    1  0.000122\n",
       "11      T+1_T+3    2 -0.000121\n",
       "12      T+1_T+3    3  0.000440\n",
       "13      T+1_T+3    4  0.000520\n",
       "14      T+1_T+3    5  0.000892\n",
       "15      T+1_T+3    6  0.001183\n",
       "16      T+1_T+3    7  0.001321\n",
       "17      T+1_T+3    8  0.001554\n",
       "18      T+1_T+3    9  0.001572\n",
       "19      T+1_T+3   10  0.001965\n",
       "20      T+4_T+8    1 -0.000221\n",
       "21      T+4_T+8    2 -0.000269\n",
       "22      T+4_T+8    3 -0.000365\n",
       "23      T+4_T+8    4 -0.000330\n",
       "24      T+4_T+8    5 -0.000574\n",
       "25      T+4_T+8    6 -0.000690\n",
       "26      T+4_T+8    7 -0.000902\n",
       "27      T+4_T+8    8 -0.000756\n",
       "28      T+4_T+8    9 -0.000890\n",
       "29      T+4_T+8   10 -0.000944\n",
       "30      T-3_T-1    1  0.000822\n",
       "31      T-3_T-1    2  0.001055\n",
       "32      T-3_T-1    3  0.001810\n",
       "33      T-3_T-1    4  0.002253\n",
       "34      T-3_T-1    5  0.002574\n",
       "35      T-3_T-1    6  0.003066\n",
       "36      T-3_T-1    7  0.003417\n",
       "37      T-3_T-1    8  0.003690\n",
       "38      T-3_T-1    9  0.004142\n",
       "39      T-3_T-1   10  0.004800\n",
       "40      T-8_T-4    1  0.000451\n",
       "41      T-8_T-4    2 -0.000018\n",
       "42      T-8_T-4    3 -0.000233\n",
       "43      T-8_T-4    4 -0.000208\n",
       "44      T-8_T-4    5 -0.000231\n",
       "45      T-8_T-4    6 -0.000504\n",
       "46      T-8_T-4    7 -0.000281\n",
       "47      T-8_T-4    8 -0.000407\n",
       "48      T-8_T-4    9 -0.000303\n",
       "49      T-8_T-4   10 -0.000641"
      ]
     },
     "execution_count": 42,
     "metadata": {},
     "output_type": "execute_result"
    }
   ],
   "source": [
    "bins"
   ]
  },
  {
   "cell_type": "code",
   "execution_count": 44,
   "metadata": {},
   "outputs": [
    {
     "data": {
      "image/png": "[encoded data removed]",
      "text/plain": [
       "<Figure size 1000x600 with 1 Axes>"
      ]
     },
     "metadata": {},
     "output_type": "display_data"
    },
    {
     "data": {
      "image/png": "[encoded data removed]",
      "text/plain": [
       "<Figure size 1000x600 with 1 Axes>"
      ]
     },
     "metadata": {},
     "output_type": "display_data"
    },
    {
     "data": {
      "image/png": "[encoded data removed]",
      "text/plain": [
       "<Figure size 1000x600 with 1 Axes>"
      ]
     },
     "metadata": {},
     "output_type": "display_data"
    },
    {
     "data": {
      "image/png": "[encoded data removed]",
      "text/plain": [
       "<Figure size 1000x600 with 1 Axes>"
      ]
     },
     "metadata": {},
     "output_type": "display_data"
    },
    {
     "data": {
      "image/png": "[encoded data removed]",
      "text/plain": [
       "<Figure size 1000x600 with 1 Axes>"
      ]
     },
     "metadata": {},
     "output_type": "display_data"
    }
   ],
   "source": [
    "unique_period_label = bins['period_label'].unique()\n",
    "num_days = len(unique_period_label)\n",
    "\n",
    "# Plot each trading day\n",
    "for i, day in enumerate(unique_period_label, 1):\n",
    "    plt.figure(figsize=(10, 6))  # Adjust the size as needed\n",
    "    day_data = bins[bins['period_label'] == day]\n",
    "    plt.bar(day_data['bin'], day_data['EW'], color='skyblue')\n",
    "    plt.title(f'Trading Day {day}')\n",
    "    plt.xlabel('Bin')\n",
    "    plt.ylabel('EW')\n",
    "    plt.xticks(range(1, 11))  # Ensure bins are labeled from 1 to 10\n",
    "\n",
    "# Adjust layout to prevent overlap\n",
    "plt.tight_layout()\n",
    "plt.show()"
   ]
  }
 ],
 "metadata": {
  "kernelspec": {
   "display_name": "Python 3",
   "language": "python",
   "name": "python3"
  },
  "language_info": {
   "codemirror_mode": {
    "name": "ipython",
    "version": 3
   },
   "file_extension": ".py",
   "mimetype": "text/x-python",
   "name": "python",
   "nbconvert_exporter": "python",
   "pygments_lexer": "ipython3",
   "version": "3.9.21"
  }
 },
 "nbformat": 4,
 "nbformat_minor": 2
}
