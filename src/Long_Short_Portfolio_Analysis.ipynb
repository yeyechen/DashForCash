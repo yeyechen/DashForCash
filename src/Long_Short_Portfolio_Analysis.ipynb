{
 "cells": [
  {
   "cell_type": "markdown",
   "metadata": {},
   "source": [
    "### DashForCash"
   ]
  },
  {
   "cell_type": "code",
   "execution_count": 1,
   "metadata": {},
   "outputs": [],
   "source": [
    "import pandas as pd\n",
    "import numpy as np\n",
    "import matplotlib.pyplot as plt\n",
    "import statsmodels.api as sm\n",
    "import os\n",
    "import duckdb"
   ]
  },
  {
   "cell_type": "code",
   "execution_count": 2,
   "metadata": {},
   "outputs": [
    {
     "name": "stdout",
     "output_type": "stream",
     "text": [
      "Change directory to data path: ../Mikey_data\n"
     ]
    }
   ],
   "source": [
    "data_path = '../Mikey_data'\n",
    "if os.path.exists(data_path):\n",
    "    os.chdir(data_path)\n",
    "    print(f'Change directory to data path: {data_path}')\n",
    "else:\n",
    "    print('Please point to the correct data path!')"
   ]
  },
  {
   "cell_type": "markdown",
   "metadata": {},
   "source": [
    "#### preprocessing data"
   ]
  },
  {
   "cell_type": "code",
   "execution_count": null,
   "metadata": {},
   "outputs": [],
   "source": [
    "# loading data\n",
    "\n",
    "# standard CRSP exchange codes:\n",
    "# 1 = NYSE\n",
    "# 2 = AMEX\n",
    "# 3 = NASDAQ\n",
    "# 4 = NYSE Arca (includes SPY)\n",
    "# 11 = NYSE MKT\n",
    "\n",
    "con = duckdb.connect()\n",
    "\n",
    "start_date = '1995-01-01'\n",
    "end_date = '2024-01-01'\n",
    "\n",
    "# Query:\n",
    "# 1. join with delisting adjusted data\n",
    "# 2. join with market data\n",
    "# 3. filter by exchange\n",
    "# 4. make sure the return is not null\n",
    "query_data = (f\"\"\"\n",
    "    SELECT \n",
    "    dsf.permno,\n",
    "    dsf.dlycaldt AS date,\n",
    "    dsf.dlyret AS ret,\n",
    "    dsf.shrout AS shares_outstanding,\n",
    "    (dsf.shrout * dsf.dlyprc) AS market_cap,\n",
    "    mkt.mkt_rf,\n",
    "    mkt.rf,\n",
    "    (dsf.dlyret - mkt.rf) AS ret_rf\n",
    "    FROM read_parquet('crsp_202401.dsf_v2.parquet') AS dsf \n",
    "    JOIN (\n",
    "        SELECT permno, namedt, nameendt, hexcd AS exchange\n",
    "        FROM read_parquet('crsp_202401.dsenames.parquet')\n",
    "    ) AS dsenames\n",
    "    ON dsf.permno = dsenames.permno\n",
    "              \n",
    "    /* Need to do date between namedt and nameendt */\n",
    "    AND dsf.dlycaldt BETWEEN dsenames.namedt AND dsenames.nameendt\n",
    "    \n",
    "    JOIN (\n",
    "        SELECT dt, mkt_rf, rf\n",
    "        FROM read_parquet('ff.four_factor.parquet')\n",
    "    ) AS mkt\n",
    "    ON dsf.dlycaldt = mkt.dt\n",
    "    WHERE dsf.dlycaldt BETWEEN '{start_date}' AND '{end_date}'\n",
    "    AND dsenames.exchange IN (1, 2, 3)\n",
    "    AND dsf.dlyret IS NOT NULL\n",
    "\"\"\")\n",
    "\n",
    "crsp_d = con.execute(query_data).fetch_df()\n",
    "crsp_d['date'] = pd.to_datetime(crsp_d['date'])\n",
    "con.close()\n",
    "crsp_d"
   ]
  },
  {
   "cell_type": "code",
   "execution_count": 7,
   "metadata": {},
   "outputs": [
    {
     "name": "stdout",
     "output_type": "stream",
     "text": [
      "Number of unique permnos: 22602\n"
     ]
    }
   ],
   "source": [
    "print(f'Number of unique permnos: {crsp_d[\"permno\"].nunique()}')"
   ]
  },
  {
   "cell_type": "markdown",
   "metadata": {},
   "source": [
    "#### Run regressions to get beta - multi-process"
   ]
  },
  {
   "cell_type": "code",
   "execution_count": 8,
   "metadata": {},
   "outputs": [],
   "source": [
    "# calculate the average of the rolling betas\n",
    "def calc_rolling_beta(df: pd.DataFrame, window_size=60, step=1) -> dict:\n",
    "    # use a rolling window approach with a fixed window size\n",
    "    betas = {}\n",
    "    \n",
    "    for i in range(window_size, len(df), step):\n",
    "        window_data = df.iloc[i - window_size:i]\n",
    "        X = sm.add_constant(window_data['mkt_rf'])\n",
    "        y = window_data['ret_rf']\n",
    "        model = sm.OLS(y, X, missing='drop')\n",
    "        results = model.fit()\n",
    "        date_label = df.iloc[i]['date']\n",
    "        betas[date_label] = results.params['mkt_rf']\n",
    "         \n",
    "    return betas"
   ]
  },
  {
   "cell_type": "code",
   "execution_count": 9,
   "metadata": {},
   "outputs": [
    {
     "name": "stderr",
     "output_type": "stream",
     "text": [
      "100%|██████████| 22329/22329 [35:22<00:00, 10.52it/s]\n"
     ]
    }
   ],
   "source": [
    "from joblib import Parallel, delayed\n",
    "from tqdm import tqdm\n",
    "\n",
    "# pre-filter groups with sufficient data\n",
    "groups = [(permno, group) for permno, group in crsp_d.groupby('permno') if len(group) > 60]\n",
    "\n",
    "# sort each group by date\n",
    "groups = [(permno, group.sort_values(by='date')) for permno, group in groups]\n",
    "\n",
    "def process_group(permno, group):\n",
    "    return (permno, calc_rolling_beta(group))\n",
    "\n",
    "# process in parallel with progress bar\n",
    "results = Parallel(n_jobs=-1)(\n",
    "    delayed(process_group)(permno, group) \n",
    "    for permno, group in tqdm(groups)\n",
    ")\n",
    "\n",
    "beta_dict = {permno: beta for permno, beta in results}"
   ]
  },
  {
   "cell_type": "code",
   "execution_count": 10,
   "metadata": {},
   "outputs": [],
   "source": [
    "beta_df = pd.DataFrame.from_dict(beta_dict, orient=\"index\").stack().reset_index()\n",
    "beta_df.columns = [\"permno\", \"date\", \"beta\"]"
   ]
  },
  {
   "cell_type": "code",
   "execution_count": 3,
   "metadata": {},
   "outputs": [
    {
     "data": {
      "application/vnd.microsoft.datawrangler.viewer.v0+json": {
       "columns": [
        {
         "name": "index",
         "rawType": "int64",
         "type": "integer"
        },
        {
         "name": "permno",
         "rawType": "int64",
         "type": "integer"
        },
        {
         "name": "date",
         "rawType": "datetime64[ns]",
         "type": "datetime"
        },
        {
         "name": "beta",
         "rawType": "float64",
         "type": "float"
        }
       ],
       "conversionMethod": "pd.DataFrame",
       "ref": "d7dd818a-cbf0-4252-8582-c5138096b80e",
       "rows": [
        [
         "0",
         "10001",
         "1995-03-29 00:00:00",
         "0.1641376669298351"
        ],
        [
         "1",
         "10001",
         "1995-03-30 00:00:00",
         "0.25075232009837134"
        ],
        [
         "2",
         "10001",
         "1995-03-31 00:00:00",
         "0.4047268647335996"
        ],
        [
         "3",
         "10001",
         "1995-04-03 00:00:00",
         "0.4181375761706857"
        ],
        [
         "4",
         "10001",
         "1995-04-04 00:00:00",
         "0.4013604080173716"
        ],
        [
         "5",
         "10001",
         "1995-04-05 00:00:00",
         "0.46778605548742164"
        ],
        [
         "6",
         "10001",
         "1995-04-06 00:00:00",
         "0.42355472504623515"
        ],
        [
         "7",
         "10001",
         "1995-04-07 00:00:00",
         "0.42494794809641145"
        ],
        [
         "8",
         "10001",
         "1995-04-10 00:00:00",
         "0.4048887962172759"
        ],
        [
         "9",
         "10001",
         "1995-04-11 00:00:00",
         "0.05689713701431476"
        ],
        [
         "10",
         "10001",
         "1995-04-12 00:00:00",
         "-0.03986619281765"
        ],
        [
         "11",
         "10001",
         "1995-04-13 00:00:00",
         "-0.039390893379016106"
        ],
        [
         "12",
         "10001",
         "1995-04-17 00:00:00",
         "-0.030887519084083936"
        ],
        [
         "13",
         "10001",
         "1995-04-18 00:00:00",
         "0.14981343293552685"
        ],
        [
         "14",
         "10001",
         "1995-04-19 00:00:00",
         "0.007878508150918062"
        ],
        [
         "15",
         "10001",
         "1995-04-20 00:00:00",
         "0.2772537261606807"
        ],
        [
         "16",
         "10001",
         "1995-04-21 00:00:00",
         "0.32291595784889027"
        ],
        [
         "17",
         "10001",
         "1995-04-24 00:00:00",
         "0.17286698717526075"
        ],
        [
         "18",
         "10001",
         "1995-04-25 00:00:00",
         "0.16081137638194137"
        ],
        [
         "19",
         "10001",
         "1995-04-26 00:00:00",
         "0.037870052516482317"
        ],
        [
         "20",
         "10001",
         "1995-04-27 00:00:00",
         "0.06624785016002419"
        ],
        [
         "21",
         "10001",
         "1995-04-28 00:00:00",
         "-0.048609509033767734"
        ],
        [
         "22",
         "10001",
         "1995-05-01 00:00:00",
         "-0.04312621443816855"
        ],
        [
         "23",
         "10001",
         "1995-05-02 00:00:00",
         "-0.41779817906700395"
        ],
        [
         "24",
         "10001",
         "1995-05-03 00:00:00",
         "-0.888501644603826"
        ],
        [
         "25",
         "10001",
         "1995-05-04 00:00:00",
         "-0.01371812275467213"
        ],
        [
         "26",
         "10001",
         "1995-05-05 00:00:00",
         "0.3044429827155132"
        ],
        [
         "27",
         "10001",
         "1995-05-08 00:00:00",
         "0.06853865102566867"
        ],
        [
         "28",
         "10001",
         "1995-05-09 00:00:00",
         "0.03546369815781683"
        ],
        [
         "29",
         "10001",
         "1995-05-10 00:00:00",
         "0.13417551457248564"
        ],
        [
         "30",
         "10001",
         "1995-05-11 00:00:00",
         "0.16280192591868403"
        ],
        [
         "31",
         "10001",
         "1995-05-12 00:00:00",
         "0.23194074501252507"
        ],
        [
         "32",
         "10001",
         "1995-05-15 00:00:00",
         "0.5013039655928162"
        ],
        [
         "33",
         "10001",
         "1995-05-16 00:00:00",
         "0.4584680832094873"
        ],
        [
         "34",
         "10001",
         "1995-05-17 00:00:00",
         "0.47591207508748845"
        ],
        [
         "35",
         "10001",
         "1995-05-18 00:00:00",
         "0.40856229690100637"
        ],
        [
         "36",
         "10001",
         "1995-05-19 00:00:00",
         "1.0763436385063687"
        ],
        [
         "37",
         "10001",
         "1995-05-22 00:00:00",
         "0.9364762397840675"
        ],
        [
         "38",
         "10001",
         "1995-05-23 00:00:00",
         "1.2120752520770661"
        ],
        [
         "39",
         "10001",
         "1995-05-24 00:00:00",
         "1.2304336259557733"
        ],
        [
         "40",
         "10001",
         "1995-05-25 00:00:00",
         "1.4864700490116745"
        ],
        [
         "41",
         "10001",
         "1995-05-26 00:00:00",
         "1.5471269040616322"
        ],
        [
         "42",
         "10001",
         "1995-05-30 00:00:00",
         "2.2253729105379585"
        ],
        [
         "43",
         "10001",
         "1995-05-31 00:00:00",
         "2.061719079343571"
        ],
        [
         "44",
         "10001",
         "1995-06-01 00:00:00",
         "1.752197392698053"
        ],
        [
         "45",
         "10001",
         "1995-06-02 00:00:00",
         "1.608575918500521"
        ],
        [
         "46",
         "10001",
         "1995-06-05 00:00:00",
         "1.5878238784485108"
        ],
        [
         "47",
         "10001",
         "1995-06-06 00:00:00",
         "1.7528459429929653"
        ],
        [
         "48",
         "10001",
         "1995-06-07 00:00:00",
         "1.8301760268937044"
        ],
        [
         "49",
         "10001",
         "1995-06-08 00:00:00",
         "1.8129228204421524"
        ]
       ],
       "shape": {
        "columns": 3,
        "rows": 47836121
       }
      },
      "text/html": [
       "<div>\n",
       "<style scoped>\n",
       "    .dataframe tbody tr th:only-of-type {\n",
       "        vertical-align: middle;\n",
       "    }\n",
       "\n",
       "    .dataframe tbody tr th {\n",
       "        vertical-align: top;\n",
       "    }\n",
       "\n",
       "    .dataframe thead th {\n",
       "        text-align: right;\n",
       "    }\n",
       "</style>\n",
       "<table border=\"1\" class=\"dataframe\">\n",
       "  <thead>\n",
       "    <tr style=\"text-align: right;\">\n",
       "      <th></th>\n",
       "      <th>permno</th>\n",
       "      <th>date</th>\n",
       "      <th>beta</th>\n",
       "    </tr>\n",
       "  </thead>\n",
       "  <tbody>\n",
       "    <tr>\n",
       "      <th>0</th>\n",
       "      <td>10001</td>\n",
       "      <td>1995-03-29</td>\n",
       "      <td>0.164138</td>\n",
       "    </tr>\n",
       "    <tr>\n",
       "      <th>1</th>\n",
       "      <td>10001</td>\n",
       "      <td>1995-03-30</td>\n",
       "      <td>0.250752</td>\n",
       "    </tr>\n",
       "    <tr>\n",
       "      <th>2</th>\n",
       "      <td>10001</td>\n",
       "      <td>1995-03-31</td>\n",
       "      <td>0.404727</td>\n",
       "    </tr>\n",
       "    <tr>\n",
       "      <th>3</th>\n",
       "      <td>10001</td>\n",
       "      <td>1995-04-03</td>\n",
       "      <td>0.418138</td>\n",
       "    </tr>\n",
       "    <tr>\n",
       "      <th>4</th>\n",
       "      <td>10001</td>\n",
       "      <td>1995-04-04</td>\n",
       "      <td>0.401360</td>\n",
       "    </tr>\n",
       "    <tr>\n",
       "      <th>...</th>\n",
       "      <td>...</td>\n",
       "      <td>...</td>\n",
       "      <td>...</td>\n",
       "    </tr>\n",
       "    <tr>\n",
       "      <th>47836116</th>\n",
       "      <td>24174</td>\n",
       "      <td>2023-12-29</td>\n",
       "      <td>1.231060</td>\n",
       "    </tr>\n",
       "    <tr>\n",
       "      <th>47836117</th>\n",
       "      <td>24175</td>\n",
       "      <td>2023-12-28</td>\n",
       "      <td>0.561101</td>\n",
       "    </tr>\n",
       "    <tr>\n",
       "      <th>47836118</th>\n",
       "      <td>24175</td>\n",
       "      <td>2023-12-29</td>\n",
       "      <td>-0.099663</td>\n",
       "    </tr>\n",
       "    <tr>\n",
       "      <th>47836119</th>\n",
       "      <td>24488</td>\n",
       "      <td>2023-12-28</td>\n",
       "      <td>1.721661</td>\n",
       "    </tr>\n",
       "    <tr>\n",
       "      <th>47836120</th>\n",
       "      <td>24488</td>\n",
       "      <td>2023-12-29</td>\n",
       "      <td>0.765611</td>\n",
       "    </tr>\n",
       "  </tbody>\n",
       "</table>\n",
       "<p>47836121 rows × 3 columns</p>\n",
       "</div>"
      ],
      "text/plain": [
       "          permno       date      beta\n",
       "0          10001 1995-03-29  0.164138\n",
       "1          10001 1995-03-30  0.250752\n",
       "2          10001 1995-03-31  0.404727\n",
       "3          10001 1995-04-03  0.418138\n",
       "4          10001 1995-04-04  0.401360\n",
       "...          ...        ...       ...\n",
       "47836116   24174 2023-12-29  1.231060\n",
       "47836117   24175 2023-12-28  0.561101\n",
       "47836118   24175 2023-12-29 -0.099663\n",
       "47836119   24488 2023-12-28  1.721661\n",
       "47836120   24488 2023-12-29  0.765611\n",
       "\n",
       "[47836121 rows x 3 columns]"
      ]
     },
     "execution_count": 3,
     "metadata": {},
     "output_type": "execute_result"
    }
   ],
   "source": [
    "beta_df = pd.read_parquet('beta_df.parquet')\n",
    "beta_df"
   ]
  },
  {
   "cell_type": "code",
   "execution_count": 5,
   "metadata": {},
   "outputs": [],
   "source": [
    "import duckdb\n",
    "con = duckdb.connect()\n",
    "crsp_beta_df = con.execute(\"\"\"\n",
    "SELECT crsp_d.*, beta_df.beta\n",
    "FROM beta_df JOIN crsp_d\n",
    "ON beta_df.permno = crsp_d.permno\n",
    "AND beta_df.date = crsp_d.date\n",
    "\"\"\").fetch_df()\n",
    "con.close()"
   ]
  },
  {
   "cell_type": "code",
   "execution_count": null,
   "metadata": {},
   "outputs": [],
   "source": [
    "# saving beta_df to a file\n",
    "# crsp_beta_df.to_parquet('crsp_beta_df.parquet')"
   ]
  },
  {
   "cell_type": "code",
   "execution_count": 3,
   "metadata": {},
   "outputs": [
    {
     "data": {
      "application/vnd.microsoft.datawrangler.viewer.v0+json": {
       "columns": [
        {
         "name": "index",
         "rawType": "int64",
         "type": "integer"
        },
        {
         "name": "permno",
         "rawType": "int32",
         "type": "integer"
        },
        {
         "name": "date",
         "rawType": "datetime64[ns]",
         "type": "datetime"
        },
        {
         "name": "ret",
         "rawType": "float64",
         "type": "float"
        },
        {
         "name": "shares_outstanding",
         "rawType": "int32",
         "type": "integer"
        },
        {
         "name": "market_cap",
         "rawType": "float64",
         "type": "float"
        },
        {
         "name": "mkt_rf",
         "rawType": "float64",
         "type": "float"
        },
        {
         "name": "rf",
         "rawType": "float64",
         "type": "float"
        },
        {
         "name": "ret_rf",
         "rawType": "float64",
         "type": "float"
        },
        {
         "name": "beta",
         "rawType": "float64",
         "type": "float"
        }
       ],
       "conversionMethod": "pd.DataFrame",
       "ref": "cf35ab71-e3aa-4951-88e6-b546af44aa91",
       "rows": [
        [
         "0",
         "89159",
         "2010-07-02 00:00:00",
         "-0.002633",
         "1969",
         "29830.350000000002",
         "-0.005",
         "1e-05",
         "-0.002643",
         "0.19664115151043246"
        ],
        [
         "1",
         "89159",
         "2010-07-06 00:00:00",
         "0.00264",
         "1969",
         "29909.11",
         "0.0033",
         "1e-05",
         "0.00263",
         "0.19707903096467927"
        ],
        [
         "2",
         "89159",
         "2010-07-07 00:00:00",
         "-0.003292",
         "1969",
         "29810.66",
         "0.0317",
         "1e-05",
         "-0.003302",
         "0.19622418236069789"
        ],
        [
         "3",
         "89159",
         "2010-07-08 00:00:00",
         "0.003963",
         "1969",
         "29928.8",
         "0.01",
         "1e-05",
         "0.003953000000000001",
         "0.17695613569160412"
        ],
        [
         "4",
         "89159",
         "2010-07-09 00:00:00",
         "0.001974",
         "1969",
         "29987.870000000003",
         "0.008100000000000001",
         "1e-05",
         "0.001964",
         "0.1785132225006605"
        ],
        [
         "5",
         "89159",
         "2010-07-12 00:00:00",
         "0.00197",
         "1969",
         "30046.94",
         "-0.0011",
         "1e-05",
         "0.00196",
         "0.18067653256179883"
        ],
        [
         "6",
         "89159",
         "2010-07-13 00:00:00",
         "0.006809",
         "1969",
         "30125.503099999998",
         "0.0176",
         "1e-05",
         "0.006799",
         "0.18169663656032278"
        ],
        [
         "7",
         "89159",
         "2010-07-14 00:00:00",
         "-0.000974",
         "1969",
         "30096.165",
         "-0.0004",
         "1e-05",
         "-0.000984",
         "0.18580110656513676"
        ],
        [
         "8",
         "89159",
         "2010-07-15 00:00:00",
         "0.002944",
         "1969",
         "30184.77",
         "0.0002",
         "1e-05",
         "0.002934",
         "0.1845905701158182"
        ],
        [
         "9",
         "89159",
         "2010-07-16 00:00:00",
         "0.003262",
         "1969",
         "30283.22",
         "-0.0294",
         "1e-05",
         "0.003252",
         "0.18924925956193145"
        ],
        [
         "10",
         "89159",
         "2010-07-19 00:00:00",
         "0.002601",
         "1969",
         "30361.98",
         "0.0054",
         "1e-05",
         "0.002591",
         "0.17651450662839652"
        ],
        [
         "11",
         "89159",
         "2010-07-20 00:00:00",
         "-0.019449",
         "1969",
         "29771.4769",
         "0.0123",
         "1e-05",
         "-0.019459",
         "0.1777292904954674"
        ],
        [
         "12",
         "89159",
         "2010-07-21 00:00:00",
         "-0.008604",
         "1969",
         "29515.31",
         "-0.013000000000000001",
         "1e-05",
         "-0.008614",
         "0.15836950366925948"
        ],
        [
         "13",
         "89159",
         "2010-07-22 00:00:00",
         "0.00072",
         "1969",
         "29536.5752",
         "0.023700000000000002",
         "1e-05",
         "0.00071",
         "0.1636504205996443"
        ],
        [
         "14",
         "89159",
         "2010-07-23 00:00:00",
         "0.00928",
         "1969",
         "29810.66",
         "0.0105",
         "1e-05",
         "0.00927",
         "0.15198172471679278"
        ],
        [
         "15",
         "89159",
         "2010-07-26 00:00:00",
         "0.006374",
         "1969",
         "30000.6685",
         "0.0123",
         "1e-05",
         "0.006364000000000001",
         "0.1551249917342103"
        ],
        [
         "16",
         "89159",
         "2010-07-27 00:00:00",
         "-0.001083",
         "1969",
         "29968.18",
         "-0.0023",
         "1e-05",
         "-0.001093",
         "0.14437632970895511"
        ],
        [
         "17",
         "89159",
         "2010-07-28 00:00:00",
         "0.0",
         "1969",
         "29968.18",
         "-0.008199999999999999",
         "1e-05",
         "-1e-05",
         "0.1401376644105575"
        ],
        [
         "18",
         "89159",
         "2010-07-29 00:00:00",
         "0.004599",
         "1969",
         "30106.01",
         "-0.0036",
         "1e-05",
         "0.004589",
         "0.13954320704154832"
        ],
        [
         "19",
         "89159",
         "2010-07-30 00:00:00",
         "0.010464",
         "1969",
         "30421.05",
         "0.0006",
         "1e-05",
         "0.010454",
         "0.1486731523271393"
        ],
        [
         "20",
         "89159",
         "2010-08-02 00:00:00",
         "-0.017476",
         "1969",
         "29889.42",
         "0.0209",
         "1e-05",
         "-0.017485999999999998",
         "0.14869939148110745"
        ],
        [
         "21",
         "89159",
         "2010-08-03 00:00:00",
         "0.00527",
         "1969",
         "30046.94",
         "-0.005600000000000001",
         "1e-05",
         "0.005260000000000001",
         "0.12113011716900976"
        ],
        [
         "22",
         "89159",
         "2010-08-04 00:00:00",
         "-0.002294",
         "1969",
         "29978.024999999998",
         "0.0074",
         "1e-05",
         "-0.002304",
         "0.1169798627469346"
        ],
        [
         "23",
         "89159",
         "2010-08-05 00:00:00",
         "-0.008867",
         "1969",
         "29712.21",
         "-0.0022",
         "1e-05",
         "-0.008877",
         "0.07488898863498372"
        ],
        [
         "24",
         "89159",
         "2010-08-06 00:00:00",
         "-0.005964",
         "1969",
         "29535.0",
         "-0.0036",
         "1e-05",
         "-0.005973999999999999",
         "0.07359449735808574"
        ],
        [
         "25",
         "89159",
         "2010-08-09 00:00:00",
         "0.0",
         "1969",
         "29535.0",
         "0.0062",
         "1e-05",
         "-1e-05",
         "0.054854762836113076"
        ],
        [
         "26",
         "89159",
         "2010-08-10 00:00:00",
         "0.005667",
         "1969",
         "29702.365",
         "-0.0079",
         "1e-05",
         "0.005657000000000001",
         "0.05645544389457002"
        ],
        [
         "27",
         "89159",
         "2010-08-11 00:00:00",
         "-0.011336",
         "1969",
         "29239.649999999998",
         "-0.0291",
         "1e-05",
         "-0.011346",
         "0.057420087368895874"
        ],
        [
         "28",
         "89159",
         "2010-08-12 00:00:00",
         "-0.006734",
         "1969",
         "29042.75",
         "-0.005",
         "1e-05",
         "-0.006744",
         "0.07795877567891112"
        ],
        [
         "29",
         "89159",
         "2010-08-13 00:00:00",
         "-0.01017",
         "1969",
         "28747.399999999998",
         "-0.004699999999999999",
         "1e-05",
         "-0.01018",
         "0.07884609970615869"
        ],
        [
         "30",
         "89159",
         "2010-08-16 00:00:00",
         "0.016438",
         "1969",
         "29219.96",
         "0.001",
         "1e-05",
         "0.016428",
         "0.07565588937434085"
        ],
        [
         "31",
         "89159",
         "2010-08-17 00:00:00",
         "0.011456",
         "1969",
         "29554.69",
         "0.0131",
         "1e-05",
         "0.011446",
         "0.10521954261907197"
        ],
        [
         "32",
         "89159",
         "2010-08-18 00:00:00",
         "-0.005323",
         "1969",
         "29397.366899999997",
         "0.0021",
         "1e-05",
         "-0.005332999999999999",
         "0.13487741118217508"
        ],
        [
         "33",
         "89159",
         "2010-08-19 00:00:00",
         "-0.000676",
         "1969",
         "29377.48",
         "-0.0174",
         "1e-05",
         "-0.000686",
         "0.1384519211018965"
        ],
        [
         "34",
         "89159",
         "2010-08-20 00:00:00",
         "0.00134",
         "1969",
         "29416.86",
         "-0.0028000000000000004",
         "1e-05",
         "0.00133",
         "0.1365346474519251"
        ],
        [
         "35",
         "89159",
         "2010-08-23 00:00:00",
         "-0.001339",
         "1969",
         "29377.48",
         "-0.005",
         "1e-05",
         "-0.001349",
         "0.14026499618064156"
        ],
        [
         "36",
         "89159",
         "2010-08-24 00:00:00",
         "0.014075",
         "1969",
         "29790.97",
         "-0.0148",
         "1e-05",
         "0.014065000000000001",
         "0.14348673175065643"
        ],
        [
         "37",
         "89159",
         "2010-08-25 00:00:00",
         "-0.006609",
         "1969",
         "29594.07",
         "0.0045000000000000005",
         "1e-05",
         "-0.006619",
         "0.1319323624132001"
        ],
        [
         "38",
         "89159",
         "2010-08-26 00:00:00",
         "0.001996",
         "1969",
         "29653.14",
         "-0.0076",
         "1e-05",
         "0.001986",
         "0.14003296401663032"
        ],
        [
         "39",
         "89159",
         "2010-08-27 00:00:00",
         "0.002656",
         "1969",
         "29731.899999999998",
         "0.0182",
         "1e-05",
         "0.002646",
         "0.134298105481041"
        ],
        [
         "40",
         "89159",
         "2010-08-30 00:00:00",
         "-0.007285",
         "1969",
         "29515.31",
         "-0.0154",
         "1e-05",
         "-0.007294999999999999",
         "0.1308326198944449"
        ],
        [
         "41",
         "89159",
         "2010-08-31 00:00:00",
         "0.00467",
         "1969",
         "29653.14",
         "0.0001",
         "1e-05",
         "0.00466",
         "0.05658260730214483"
        ],
        [
         "42",
         "89159",
         "2010-09-01 00:00:00",
         "-0.001992",
         "1969",
         "29594.07",
         "0.0305",
         "1e-05",
         "-0.002002",
         "0.06376071225745515"
        ],
        [
         "43",
         "89159",
         "2010-09-02 00:00:00",
         "0.0",
         "1969",
         "29594.07",
         "0.0097",
         "1e-05",
         "-1e-05",
         "0.05436208985030924"
        ],
        [
         "44",
         "89159",
         "2010-09-03 00:00:00",
         "0.0",
         "1969",
         "29594.07",
         "0.013500000000000002",
         "1e-05",
         "-1e-05",
         "0.05410669653839669"
        ],
        [
         "45",
         "89159",
         "2010-09-07 00:00:00",
         "-0.001996",
         "1969",
         "29535.0",
         "-0.0123",
         "1e-05",
         "-0.002006",
         "-0.0165255116772123"
        ],
        [
         "46",
         "89159",
         "2010-09-08 00:00:00",
         "0.006",
         "1969",
         "29712.21",
         "0.006500000000000001",
         "1e-05",
         "0.0059900000000000005",
         "-0.013494942324032769"
        ],
        [
         "47",
         "89159",
         "2010-09-09 00:00:00",
         "0.004307",
         "1969",
         "29840.195",
         "0.0044",
         "1e-05",
         "0.0042970000000000005",
         "-0.010136584840517533"
        ],
        [
         "48",
         "89159",
         "2010-09-10 00:00:00",
         "0.003629",
         "1969",
         "29948.49",
         "0.0045000000000000005",
         "1e-05",
         "0.003619",
         "0.020444388603080677"
        ],
        [
         "49",
         "89159",
         "2010-09-13 00:00:00",
         "-0.003208",
         "1969",
         "29726.3868",
         "0.013000000000000001",
         "1e-05",
         "-0.003218",
         "0.022141209948934065"
        ]
       ],
       "shape": {
        "columns": 9,
        "rows": 47836121
       }
      },
      "text/html": [
       "<div>\n",
       "<style scoped>\n",
       "    .dataframe tbody tr th:only-of-type {\n",
       "        vertical-align: middle;\n",
       "    }\n",
       "\n",
       "    .dataframe tbody tr th {\n",
       "        vertical-align: top;\n",
       "    }\n",
       "\n",
       "    .dataframe thead th {\n",
       "        text-align: right;\n",
       "    }\n",
       "</style>\n",
       "<table border=\"1\" class=\"dataframe\">\n",
       "  <thead>\n",
       "    <tr style=\"text-align: right;\">\n",
       "      <th></th>\n",
       "      <th>permno</th>\n",
       "      <th>date</th>\n",
       "      <th>ret</th>\n",
       "      <th>shares_outstanding</th>\n",
       "      <th>market_cap</th>\n",
       "      <th>mkt_rf</th>\n",
       "      <th>rf</th>\n",
       "      <th>ret_rf</th>\n",
       "      <th>beta</th>\n",
       "    </tr>\n",
       "  </thead>\n",
       "  <tbody>\n",
       "    <tr>\n",
       "      <th>0</th>\n",
       "      <td>89159</td>\n",
       "      <td>2010-07-02</td>\n",
       "      <td>-0.002633</td>\n",
       "      <td>1969</td>\n",
       "      <td>29830.35</td>\n",
       "      <td>-0.0050</td>\n",
       "      <td>0.00001</td>\n",
       "      <td>-0.002643</td>\n",
       "      <td>0.196641</td>\n",
       "    </tr>\n",
       "    <tr>\n",
       "      <th>1</th>\n",
       "      <td>89159</td>\n",
       "      <td>2010-07-06</td>\n",
       "      <td>0.002640</td>\n",
       "      <td>1969</td>\n",
       "      <td>29909.11</td>\n",
       "      <td>0.0033</td>\n",
       "      <td>0.00001</td>\n",
       "      <td>0.002630</td>\n",
       "      <td>0.197079</td>\n",
       "    </tr>\n",
       "    <tr>\n",
       "      <th>2</th>\n",
       "      <td>89159</td>\n",
       "      <td>2010-07-07</td>\n",
       "      <td>-0.003292</td>\n",
       "      <td>1969</td>\n",
       "      <td>29810.66</td>\n",
       "      <td>0.0317</td>\n",
       "      <td>0.00001</td>\n",
       "      <td>-0.003302</td>\n",
       "      <td>0.196224</td>\n",
       "    </tr>\n",
       "    <tr>\n",
       "      <th>3</th>\n",
       "      <td>89159</td>\n",
       "      <td>2010-07-08</td>\n",
       "      <td>0.003963</td>\n",
       "      <td>1969</td>\n",
       "      <td>29928.80</td>\n",
       "      <td>0.0100</td>\n",
       "      <td>0.00001</td>\n",
       "      <td>0.003953</td>\n",
       "      <td>0.176956</td>\n",
       "    </tr>\n",
       "    <tr>\n",
       "      <th>4</th>\n",
       "      <td>89159</td>\n",
       "      <td>2010-07-09</td>\n",
       "      <td>0.001974</td>\n",
       "      <td>1969</td>\n",
       "      <td>29987.87</td>\n",
       "      <td>0.0081</td>\n",
       "      <td>0.00001</td>\n",
       "      <td>0.001964</td>\n",
       "      <td>0.178513</td>\n",
       "    </tr>\n",
       "    <tr>\n",
       "      <th>...</th>\n",
       "      <td>...</td>\n",
       "      <td>...</td>\n",
       "      <td>...</td>\n",
       "      <td>...</td>\n",
       "      <td>...</td>\n",
       "      <td>...</td>\n",
       "      <td>...</td>\n",
       "      <td>...</td>\n",
       "      <td>...</td>\n",
       "    </tr>\n",
       "    <tr>\n",
       "      <th>47836116</th>\n",
       "      <td>88205</td>\n",
       "      <td>2004-04-23</td>\n",
       "      <td>0.043307</td>\n",
       "      <td>78073</td>\n",
       "      <td>206893.45</td>\n",
       "      <td>-0.0001</td>\n",
       "      <td>0.00004</td>\n",
       "      <td>0.043267</td>\n",
       "      <td>2.226811</td>\n",
       "    </tr>\n",
       "    <tr>\n",
       "      <th>47836117</th>\n",
       "      <td>88205</td>\n",
       "      <td>2004-04-26</td>\n",
       "      <td>0.037736</td>\n",
       "      <td>78073</td>\n",
       "      <td>214700.75</td>\n",
       "      <td>-0.0033</td>\n",
       "      <td>0.00004</td>\n",
       "      <td>0.037696</td>\n",
       "      <td>2.302450</td>\n",
       "    </tr>\n",
       "    <tr>\n",
       "      <th>47836118</th>\n",
       "      <td>88205</td>\n",
       "      <td>2004-04-27</td>\n",
       "      <td>-0.025455</td>\n",
       "      <td>78073</td>\n",
       "      <td>209235.64</td>\n",
       "      <td>0.0013</td>\n",
       "      <td>0.00004</td>\n",
       "      <td>-0.025495</td>\n",
       "      <td>2.264021</td>\n",
       "    </tr>\n",
       "    <tr>\n",
       "      <th>47836119</th>\n",
       "      <td>88205</td>\n",
       "      <td>2004-04-28</td>\n",
       "      <td>-0.052239</td>\n",
       "      <td>78073</td>\n",
       "      <td>198305.42</td>\n",
       "      <td>-0.0146</td>\n",
       "      <td>0.00004</td>\n",
       "      <td>-0.052279</td>\n",
       "      <td>2.269387</td>\n",
       "    </tr>\n",
       "    <tr>\n",
       "      <th>47836120</th>\n",
       "      <td>88205</td>\n",
       "      <td>2004-04-29</td>\n",
       "      <td>0.003937</td>\n",
       "      <td>78073</td>\n",
       "      <td>199086.15</td>\n",
       "      <td>-0.0086</td>\n",
       "      <td>0.00004</td>\n",
       "      <td>0.003897</td>\n",
       "      <td>2.306637</td>\n",
       "    </tr>\n",
       "  </tbody>\n",
       "</table>\n",
       "<p>47836121 rows × 9 columns</p>\n",
       "</div>"
      ],
      "text/plain": [
       "          permno       date       ret  shares_outstanding  market_cap  mkt_rf  \\\n",
       "0          89159 2010-07-02 -0.002633                1969    29830.35 -0.0050   \n",
       "1          89159 2010-07-06  0.002640                1969    29909.11  0.0033   \n",
       "2          89159 2010-07-07 -0.003292                1969    29810.66  0.0317   \n",
       "3          89159 2010-07-08  0.003963                1969    29928.80  0.0100   \n",
       "4          89159 2010-07-09  0.001974                1969    29987.87  0.0081   \n",
       "...          ...        ...       ...                 ...         ...     ...   \n",
       "47836116   88205 2004-04-23  0.043307               78073   206893.45 -0.0001   \n",
       "47836117   88205 2004-04-26  0.037736               78073   214700.75 -0.0033   \n",
       "47836118   88205 2004-04-27 -0.025455               78073   209235.64  0.0013   \n",
       "47836119   88205 2004-04-28 -0.052239               78073   198305.42 -0.0146   \n",
       "47836120   88205 2004-04-29  0.003937               78073   199086.15 -0.0086   \n",
       "\n",
       "               rf    ret_rf      beta  \n",
       "0         0.00001 -0.002643  0.196641  \n",
       "1         0.00001  0.002630  0.197079  \n",
       "2         0.00001 -0.003302  0.196224  \n",
       "3         0.00001  0.003953  0.176956  \n",
       "4         0.00001  0.001964  0.178513  \n",
       "...           ...       ...       ...  \n",
       "47836116  0.00004  0.043267  2.226811  \n",
       "47836117  0.00004  0.037696  2.302450  \n",
       "47836118  0.00004 -0.025495  2.264021  \n",
       "47836119  0.00004 -0.052279  2.269387  \n",
       "47836120  0.00004  0.003897  2.306637  \n",
       "\n",
       "[47836121 rows x 9 columns]"
      ]
     },
     "execution_count": 3,
     "metadata": {},
     "output_type": "execute_result"
    }
   ],
   "source": [
    "crsp_beta_df = pd.read_parquet('crsp_beta_df.parquet')\n",
    "crsp_beta_df"
   ]
  },
  {
   "cell_type": "markdown",
   "metadata": {},
   "source": [
    "#### Decile Long-Short Portfolio on Rolling-Beta"
   ]
  },
  {
   "cell_type": "code",
   "execution_count": 7,
   "metadata": {},
   "outputs": [
    {
     "name": "stdout",
     "output_type": "stream",
     "text": [
      "Change directory to data path: ../Mikey_data\n"
     ]
    }
   ],
   "source": [
    "import pandas as pd\n",
    "import numpy as np\n",
    "from tqdm import tqdm\n",
    "import os\n",
    "import duckdb\n",
    "\n",
    "data_path = '../Mikey_data'\n",
    "if os.path.exists(data_path):\n",
    "    os.chdir(data_path)\n",
    "    print(f'Change directory to data path: {data_path}')\n",
    "else:\n",
    "    print('Please point to the correct data path!')"
   ]
  },
  {
   "cell_type": "code",
   "execution_count": 3,
   "metadata": {},
   "outputs": [],
   "source": [
    "# Helper function to turn of the month identification\n",
    "# Identify Trading Days Relative to Month End\n",
    "# label trading days relative to month end\n",
    "def label_trading_days(df):\n",
    "    df = df.sort_values(['permno', 'date'])\n",
    "    \n",
    "    dates_labled = []\n",
    "    \n",
    "    dates_df = df.drop_duplicates(subset=['date'])[['date']].copy()\n",
    "    dates_df['month'] = dates_df['date'].dt.to_period('M')\n",
    "\n",
    "    # Initialize trading day labels\n",
    "    dates_df['period_label'] = np.nan\n",
    "    dates_df['period_label'] = dates_df['period_label'].astype(str)\n",
    "\n",
    "    for month in tqdm(dates_df['month'].unique()):\n",
    "        month_data = dates_df[dates_df['month'] == month]\n",
    "        month_data.reset_index(drop=True, inplace=True)\n",
    "\n",
    "        # handle corner cases: month data length not enough, cannot determine the trading day labels\n",
    "        if len(month_data) < 10:\n",
    "            continue\n",
    "        # get around corner cases, where we don't have previous 8 days or next 8 days\n",
    "        try:\n",
    "            # start-of-month index in current month\n",
    "            S_idx: int = month_data['date'].idxmin()\n",
    "            # order matters, process 'T+1_T+4' first\n",
    "            month_data.loc[list(range(S_idx, S_idx + 3)), 'period_label'] = 'T+1_T+3'\n",
    "            month_data.loc[list(range(S_idx + 3, S_idx + 8)), 'period_label'] = 'T+4_T+8'\n",
    "        except:\n",
    "            pass\n",
    "\n",
    "        try:\n",
    "            # end-of-month index in current month\n",
    "            T_idx: int = month_data['date'].idxmax()\n",
    "            month_data.loc[T_idx, 'period_label'] = 'T'\n",
    "            # order matters for the same reason\n",
    "            month_data.loc[list(range(T_idx - 3, T_idx)), 'period_label'] = 'T-3_T-1'\n",
    "            month_data.loc[list(range(T_idx - 8, T_idx - 3)), 'period_label'] = 'T-8_T-4'\n",
    "        except:\n",
    "            pass\n",
    "            \n",
    "        dates_labled.append(month_data)\n",
    "            \n",
    "    dates_labled_df = pd.concat(dates_labled, ignore_index=True)\n",
    "\n",
    "    result_df = pd.merge(df, dates_labled_df[['date', 'period_label']], on='date', how='left')\n",
    "    \n",
    "    return result_df"
   ]
  },
  {
   "cell_type": "code",
   "execution_count": 4,
   "metadata": {},
   "outputs": [],
   "source": [
    "# Helper function from Alan\n",
    "def apply_quantiles(df, col, bins=10):\n",
    "    \"\"\"\n",
    "    Assigns a quantile-based bin (1,...,bins) for each value in `col`\n",
    "    within each date group.\n",
    "    \"\"\"\n",
    "    def quantile_bin(s):\n",
    "        # Use pd.qcut to get quantile bins; if duplicate edges occur, use rank instead.\n",
    "        try:\n",
    "            return pd.qcut(s, q=bins, labels=False, duplicates=\"drop\") + 1\n",
    "        except Exception:\n",
    "            return np.ceil(s.rank(method='average') / len(s) * bins)\n",
    "    return df.groupby('date')[col].transform(quantile_bin)"
   ]
  },
  {
   "cell_type": "code",
   "execution_count": 5,
   "metadata": {},
   "outputs": [],
   "source": [
    "crsp_beta_df = pd.read_parquet('crsp_beta_df.parquet')\n",
    "crsp_beta_df = crsp_beta_df.sort_values(['permno', 'date'])"
   ]
  },
  {
   "cell_type": "code",
   "execution_count": 8,
   "metadata": {},
   "outputs": [
    {
     "name": "stderr",
     "output_type": "stream",
     "text": [
      "100%|██████████| 346/346 [00:00<00:00, 668.10it/s]\n"
     ]
    }
   ],
   "source": [
    "crsp_beta_df = label_trading_days(crsp_beta_df)"
   ]
  },
  {
   "cell_type": "code",
   "execution_count": 9,
   "metadata": {},
   "outputs": [
    {
     "data": {
      "application/vnd.microsoft.datawrangler.viewer.v0+json": {
       "columns": [
        {
         "name": "index",
         "rawType": "int64",
         "type": "integer"
        },
        {
         "name": "permno",
         "rawType": "int32",
         "type": "integer"
        },
        {
         "name": "date",
         "rawType": "datetime64[ns]",
         "type": "datetime"
        },
        {
         "name": "ret",
         "rawType": "float64",
         "type": "float"
        },
        {
         "name": "shares_outstanding",
         "rawType": "int32",
         "type": "integer"
        },
        {
         "name": "market_cap",
         "rawType": "float64",
         "type": "float"
        },
        {
         "name": "mkt_rf",
         "rawType": "float64",
         "type": "float"
        },
        {
         "name": "rf",
         "rawType": "float64",
         "type": "float"
        },
        {
         "name": "ret_rf",
         "rawType": "float64",
         "type": "float"
        },
        {
         "name": "beta",
         "rawType": "float64",
         "type": "float"
        },
        {
         "name": "period_label",
         "rawType": "object",
         "type": "string"
        },
        {
         "name": "mcap_lag",
         "rawType": "float64",
         "type": "float"
        }
       ],
       "conversionMethod": "pd.DataFrame",
       "ref": "cc510948-d5ba-48e4-b7a0-06a6dc0e1b69",
       "rows": [
        [
         "0",
         "10574",
         "1999-03-29 00:00:00",
         "0.0",
         "8443",
         "12136.8125",
         "0.019799999999999998",
         "0.00017999999999999998",
         "-0.00017999999999999998",
         "-0.3369860308997134",
         "T-3_T-1",
         "13719.875"
        ],
        [
         "1",
         "10574",
         "1999-03-30 00:00:00",
         "0.043478",
         "8443",
         "12664.5",
         "-0.0063",
         "0.00017999999999999998",
         "0.043298",
         "-0.32799718204057177",
         "T-3_T-1",
         "13719.875"
        ],
        [
         "2",
         "10574",
         "1999-03-31 00:00:00",
         "0.041667",
         "8443",
         "13192.1875",
         "-0.0086",
         "0.00017999999999999998",
         "0.041487",
         "-0.4812717655144895",
         "T",
         "13719.875"
        ],
        [
         "3",
         "10574",
         "1999-04-01 00:00:00",
         "-0.04",
         "8443",
         "12664.5",
         "0.0054",
         "0.00017999999999999998",
         "-0.04018",
         "-0.5209126130255983",
         "T+1_T+3",
         "12136.8125"
        ],
        [
         "4",
         "10574",
         "1999-04-05 00:00:00",
         "0.0",
         "8443",
         "12664.5",
         "0.0187",
         "0.00017999999999999998",
         "-0.00017999999999999998",
         "-0.5456663865329745",
         "T+1_T+3",
         "12136.8125"
        ],
        [
         "5",
         "10574",
         "1999-04-06 00:00:00",
         "0.041667",
         "8443",
         "13192.1875",
         "-0.0026",
         "0.00017999999999999998",
         "0.041487",
         "-0.49546745397996883",
         "T+1_T+3",
         "12136.8125"
        ],
        [
         "6",
         "10574",
         "1999-04-07 00:00:00",
         "0.0",
         "8443",
         "13192.1875",
         "0.0042",
         "0.00017999999999999998",
         "-0.00017999999999999998",
         "-0.4691768514983074",
         "T+4_T+8",
         "12136.8125"
        ],
        [
         "7",
         "10574",
         "1999-04-08 00:00:00",
         "0.04",
         "8443",
         "13719.875",
         "0.0127",
         "0.00017999999999999998",
         "0.03982",
         "-0.7861364920679759",
         "T+4_T+8",
         "12136.8125"
        ],
        [
         "8",
         "10574",
         "1999-04-09 00:00:00",
         "0.038462",
         "8443",
         "14247.5625",
         "0.0043",
         "0.00017999999999999998",
         "0.038282000000000004",
         "-0.7179789780219158",
         "T+4_T+8",
         "12136.8125"
        ],
        [
         "9",
         "10574",
         "1999-04-12 00:00:00",
         "-0.037037",
         "8443",
         "13719.875",
         "0.0087",
         "0.00017999999999999998",
         "-0.037217",
         "-0.7563437204409775",
         "T+4_T+8",
         "12136.8125"
        ],
        [
         "10",
         "10574",
         "1999-04-13 00:00:00",
         "-0.076923",
         "8443",
         "12664.5",
         "-0.0034000000000000002",
         "0.00017999999999999998",
         "-0.077103",
         "-0.8339349327762564",
         "T+4_T+8",
         "12136.8125"
        ],
        [
         "11",
         "10574",
         "1999-04-20 00:00:00",
         "0.041667",
         "8443",
         "13192.1875",
         "0.0138",
         "0.00017999999999999998",
         "0.041487",
         "-0.7312324958842917",
         "T-8_T-4",
         "12136.8125"
        ],
        [
         "12",
         "10574",
         "1999-04-21 00:00:00",
         "0.0",
         "8443",
         "13192.1875",
         "0.0253",
         "0.00017999999999999998",
         "-0.00017999999999999998",
         "-0.6459230029312131",
         "T-8_T-4",
         "12136.8125"
        ],
        [
         "13",
         "10574",
         "1999-04-22 00:00:00",
         "0.0",
         "8443",
         "13192.1875",
         "0.013500000000000002",
         "0.00017999999999999998",
         "-0.00017999999999999998",
         "-0.722780602478244",
         "T-8_T-4",
         "12136.8125"
        ],
        [
         "14",
         "10574",
         "1999-04-23 00:00:00",
         "0.12",
         "8443",
         "14775.25",
         "0.0011",
         "0.00017999999999999998",
         "0.11982",
         "-0.7197637618301695",
         "T-8_T-4",
         "12136.8125"
        ],
        [
         "15",
         "10574",
         "1999-04-26 00:00:00",
         "0.107143",
         "8443",
         "16358.3125",
         "0.0044",
         "0.00017999999999999998",
         "0.106963",
         "-0.7467132661870368",
         "T-8_T-4",
         "12136.8125"
        ],
        [
         "16",
         "10574",
         "1999-04-27 00:00:00",
         "0.16129",
         "8443",
         "18996.75",
         "0.0009",
         "0.00017999999999999998",
         "0.16110999999999998",
         "-0.5855876076794817",
         "T-3_T-1",
         "12136.8125"
        ],
        [
         "17",
         "10574",
         "1999-04-28 00:00:00",
         "0.027778",
         "8443",
         "19524.4375",
         "-0.0088",
         "0.00017999999999999998",
         "0.027598",
         "-0.5542674338038958",
         "T-3_T-1",
         "12136.8125"
        ],
        [
         "18",
         "10574",
         "1999-04-29 00:00:00",
         "0.135135",
         "8443",
         "22162.875",
         "-0.0045000000000000005",
         "0.00017999999999999998",
         "0.134955",
         "-0.5690801145025979",
         "T-3_T-1",
         "12136.8125"
        ],
        [
         "19",
         "10574",
         "1999-04-30 00:00:00",
         "-0.047619",
         "8443",
         "21107.5",
         "-0.004699999999999999",
         "0.00017999999999999998",
         "-0.047799",
         "-0.7311617138305668",
         "T",
         "12136.8125"
        ],
        [
         "20",
         "10574",
         "1999-05-03 00:00:00",
         "0.05",
         "8443",
         "22162.875",
         "0.011000000000000001",
         "0.00017",
         "0.04983",
         "-0.7004881685550796",
         "T+1_T+3",
         "21107.5"
        ],
        [
         "21",
         "10574",
         "1999-05-04 00:00:00",
         "-0.047619",
         "8443",
         "21107.5",
         "-0.0149",
         "0.00017",
         "-0.047789",
         "-0.7468457926459087",
         "T+1_T+3",
         "21107.5"
        ],
        [
         "22",
         "10574",
         "1999-05-05 00:00:00",
         "0.025",
         "8443",
         "21635.1875",
         "0.0103",
         "0.00017",
         "0.02483",
         "-0.6131761221579515",
         "T+1_T+3",
         "21107.5"
        ],
        [
         "23",
         "10574",
         "1999-05-06 00:00:00",
         "0.02439",
         "8443",
         "22162.875",
         "-0.0115",
         "0.00017",
         "0.02422",
         "-0.6445023618001395",
         "T+4_T+8",
         "21107.5"
        ],
        [
         "24",
         "10574",
         "1999-05-07 00:00:00",
         "-0.047619",
         "8443",
         "21107.5",
         "0.0089",
         "0.00017",
         "-0.047789",
         "-0.6739824796397063",
         "T+4_T+8",
         "21107.5"
        ],
        [
         "25",
         "10574",
         "1999-05-10 00:00:00",
         "0.1",
         "8443",
         "23218.25",
         "-0.0003",
         "0.00017",
         "0.09983",
         "-0.725549467980606",
         "T+4_T+8",
         "21107.5"
        ],
        [
         "26",
         "10574",
         "1999-05-11 00:00:00",
         "0.022727",
         "8443",
         "23745.9375",
         "0.011899999999999999",
         "0.00017",
         "0.022557",
         "-0.5688564076800765",
         "T+4_T+8",
         "21107.5"
        ],
        [
         "27",
         "10574",
         "1999-05-12 00:00:00",
         "-0.022222",
         "8443",
         "23218.25",
         "0.006500000000000001",
         "0.00017",
         "-0.022392",
         "-0.06304758865049867",
         "T+4_T+8",
         "21107.5"
        ],
        [
         "28",
         "10574",
         "1999-05-18 00:00:00",
         "0.268293",
         "8443",
         "27439.75",
         "-0.004",
         "0.00017",
         "0.268123",
         "0.127263021727862",
         "T-8_T-4",
         "21107.5"
        ],
        [
         "29",
         "10574",
         "1999-05-19 00:00:00",
         "0.019231",
         "8443",
         "27967.4375",
         "0.008199999999999999",
         "0.00017",
         "0.019061",
         "-0.1447117285790522",
         "T-8_T-4",
         "21107.5"
        ],
        [
         "30",
         "10574",
         "1999-05-20 00:00:00",
         "0.018868",
         "8443",
         "28495.125",
         "-0.0036",
         "0.00017",
         "0.018698",
         "-0.13757653550056675",
         "T-8_T-4",
         "21107.5"
        ],
        [
         "31",
         "10574",
         "1999-05-21 00:00:00",
         "-0.092593",
         "8443",
         "25856.6875",
         "-0.005699999999999999",
         "0.00017",
         "-0.092763",
         "-0.17296606716434143",
         "T-8_T-4",
         "21107.5"
        ],
        [
         "32",
         "10574",
         "1999-05-24 00:00:00",
         "-0.102041",
         "8443",
         "23218.25",
         "-0.019299999999999998",
         "0.00017",
         "-0.10221100000000001",
         "-0.1262283625636122",
         "T-8_T-4",
         "21107.5"
        ],
        [
         "33",
         "10574",
         "1999-05-25 00:00:00",
         "-0.022727",
         "8443",
         "22690.5625",
         "-0.0181",
         "0.00017",
         "-0.022897",
         "0.1918825401696224",
         "T-3_T-1",
         "21107.5"
        ],
        [
         "34",
         "10574",
         "1999-05-26 00:00:00",
         "-0.023256",
         "8443",
         "22162.875",
         "0.0141",
         "0.00017",
         "-0.023426",
         "0.2574590716412416",
         "T-3_T-1",
         "21107.5"
        ],
        [
         "35",
         "10574",
         "1999-05-27 00:00:00",
         "0.0",
         "8443",
         "22162.875",
         "-0.0143",
         "0.00017",
         "-0.00017",
         "0.2243314030908304",
         "T-3_T-1",
         "21107.5"
        ],
        [
         "36",
         "10574",
         "1999-05-28 00:00:00",
         "0.142857",
         "8443",
         "25329.0",
         "0.015300000000000001",
         "0.00017",
         "0.142687",
         "0.2341511388147745",
         "T",
         "21107.5"
        ],
        [
         "37",
         "10574",
         "1999-06-01 00:00:00",
         "0.0625",
         "8443",
         "26912.0625",
         "-0.008",
         "0.00017999999999999998",
         "0.06232",
         "0.3574952674057546",
         "T+1_T+3",
         "25329.0"
        ],
        [
         "38",
         "10574",
         "1999-06-02 00:00:00",
         "0.0",
         "8443",
         "26912.0625",
         "0.0013",
         "0.00017999999999999998",
         "-0.00017999999999999998",
         "0.35097986625922656",
         "T+1_T+3",
         "25329.0"
        ],
        [
         "39",
         "10574",
         "1999-06-03 00:00:00",
         "0.039216",
         "8443",
         "27967.4375",
         "0.0012",
         "0.00017999999999999998",
         "0.039036",
         "0.330320021206051",
         "T+1_T+3",
         "25329.0"
        ],
        [
         "40",
         "10574",
         "1999-06-04 00:00:00",
         "0.0",
         "8443",
         "27967.4375",
         "0.0203",
         "0.00017999999999999998",
         "-0.00017999999999999998",
         "0.3291127090976947",
         "T+4_T+8",
         "25329.0"
        ],
        [
         "41",
         "10574",
         "1999-06-07 00:00:00",
         "0.018868",
         "8443",
         "28495.125",
         "0.0070999999999999995",
         "0.00017999999999999998",
         "0.018688",
         "0.30945078087383276",
         "T+4_T+8",
         "25329.0"
        ],
        [
         "42",
         "10574",
         "1999-06-08 00:00:00",
         "-0.055556",
         "8443",
         "26912.0625",
         "-0.0123",
         "0.00017999999999999998",
         "-0.055736",
         "0.32531047277284364",
         "T+4_T+8",
         "25329.0"
        ],
        [
         "43",
         "10574",
         "1999-06-09 00:00:00",
         "0.019608",
         "8443",
         "27439.75",
         "0.0016",
         "0.00017999999999999998",
         "0.019428",
         "0.4565178222988224",
         "T+4_T+8",
         "25329.0"
        ],
        [
         "44",
         "10574",
         "1999-06-10 00:00:00",
         "0.019231",
         "8443",
         "27967.4375",
         "-0.012",
         "0.00017999999999999998",
         "0.019051000000000002",
         "0.55687165093389",
         "T+4_T+8",
         "25329.0"
        ],
        [
         "45",
         "10574",
         "1999-06-18 00:00:00",
         "0.0",
         "8443",
         "26384.375",
         "0.0022",
         "0.00017999999999999998",
         "-0.00017999999999999998",
         "0.6408754666068308",
         "T-8_T-4",
         "25329.0"
        ],
        [
         "46",
         "10574",
         "1999-06-21 00:00:00",
         "0.02",
         "8443",
         "26912.0625",
         "0.0063",
         "0.00017999999999999998",
         "0.01982",
         "0.7051966128482967",
         "T-8_T-4",
         "25329.0"
        ],
        [
         "47",
         "10574",
         "1999-06-22 00:00:00",
         "0.0",
         "8443",
         "26912.0625",
         "-0.009300000000000001",
         "0.00017999999999999998",
         "-0.00017999999999999998",
         "0.765638911723731",
         "T-8_T-4",
         "25329.0"
        ],
        [
         "48",
         "10574",
         "1999-06-23 00:00:00",
         "-0.019608",
         "8443",
         "26384.375",
         "-0.0014000000000000002",
         "0.00017999999999999998",
         "-0.019788",
         "0.7351037408175598",
         "T-8_T-4",
         "25329.0"
        ],
        [
         "49",
         "10574",
         "1999-06-24 00:00:00",
         "0.0",
         "8443",
         "26384.375",
         "-0.0131",
         "0.00017999999999999998",
         "-0.00017999999999999998",
         "0.8221646119475082",
         "T-8_T-4",
         "25329.0"
        ]
       ],
       "shape": {
        "columns": 11,
        "rows": 38730215
       }
      },
      "text/html": [
       "<div>\n",
       "<style scoped>\n",
       "    .dataframe tbody tr th:only-of-type {\n",
       "        vertical-align: middle;\n",
       "    }\n",
       "\n",
       "    .dataframe tbody tr th {\n",
       "        vertical-align: top;\n",
       "    }\n",
       "\n",
       "    .dataframe thead th {\n",
       "        text-align: right;\n",
       "    }\n",
       "</style>\n",
       "<table border=\"1\" class=\"dataframe\">\n",
       "  <thead>\n",
       "    <tr style=\"text-align: right;\">\n",
       "      <th></th>\n",
       "      <th>permno</th>\n",
       "      <th>date</th>\n",
       "      <th>ret</th>\n",
       "      <th>shares_outstanding</th>\n",
       "      <th>market_cap</th>\n",
       "      <th>mkt_rf</th>\n",
       "      <th>rf</th>\n",
       "      <th>ret_rf</th>\n",
       "      <th>beta</th>\n",
       "      <th>period_label</th>\n",
       "      <th>mcap_lag</th>\n",
       "    </tr>\n",
       "  </thead>\n",
       "  <tbody>\n",
       "    <tr>\n",
       "      <th>0</th>\n",
       "      <td>10574</td>\n",
       "      <td>1999-03-29</td>\n",
       "      <td>0.000000</td>\n",
       "      <td>8443</td>\n",
       "      <td>12136.8125</td>\n",
       "      <td>0.0198</td>\n",
       "      <td>0.00018</td>\n",
       "      <td>-0.000180</td>\n",
       "      <td>-0.336986</td>\n",
       "      <td>T-3_T-1</td>\n",
       "      <td>13719.8750</td>\n",
       "    </tr>\n",
       "    <tr>\n",
       "      <th>1</th>\n",
       "      <td>10574</td>\n",
       "      <td>1999-03-30</td>\n",
       "      <td>0.043478</td>\n",
       "      <td>8443</td>\n",
       "      <td>12664.5000</td>\n",
       "      <td>-0.0063</td>\n",
       "      <td>0.00018</td>\n",
       "      <td>0.043298</td>\n",
       "      <td>-0.327997</td>\n",
       "      <td>T-3_T-1</td>\n",
       "      <td>13719.8750</td>\n",
       "    </tr>\n",
       "    <tr>\n",
       "      <th>2</th>\n",
       "      <td>10574</td>\n",
       "      <td>1999-03-31</td>\n",
       "      <td>0.041667</td>\n",
       "      <td>8443</td>\n",
       "      <td>13192.1875</td>\n",
       "      <td>-0.0086</td>\n",
       "      <td>0.00018</td>\n",
       "      <td>0.041487</td>\n",
       "      <td>-0.481272</td>\n",
       "      <td>T</td>\n",
       "      <td>13719.8750</td>\n",
       "    </tr>\n",
       "    <tr>\n",
       "      <th>3</th>\n",
       "      <td>10574</td>\n",
       "      <td>1999-04-01</td>\n",
       "      <td>-0.040000</td>\n",
       "      <td>8443</td>\n",
       "      <td>12664.5000</td>\n",
       "      <td>0.0054</td>\n",
       "      <td>0.00018</td>\n",
       "      <td>-0.040180</td>\n",
       "      <td>-0.520913</td>\n",
       "      <td>T+1_T+3</td>\n",
       "      <td>12136.8125</td>\n",
       "    </tr>\n",
       "    <tr>\n",
       "      <th>4</th>\n",
       "      <td>10574</td>\n",
       "      <td>1999-04-05</td>\n",
       "      <td>0.000000</td>\n",
       "      <td>8443</td>\n",
       "      <td>12664.5000</td>\n",
       "      <td>0.0187</td>\n",
       "      <td>0.00018</td>\n",
       "      <td>-0.000180</td>\n",
       "      <td>-0.545666</td>\n",
       "      <td>T+1_T+3</td>\n",
       "      <td>12136.8125</td>\n",
       "    </tr>\n",
       "    <tr>\n",
       "      <th>...</th>\n",
       "      <td>...</td>\n",
       "      <td>...</td>\n",
       "      <td>...</td>\n",
       "      <td>...</td>\n",
       "      <td>...</td>\n",
       "      <td>...</td>\n",
       "      <td>...</td>\n",
       "      <td>...</td>\n",
       "      <td>...</td>\n",
       "      <td>...</td>\n",
       "      <td>...</td>\n",
       "    </tr>\n",
       "    <tr>\n",
       "      <th>38730210</th>\n",
       "      <td>93427</td>\n",
       "      <td>2010-09-24</td>\n",
       "      <td>0.056769</td>\n",
       "      <td>33752</td>\n",
       "      <td>490079.0400</td>\n",
       "      <td>0.0219</td>\n",
       "      <td>0.00001</td>\n",
       "      <td>0.056759</td>\n",
       "      <td>0.510030</td>\n",
       "      <td>T-8_T-4</td>\n",
       "      <td>NaN</td>\n",
       "    </tr>\n",
       "    <tr>\n",
       "      <th>38730211</th>\n",
       "      <td>93427</td>\n",
       "      <td>2010-09-27</td>\n",
       "      <td>0.077824</td>\n",
       "      <td>33752</td>\n",
       "      <td>528218.8000</td>\n",
       "      <td>-0.0046</td>\n",
       "      <td>0.00001</td>\n",
       "      <td>0.077814</td>\n",
       "      <td>0.597168</td>\n",
       "      <td>T-3_T-1</td>\n",
       "      <td>NaN</td>\n",
       "    </tr>\n",
       "    <tr>\n",
       "      <th>38730212</th>\n",
       "      <td>93427</td>\n",
       "      <td>2010-09-28</td>\n",
       "      <td>0.003195</td>\n",
       "      <td>33752</td>\n",
       "      <td>529906.4000</td>\n",
       "      <td>0.0058</td>\n",
       "      <td>0.00001</td>\n",
       "      <td>0.003185</td>\n",
       "      <td>0.537482</td>\n",
       "      <td>T-3_T-1</td>\n",
       "      <td>NaN</td>\n",
       "    </tr>\n",
       "    <tr>\n",
       "      <th>38730213</th>\n",
       "      <td>93427</td>\n",
       "      <td>2010-09-29</td>\n",
       "      <td>-0.015287</td>\n",
       "      <td>33752</td>\n",
       "      <td>521805.9200</td>\n",
       "      <td>-0.0017</td>\n",
       "      <td>0.00001</td>\n",
       "      <td>-0.015297</td>\n",
       "      <td>0.538693</td>\n",
       "      <td>T-3_T-1</td>\n",
       "      <td>NaN</td>\n",
       "    </tr>\n",
       "    <tr>\n",
       "      <th>38730214</th>\n",
       "      <td>93427</td>\n",
       "      <td>2010-09-30</td>\n",
       "      <td>0.023286</td>\n",
       "      <td>33765</td>\n",
       "      <td>534162.3000</td>\n",
       "      <td>-0.0026</td>\n",
       "      <td>0.00001</td>\n",
       "      <td>0.023276</td>\n",
       "      <td>0.546816</td>\n",
       "      <td>T</td>\n",
       "      <td>NaN</td>\n",
       "    </tr>\n",
       "  </tbody>\n",
       "</table>\n",
       "<p>38730215 rows × 11 columns</p>\n",
       "</div>"
      ],
      "text/plain": [
       "          permno       date       ret  shares_outstanding   market_cap  \\\n",
       "0          10574 1999-03-29  0.000000                8443   12136.8125   \n",
       "1          10574 1999-03-30  0.043478                8443   12664.5000   \n",
       "2          10574 1999-03-31  0.041667                8443   13192.1875   \n",
       "3          10574 1999-04-01 -0.040000                8443   12664.5000   \n",
       "4          10574 1999-04-05  0.000000                8443   12664.5000   \n",
       "...          ...        ...       ...                 ...          ...   \n",
       "38730210   93427 2010-09-24  0.056769               33752  490079.0400   \n",
       "38730211   93427 2010-09-27  0.077824               33752  528218.8000   \n",
       "38730212   93427 2010-09-28  0.003195               33752  529906.4000   \n",
       "38730213   93427 2010-09-29 -0.015287               33752  521805.9200   \n",
       "38730214   93427 2010-09-30  0.023286               33765  534162.3000   \n",
       "\n",
       "          mkt_rf       rf    ret_rf      beta period_label    mcap_lag  \n",
       "0         0.0198  0.00018 -0.000180 -0.336986      T-3_T-1  13719.8750  \n",
       "1        -0.0063  0.00018  0.043298 -0.327997      T-3_T-1  13719.8750  \n",
       "2        -0.0086  0.00018  0.041487 -0.481272            T  13719.8750  \n",
       "3         0.0054  0.00018 -0.040180 -0.520913      T+1_T+3  12136.8125  \n",
       "4         0.0187  0.00018 -0.000180 -0.545666      T+1_T+3  12136.8125  \n",
       "...          ...      ...       ...       ...          ...         ...  \n",
       "38730210  0.0219  0.00001  0.056759  0.510030      T-8_T-4         NaN  \n",
       "38730211 -0.0046  0.00001  0.077814  0.597168      T-3_T-1         NaN  \n",
       "38730212  0.0058  0.00001  0.003185  0.537482      T-3_T-1         NaN  \n",
       "38730213 -0.0017  0.00001 -0.015297  0.538693      T-3_T-1         NaN  \n",
       "38730214 -0.0026  0.00001  0.023276  0.546816            T         NaN  \n",
       "\n",
       "[38730215 rows x 11 columns]"
      ]
     },
     "execution_count": 9,
     "metadata": {},
     "output_type": "execute_result"
    }
   ],
   "source": [
    "# lag the market cap, using market cap value of the previous month last trading day\n",
    "# also, drop null period_label\n",
    "con = duckdb.connect()\n",
    "con.execute(\n",
    "\"\"\"\n",
    "  WITH month_end AS (\n",
    "      SELECT permno, LAST_DAY(LAST(date)) AS month_end_date,\n",
    "      LAST(market_cap) AS mcap_lag\n",
    "      FROM crsp_beta_df\n",
    "      WHERE period_label IS NOT NULL\n",
    "      AND market_cap IS NOT NULL\n",
    "      GROUP BY permno, EXTRACT(YEAR FROM date), EXTRACT(MONTH FROM date)\n",
    "  )\n",
    "  SELECT crsp_beta_df.*, month_end.mcap_lag as mcap_lag\n",
    "  FROM crsp_beta_df LEFT JOIN month_end\n",
    "  ON crsp_beta_df.permno = month_end.permno\n",
    "  AND month_end.month_end_date = LAST_DAY(crsp_beta_df.date - INTERVAL 1 MONTH)\n",
    "  WHERE period_label IS NOT NULL\n",
    "  AND period_label NOT LIKE '%nan%'\n",
    "\"\"\"\n",
    ")\n",
    "crsp_beta_df = con.fetch_df()\n",
    "con.close()\n",
    "crsp_beta_df"
   ]
  },
  {
   "cell_type": "code",
   "execution_count": 10,
   "metadata": {},
   "outputs": [
    {
     "name": "stderr",
     "output_type": "stream",
     "text": [
      "Applying quantiles: 100%|██████████| 5863/5863 [00:45<00:00, 127.74it/s]\n"
     ]
    }
   ],
   "source": [
    "from tqdm import tqdm\n",
    "\n",
    "def apply_group_quantiles(group, col, bins=10):\n",
    "    group['bin'] = apply_quantiles(group, col, bins=bins)\n",
    "    return group\n",
    "\n",
    "crsp_beta_df['month'] = crsp_beta_df['date'].dt.to_period('M')\n",
    "tqdm.pandas(desc=\"Applying quantiles\")\n",
    "\n",
    "# want to assign quantiles within each day\n",
    "crsp_beta_df = crsp_beta_df.groupby('date').progress_apply(lambda group: apply_group_quantiles(group, 'beta', bins=10)).reset_index(drop=True)"
   ]
  },
  {
   "cell_type": "code",
   "execution_count": 11,
   "metadata": {},
   "outputs": [
    {
     "name": "stderr",
     "output_type": "stream",
     "text": [
      "/tmp/ipykernel_3254801/4184700901.py:4: RuntimeWarning: invalid value encountered in scalar divide\n",
      "  'VW': (g['ret'] * g['mcap_lag']).sum() / g['mcap_lag'].sum()\n",
      "/tmp/ipykernel_3254801/4184700901.py:1: DeprecationWarning: DataFrameGroupBy.apply operated on the grouping columns. This behavior is deprecated, and in a future version of pandas the grouping columns will be excluded from the operation. Either pass `include_groups=False` to exclude the groupings or explicitly select the grouping columns after groupby to silence this warning.\n",
      "  daily_bins = crsp_beta_df.groupby(['period_label', 'date', 'bin']).apply(\n",
      "/tmp/ipykernel_3254801/4184700901.py:9: DeprecationWarning: DataFrameGroupBy.apply operated on the grouping columns. This behavior is deprecated, and in a future version of pandas the grouping columns will be excluded from the operation. Either pass `include_groups=False` to exclude the groupings or explicitly select the grouping columns after groupby to silence this warning.\n",
      "  bins = daily_bins.groupby(['period_label', 'bin']).apply(\n"
     ]
    }
   ],
   "source": [
    "daily_bins = crsp_beta_df.groupby(['period_label', 'date', 'bin']).apply(\n",
    "    lambda g: pd.Series({\n",
    "        'EW': g['ret'].mean(),\n",
    "        'VW': (g['ret'] * g['mcap_lag']).sum() / g['mcap_lag'].sum()\n",
    "    })\n",
    ").reset_index()\n",
    "\n",
    "# calculate the average return for each bin\n",
    "bins = daily_bins.groupby(['period_label', 'bin']).apply(\n",
    "    lambda g: pd.Series({\n",
    "        'EW': g['EW'].mean(),\n",
    "        'VW': g['VW'].mean()\n",
    "    })\n",
    ").reset_index()"
   ]
  },
  {
   "cell_type": "code",
   "execution_count": 12,
   "metadata": {},
   "outputs": [],
   "source": [
    "import matplotlib.pyplot as plt\n",
    "\n",
    "def plot_bins(bins_df, column, label, width = 0.35):\n",
    "  plt.figure(figsize=(10, 6))  # Adjust the size as needed\n",
    "  day_data = bins_df[bins_df[column] == label]\n",
    "  x = np.arange(len(day_data))  # Ensure x is a simple range of integers\n",
    "\n",
    "  fig, ax = plt.subplots()\n",
    "\n",
    "  # Plot the bars\n",
    "  ax.bar(x - width/2, day_data['VW'], width, alpha=0.7, label='VW')\n",
    "  ax.bar(x + width/2, day_data['EW'], width, alpha=0.7, label='EW')\n",
    "\n",
    "  # Simplify the plot\n",
    "  ax.set_xticks(x)\n",
    "  ax.set_xticklabels(day_data['bin'].astype(str))  # Ensure proper x-tick labels\n",
    "  ax.set_xlabel('Bin')\n",
    "  ax.set_ylabel('Returns')\n",
    "  ax.set_title(f'Trading Day {label}')\n",
    "  ax.legend()\n",
    "\n",
    "  plt.show()"
   ]
  },
  {
   "cell_type": "markdown",
   "metadata": {},
   "source": [
    "##### All sample period: from 1995-01-01 to 2024-01-01"
   ]
  },
  {
   "cell_type": "code",
   "execution_count": 28,
   "metadata": {},
   "outputs": [
    {
     "data": {
      "text/plain": [
       "<Figure size 1000x600 with 0 Axes>"
      ]
     },
     "metadata": {},
     "output_type": "display_data"
    },
    {
     "data": {
      "image/png": "[encoded data removed]",
      "text/plain": [
       "<Figure size 640x480 with 1 Axes>"
      ]
     },
     "metadata": {},
     "output_type": "display_data"
    },
    {
     "data": {
      "text/plain": [
       "<Figure size 1000x600 with 0 Axes>"
      ]
     },
     "metadata": {},
     "output_type": "display_data"
    },
    {
     "data": {
      "image/png": "[encoded data removed]",
      "text/plain": [
       "<Figure size 640x480 with 1 Axes>"
      ]
     },
     "metadata": {},
     "output_type": "display_data"
    },
    {
     "data": {
      "text/plain": [
       "<Figure size 1000x600 with 0 Axes>"
      ]
     },
     "metadata": {},
     "output_type": "display_data"
    },
    {
     "data": {
      "image/png": "[encoded data removed]",
      "text/plain": [
       "<Figure size 640x480 with 1 Axes>"
      ]
     },
     "metadata": {},
     "output_type": "display_data"
    },
    {
     "data": {
      "text/plain": [
       "<Figure size 1000x600 with 0 Axes>"
      ]
     },
     "metadata": {},
     "output_type": "display_data"
    },
    {
     "data": {
      "image/png": "[encoded data removed]",
      "text/plain": [
       "<Figure size 640x480 with 1 Axes>"
      ]
     },
     "metadata": {},
     "output_type": "display_data"
    },
    {
     "data": {
      "text/plain": [
       "<Figure size 1000x600 with 0 Axes>"
      ]
     },
     "metadata": {},
     "output_type": "display_data"
    },
    {
     "data": {
      "image/png": "[encoded data removed]",
      "text/plain": [
       "<Figure size 640x480 with 1 Axes>"
      ]
     },
     "metadata": {},
     "output_type": "display_data"
    }
   ],
   "source": [
    "# Plot each trading period bins\n",
    "for i, label in enumerate(bins['period_label'].unique(), 1):\n",
    "    plot_bins(bins, 'period_label', label)"
   ]
  },
  {
   "cell_type": "markdown",
   "metadata": {},
   "source": [
    "##### In-sample period: from 1995-01-01 to 2013-12-31"
   ]
  },
  {
   "cell_type": "code",
   "execution_count": 13,
   "metadata": {},
   "outputs": [],
   "source": [
    "def plot_bins_period(daily_bins_df, start_date, end_date):\n",
    "    # calculate the average return for each bin\n",
    "    bins = daily_bins_df[daily_bins_df['date'].between(start_date, end_date)].groupby(['period_label', 'bin']).apply(\n",
    "        lambda g: pd.Series({\n",
    "            'EW': g['EW'].mean(),\n",
    "            'VW': g['VW'].mean()\n",
    "        })\n",
    "    ).reset_index()\n",
    "\n",
    "    for i, label in enumerate(bins['period_label'].unique(), 1):\n",
    "        plot_bins(bins, 'period_label', label)"
   ]
  },
  {
   "cell_type": "code",
   "execution_count": 14,
   "metadata": {},
   "outputs": [
    {
     "name": "stderr",
     "output_type": "stream",
     "text": [
      "/tmp/ipykernel_3254801/934255859.py:3: DeprecationWarning: DataFrameGroupBy.apply operated on the grouping columns. This behavior is deprecated, and in a future version of pandas the grouping columns will be excluded from the operation. Either pass `include_groups=False` to exclude the groupings or explicitly select the grouping columns after groupby to silence this warning.\n",
      "  bins = daily_bins_df[daily_bins_df['date'].between(start_date, end_date)].groupby(['period_label', 'bin']).apply(\n"
     ]
    },
    {
     "data": {
      "text/plain": [
       "<Figure size 1000x600 with 0 Axes>"
      ]
     },
     "metadata": {},
     "output_type": "display_data"
    },
    {
     "data": {
      "image/png": "[encoded data removed]",
      "text/plain": [
       "<Figure size 640x480 with 1 Axes>"
      ]
     },
     "metadata": {},
     "output_type": "display_data"
    },
    {
     "data": {
      "text/plain": [
       "<Figure size 1000x600 with 0 Axes>"
      ]
     },
     "metadata": {},
     "output_type": "display_data"
    },
    {
     "data": {
      "image/png": "[encoded data removed]",
      "text/plain": [
       "<Figure size 640x480 with 1 Axes>"
      ]
     },
     "metadata": {},
     "output_type": "display_data"
    },
    {
     "data": {
      "text/plain": [
       "<Figure size 1000x600 with 0 Axes>"
      ]
     },
     "metadata": {},
     "output_type": "display_data"
    },
    {
     "data": {
      "image/png": "[encoded data removed]",
      "text/plain": [
       "<Figure size 640x480 with 1 Axes>"
      ]
     },
     "metadata": {},
     "output_type": "display_data"
    },
    {
     "data": {
      "text/plain": [
       "<Figure size 1000x600 with 0 Axes>"
      ]
     },
     "metadata": {},
     "output_type": "display_data"
    },
    {
     "data": {
      "image/png": "[encoded data removed]",
      "text/plain": [
       "<Figure size 640x480 with 1 Axes>"
      ]
     },
     "metadata": {},
     "output_type": "display_data"
    },
    {
     "data": {
      "text/plain": [
       "<Figure size 1000x600 with 0 Axes>"
      ]
     },
     "metadata": {},
     "output_type": "display_data"
    },
    {
     "data": {
      "image/png": "[encoded data removed]",
      "text/plain": [
       "<Figure size 640x480 with 1 Axes>"
      ]
     },
     "metadata": {},
     "output_type": "display_data"
    }
   ],
   "source": [
    "plot_bins_period(daily_bins, '1995-01-01', '2013-12-31')"
   ]
  },
  {
   "cell_type": "markdown",
   "metadata": {},
   "source": [
    "##### Out-of-Sample period: from 2014-01-01 to 2023-12-31"
   ]
  },
  {
   "cell_type": "code",
   "execution_count": 31,
   "metadata": {},
   "outputs": [
    {
     "name": "stderr",
     "output_type": "stream",
     "text": [
      "/tmp/ipykernel_3210689/431783915.py:3: DeprecationWarning: DataFrameGroupBy.apply operated on the grouping columns. This behavior is deprecated, and in a future version of pandas the grouping columns will be excluded from the operation. Either pass `include_groups=False` to exclude the groupings or explicitly select the grouping columns after groupby to silence this warning.\n",
      "  bins = daily_bins_df[daily_bins_df['date'].between(start_date, end_date)].groupby(['period_label', 'bin']).apply(\n"
     ]
    },
    {
     "data": {
      "text/plain": [
       "<Figure size 1000x600 with 0 Axes>"
      ]
     },
     "metadata": {},
     "output_type": "display_data"
    },
    {
     "data": {
      "image/png": "[encoded data removed]",
      "text/plain": [
       "<Figure size 640x480 with 1 Axes>"
      ]
     },
     "metadata": {},
     "output_type": "display_data"
    },
    {
     "data": {
      "text/plain": [
       "<Figure size 1000x600 with 0 Axes>"
      ]
     },
     "metadata": {},
     "output_type": "display_data"
    },
    {
     "data": {
      "image/png": "[encoded data removed]",
      "text/plain": [
       "<Figure size 640x480 with 1 Axes>"
      ]
     },
     "metadata": {},
     "output_type": "display_data"
    },
    {
     "data": {
      "text/plain": [
       "<Figure size 1000x600 with 0 Axes>"
      ]
     },
     "metadata": {},
     "output_type": "display_data"
    },
    {
     "data": {
      "image/png": "[encoded data removed]",
      "text/plain": [
       "<Figure size 640x480 with 1 Axes>"
      ]
     },
     "metadata": {},
     "output_type": "display_data"
    },
    {
     "data": {
      "text/plain": [
       "<Figure size 1000x600 with 0 Axes>"
      ]
     },
     "metadata": {},
     "output_type": "display_data"
    },
    {
     "data": {
      "image/png": "[encoded data removed]",
      "text/plain": [
       "<Figure size 640x480 with 1 Axes>"
      ]
     },
     "metadata": {},
     "output_type": "display_data"
    },
    {
     "data": {
      "text/plain": [
       "<Figure size 1000x600 with 0 Axes>"
      ]
     },
     "metadata": {},
     "output_type": "display_data"
    },
    {
     "data": {
      "image/png": "[encoded data removed]",
      "text/plain": [
       "<Figure size 640x480 with 1 Axes>"
      ]
     },
     "metadata": {},
     "output_type": "display_data"
    }
   ],
   "source": [
    "plot_bins_period(daily_bins, '2014-01-01', '2023-12-31')"
   ]
  },
  {
   "cell_type": "markdown",
   "metadata": {},
   "source": [
    "#### Correlation Analysis (full-sample)\n",
    "\n",
    "Correlation analysis on time-series returns between (selling pressure, positive reversal) pair, and (buying pressure, negative reversal) pair."
   ]
  },
  {
   "cell_type": "code",
   "execution_count": 35,
   "metadata": {},
   "outputs": [
    {
     "name": "stderr",
     "output_type": "stream",
     "text": [
      "/tmp/ipykernel_3210689/1687214008.py:4: RuntimeWarning: invalid value encountered in scalar divide\n",
      "  'VW': (g['ret'] * g['mcap_lag']).sum() / g['mcap_lag'].sum()\n",
      "/tmp/ipykernel_3210689/1687214008.py:1: DeprecationWarning: DataFrameGroupBy.apply operated on the grouping columns. This behavior is deprecated, and in a future version of pandas the grouping columns will be excluded from the operation. Either pass `include_groups=False` to exclude the groupings or explicitly select the grouping columns after groupby to silence this warning.\n",
      "  crsp_beta_df.groupby(['month', 'period_label', 'bin']).apply(\n",
      "/tmp/ipykernel_3210689/1687214008.py:6: DeprecationWarning: DataFrameGroupBy.apply operated on the grouping columns. This behavior is deprecated, and in a future version of pandas the grouping columns will be excluded from the operation. Either pass `include_groups=False` to exclude the groupings or explicitly select the grouping columns after groupby to silence this warning.\n",
      "  ).reset_index().groupby('bin').apply(\n"
     ]
    },
    {
     "data": {
      "application/vnd.microsoft.datawrangler.viewer.v0+json": {
       "columns": [
        {
         "name": "bin",
         "rawType": "int64",
         "type": "integer"
        },
        {
         "name": "EW_T+1_T+3_T+4_T+8",
         "rawType": "float64",
         "type": "float"
        },
        {
         "name": "EW_T-8_T-4_T-3_T-1",
         "rawType": "float64",
         "type": "float"
        },
        {
         "name": "VW_T+1_T+3_T+4_T+8",
         "rawType": "float64",
         "type": "float"
        },
        {
         "name": "VW_T-8_T-4_T-3_T-1",
         "rawType": "float64",
         "type": "float"
        }
       ],
       "conversionMethod": "pd.DataFrame",
       "ref": "f0a9823d-8f65-4874-b716-17933812b1f5",
       "rows": [
        [
         "1",
         "0.40597382630740825",
         "0.09822479210233993",
         "0.2629647948132302",
         "-0.1775402653796592"
        ],
        [
         "2",
         "0.20432906844423349",
         "0.04326771847123764",
         "-0.008280324071063072",
         "-0.2600764584589936"
        ],
        [
         "3",
         "0.13522920565267077",
         "-0.10355542508431353",
         "-0.11885404956649148",
         "-0.2455748469021659"
        ],
        [
         "4",
         "0.1231793273557933",
         "-0.17810143575287066",
         "0.011191519769259592",
         "-0.2354949246629343"
        ],
        [
         "5",
         "0.09276640316156366",
         "-0.18050439611041183",
         "-0.016946861965997123",
         "-0.2333499307570387"
        ],
        [
         "6",
         "0.07926741055519555",
         "-0.22319427257301072",
         "-0.0028605836491352884",
         "-0.2800851676337183"
        ],
        [
         "7",
         "0.05650737944789073",
         "-0.21440927385972766",
         "0.007640223658218412",
         "-0.292908727500964"
        ],
        [
         "8",
         "0.056625587579592275",
         "-0.23002720196628662",
         "-0.022743127255202198",
         "-0.3378579950113349"
        ],
        [
         "9",
         "0.0704955232215814",
         "-0.22766342513825896",
         "-0.006566045262434167",
         "-0.2789493613569699"
        ],
        [
         "10",
         "0.06724276287527459",
         "-0.2025454593432437",
         "-0.0225776940535478",
         "-0.3448854007152377"
        ]
       ],
       "shape": {
        "columns": 4,
        "rows": 10
       }
      },
      "text/html": [
       "<div>\n",
       "<style scoped>\n",
       "    .dataframe tbody tr th:only-of-type {\n",
       "        vertical-align: middle;\n",
       "    }\n",
       "\n",
       "    .dataframe tbody tr th {\n",
       "        vertical-align: top;\n",
       "    }\n",
       "\n",
       "    .dataframe thead th {\n",
       "        text-align: right;\n",
       "    }\n",
       "</style>\n",
       "<table border=\"1\" class=\"dataframe\">\n",
       "  <thead>\n",
       "    <tr style=\"text-align: right;\">\n",
       "      <th></th>\n",
       "      <th>EW_T+1_T+3_T+4_T+8</th>\n",
       "      <th>EW_T-8_T-4_T-3_T-1</th>\n",
       "      <th>VW_T+1_T+3_T+4_T+8</th>\n",
       "      <th>VW_T-8_T-4_T-3_T-1</th>\n",
       "    </tr>\n",
       "    <tr>\n",
       "      <th>bin</th>\n",
       "      <th></th>\n",
       "      <th></th>\n",
       "      <th></th>\n",
       "      <th></th>\n",
       "    </tr>\n",
       "  </thead>\n",
       "  <tbody>\n",
       "    <tr>\n",
       "      <th>1</th>\n",
       "      <td>0.405974</td>\n",
       "      <td>0.098225</td>\n",
       "      <td>0.262965</td>\n",
       "      <td>-0.177540</td>\n",
       "    </tr>\n",
       "    <tr>\n",
       "      <th>2</th>\n",
       "      <td>0.204329</td>\n",
       "      <td>0.043268</td>\n",
       "      <td>-0.008280</td>\n",
       "      <td>-0.260076</td>\n",
       "    </tr>\n",
       "    <tr>\n",
       "      <th>3</th>\n",
       "      <td>0.135229</td>\n",
       "      <td>-0.103555</td>\n",
       "      <td>-0.118854</td>\n",
       "      <td>-0.245575</td>\n",
       "    </tr>\n",
       "    <tr>\n",
       "      <th>4</th>\n",
       "      <td>0.123179</td>\n",
       "      <td>-0.178101</td>\n",
       "      <td>0.011192</td>\n",
       "      <td>-0.235495</td>\n",
       "    </tr>\n",
       "    <tr>\n",
       "      <th>5</th>\n",
       "      <td>0.092766</td>\n",
       "      <td>-0.180504</td>\n",
       "      <td>-0.016947</td>\n",
       "      <td>-0.233350</td>\n",
       "    </tr>\n",
       "    <tr>\n",
       "      <th>6</th>\n",
       "      <td>0.079267</td>\n",
       "      <td>-0.223194</td>\n",
       "      <td>-0.002861</td>\n",
       "      <td>-0.280085</td>\n",
       "    </tr>\n",
       "    <tr>\n",
       "      <th>7</th>\n",
       "      <td>0.056507</td>\n",
       "      <td>-0.214409</td>\n",
       "      <td>0.007640</td>\n",
       "      <td>-0.292909</td>\n",
       "    </tr>\n",
       "    <tr>\n",
       "      <th>8</th>\n",
       "      <td>0.056626</td>\n",
       "      <td>-0.230027</td>\n",
       "      <td>-0.022743</td>\n",
       "      <td>-0.337858</td>\n",
       "    </tr>\n",
       "    <tr>\n",
       "      <th>9</th>\n",
       "      <td>0.070496</td>\n",
       "      <td>-0.227663</td>\n",
       "      <td>-0.006566</td>\n",
       "      <td>-0.278949</td>\n",
       "    </tr>\n",
       "    <tr>\n",
       "      <th>10</th>\n",
       "      <td>0.067243</td>\n",
       "      <td>-0.202545</td>\n",
       "      <td>-0.022578</td>\n",
       "      <td>-0.344885</td>\n",
       "    </tr>\n",
       "  </tbody>\n",
       "</table>\n",
       "</div>"
      ],
      "text/plain": [
       "     EW_T+1_T+3_T+4_T+8  EW_T-8_T-4_T-3_T-1  VW_T+1_T+3_T+4_T+8  \\\n",
       "bin                                                               \n",
       "1              0.405974            0.098225            0.262965   \n",
       "2              0.204329            0.043268           -0.008280   \n",
       "3              0.135229           -0.103555           -0.118854   \n",
       "4              0.123179           -0.178101            0.011192   \n",
       "5              0.092766           -0.180504           -0.016947   \n",
       "6              0.079267           -0.223194           -0.002861   \n",
       "7              0.056507           -0.214409            0.007640   \n",
       "8              0.056626           -0.230027           -0.022743   \n",
       "9              0.070496           -0.227663           -0.006566   \n",
       "10             0.067243           -0.202545           -0.022578   \n",
       "\n",
       "     VW_T-8_T-4_T-3_T-1  \n",
       "bin                      \n",
       "1             -0.177540  \n",
       "2             -0.260076  \n",
       "3             -0.245575  \n",
       "4             -0.235495  \n",
       "5             -0.233350  \n",
       "6             -0.280085  \n",
       "7             -0.292909  \n",
       "8             -0.337858  \n",
       "9             -0.278949  \n",
       "10            -0.344885  "
      ]
     },
     "execution_count": 35,
     "metadata": {},
     "output_type": "execute_result"
    }
   ],
   "source": [
    "crsp_beta_df.groupby(['month', 'period_label', 'bin']).apply(\n",
    "  lambda g: pd.Series({\n",
    "    'EW': g['ret'].mean(),\n",
    "    'VW': (g['ret'] * g['mcap_lag']).sum() / g['mcap_lag'].sum()\n",
    "  })\n",
    ").reset_index().groupby('bin').apply(\n",
    "  lambda g: pd.Series({\n",
    "    'EW_T+1_T+3_T+4_T+8': g.pivot(index='month', columns='period_label', values='EW').corr().loc['T+1_T+3', 'T+4_T+8'],\n",
    "    'EW_T-8_T-4_T-3_T-1': g.pivot(index='month', columns='period_label', values='EW').corr().loc['T-8_T-4', 'T-3_T-1'],\n",
    "    'VW_T+1_T+3_T+4_T+8': g.pivot(index='month', columns='period_label', values='VW').corr().loc['T+1_T+3', 'T+4_T+8'],\n",
    "    'VW_T-8_T-4_T-3_T-1': g.pivot(index='month', columns='period_label', values='VW').corr().loc['T-8_T-4', 'T-3_T-1'],\n",
    "  })\n",
    ")"
   ]
  },
  {
   "cell_type": "markdown",
   "metadata": {},
   "source": [
    "#### Building a Portfolio - Long high-beta Short low-beta"
   ]
  },
  {
   "cell_type": "code",
   "execution_count": 42,
   "metadata": {},
   "outputs": [],
   "source": [
    "# label trading_period as T-3 to T+3, where there exists positive reversal and buying pressure\n",
    "daily_bins['trading_period'] = daily_bins['period_label'].isin([\"T-3_T-1\", \"T\", \"T+1_T+3\"])"
   ]
  },
  {
   "cell_type": "code",
   "execution_count": null,
   "metadata": {},
   "outputs": [
    {
     "name": "stderr",
     "output_type": "stream",
     "text": [
      "/tmp/ipykernel_3210689/928762280.py:1: DeprecationWarning: DataFrameGroupBy.apply operated on the grouping columns. This behavior is deprecated, and in a future version of pandas the grouping columns will be excluded from the operation. Either pass `include_groups=False` to exclude the groupings or explicitly select the grouping columns after groupby to silence this warning.\n",
      "  bins = daily_bins.groupby(['trading_period', 'bin']).apply(\n"
     ]
    },
    {
     "data": {
      "text/plain": [
       "<Figure size 1000x600 with 0 Axes>"
      ]
     },
     "metadata": {},
     "output_type": "display_data"
    },
    {
     "data": {
      "image/png": "[encoded data removed]",
      "text/plain": [
       "<Figure size 640x480 with 1 Axes>"
      ]
     },
     "metadata": {},
     "output_type": "display_data"
    }
   ],
   "source": [
    "bins = daily_bins.groupby(['trading_period', 'bin']).apply(\n",
    "    lambda g: pd.Series({\n",
    "        'EW': g['EW'].mean(),\n",
    "        'VW': g['VW'].mean()\n",
    "    })\n",
    ").reset_index()\n",
    "\n",
    "width = 0.35\n",
    "\n",
    "plt.figure(figsize=(10, 6))\n",
    "day_data = bins[bins['trading_period']]\n",
    "x = np.arange(len(day_data))\n",
    "\n",
    "fig, ax = plt.subplots()\n",
    "\n",
    "# Plot the bars\n",
    "ax.bar(x - width/2, day_data['VW'], width, alpha=0.7, label='VW')\n",
    "ax.bar(x + width/2, day_data['EW'], width, alpha=0.7, label='EW')\n",
    "\n",
    "# Simplify the plot\n",
    "ax.set_xticks(x)\n",
    "ax.set_xticklabels(day_data['bin'].astype(str))  # Ensure proper x-tick labels\n",
    "ax.set_xlabel('Bin')\n",
    "ax.set_ylabel('Returns')\n",
    "ax.set_title(f'Trading Period (T-3_T+3)')\n",
    "ax.legend()\n",
    "\n",
    "plt.show()"
   ]
  },
  {
   "cell_type": "code",
   "execution_count": 106,
   "metadata": {},
   "outputs": [],
   "source": [
    "portfolio_trading_period = pd.merge(\n",
    "    daily_bins.query('trading_period & bin == 10'),\n",
    "    daily_bins.query('trading_period & bin == 1'),\n",
    "    suffixes=['_long', '_short'],\n",
    "    on='date'\n",
    ")\n",
    "\n",
    "portfolio_trading_period['long_short_EW'] = portfolio_trading_period['EW_long'] - portfolio_trading_period['EW_short']\n",
    "portfolio_trading_period['long_short_VW'] = portfolio_trading_period['VW_long'] - portfolio_trading_period['VW_short']\n",
    "portfolio_trading_period['cumulative_ret_EW'] = (1 + portfolio_trading_period['long_short_EW']).cumprod() - 1\n",
    "portfolio_trading_period['cumulative_ret_VW'] = (1 + portfolio_trading_period['long_short_VW']).cumprod() - 1"
   ]
  },
  {
   "cell_type": "code",
   "execution_count": 129,
   "metadata": {},
   "outputs": [
    {
     "data": {
      "image/png": "[encoded data removed]",
      "text/plain": [
       "<Figure size 640x480 with 1 Axes>"
      ]
     },
     "metadata": {},
     "output_type": "display_data"
    }
   ],
   "source": [
    "(\n",
    "  (portfolio_trading_period\n",
    "   .set_index('date')[['long_short_VW', 'long_short_EW']]+1)\n",
    "   .rename(columns={'long_short_EW': 'EW', 'long_short_VW': 'VW'})\n",
    "   .resample('ME').prod().cumprod().plot().grid(axis='y')\n",
    ")\n",
    "\n",
    "plt.title('Cumulative Return of Beta Long-Short Portfolio')\n",
    "plt.xlabel('Date')\n",
    "plt.ylabel('Cumulative Return')\n",
    "plt.show()"
   ]
  },
  {
   "cell_type": "markdown",
   "metadata": {},
   "source": [
    "### Long-Short Divident Payer Portfolio"
   ]
  },
  {
   "cell_type": "code",
   "execution_count": 1,
   "metadata": {},
   "outputs": [
    {
     "name": "stdout",
     "output_type": "stream",
     "text": [
      "Change directory to data path: ../Mikey_data\n"
     ]
    }
   ],
   "source": [
    "import pandas as pd\n",
    "import numpy as np\n",
    "from tqdm import tqdm\n",
    "import os\n",
    "import duckdb\n",
    "\n",
    "data_path = '../Mikey_data'\n",
    "if os.path.exists(data_path):\n",
    "    os.chdir(data_path)\n",
    "    print(f'Change directory to data path: {data_path}')\n",
    "else:\n",
    "    print('Please point to the correct data path!')"
   ]
  },
  {
   "cell_type": "code",
   "execution_count": 2,
   "metadata": {},
   "outputs": [
    {
     "data": {
      "application/vnd.microsoft.datawrangler.viewer.v0+json": {
       "columns": [
        {
         "name": "index",
         "rawType": "int64",
         "type": "integer"
        },
        {
         "name": "permno",
         "rawType": "int32",
         "type": "integer"
        },
        {
         "name": "date",
         "rawType": "datetime64[ns]",
         "type": "datetime"
        },
        {
         "name": "ret",
         "rawType": "float64",
         "type": "float"
        },
        {
         "name": "div_amount",
         "rawType": "float64",
         "type": "float"
        },
        {
         "name": "shares_outstanding",
         "rawType": "int32",
         "type": "integer"
        },
        {
         "name": "market_cap",
         "rawType": "float64",
         "type": "float"
        }
       ],
       "conversionMethod": "pd.DataFrame",
       "ref": "c2389a19-a5bf-4efd-b660-3043923784fb",
       "rows": [
        [
         "0",
         "10001",
         "1995-01-03 00:00:00",
         "0.046875",
         "0.0",
         "2224",
         "18626.0"
        ],
        [
         "1",
         "10001",
         "1995-01-04 00:00:00",
         "-0.044776",
         "0.0",
         "2224",
         "17792.0"
        ],
        [
         "2",
         "10001",
         "1995-01-05 00:00:00",
         "-0.0625",
         "0.0",
         "2224",
         "16680.0"
        ],
        [
         "3",
         "10001",
         "1995-01-06 00:00:00",
         "0.033333",
         "0.0",
         "2224",
         "17236.0"
        ],
        [
         "4",
         "10001",
         "1995-01-09 00:00:00",
         "-0.032258",
         "0.0",
         "2224",
         "16680.0"
        ],
        [
         "5",
         "10001",
         "1995-01-10 00:00:00",
         "0.066667",
         "0.0",
         "2224",
         "17792.0"
        ],
        [
         "6",
         "10001",
         "1995-01-11 00:00:00",
         "0.0",
         "0.0",
         "2224",
         "17792.0"
        ],
        [
         "7",
         "10001",
         "1995-01-12 00:00:00",
         "-0.0625",
         "0.0",
         "2224",
         "16680.0"
        ],
        [
         "8",
         "10001",
         "1995-01-13 00:00:00",
         "0.05",
         "0.0",
         "2224",
         "17514.0"
        ],
        [
         "9",
         "10001",
         "1995-01-16 00:00:00",
         "0.015873",
         "0.0",
         "2224",
         "17792.0"
        ],
        [
         "10",
         "10001",
         "1995-01-17 00:00:00",
         "0.0",
         "0.0",
         "2224",
         "17792.0"
        ],
        [
         "11",
         "10001",
         "1995-01-18 00:00:00",
         "-0.054688",
         "0.0",
         "2224",
         "16819.0"
        ],
        [
         "12",
         "10001",
         "1995-01-19 00:00:00",
         "0.024793",
         "0.0",
         "2224",
         "17236.0"
        ],
        [
         "13",
         "10001",
         "1995-01-20 00:00:00",
         "-0.032258",
         "0.0",
         "2224",
         "16680.0"
        ],
        [
         "14",
         "10001",
         "1995-01-23 00:00:00",
         "0.066667",
         "0.0",
         "2224",
         "17792.0"
        ],
        [
         "15",
         "10001",
         "1995-01-24 00:00:00",
         "-0.0625",
         "0.0",
         "2224",
         "16680.0"
        ],
        [
         "16",
         "10001",
         "1995-01-25 00:00:00",
         "0.008333",
         "0.0",
         "2224",
         "16819.0"
        ],
        [
         "17",
         "10001",
         "1995-01-26 00:00:00",
         "-0.002066",
         "0.0",
         "2224",
         "16784.3056"
        ],
        [
         "18",
         "10001",
         "1995-01-27 00:00:00",
         "-0.006211",
         "0.0",
         "2224",
         "16680.0"
        ],
        [
         "19",
         "10001",
         "1995-01-30 00:00:00",
         "0.00625",
         "0.0",
         "2224",
         "16784.3056"
        ],
        [
         "20",
         "10001",
         "1995-01-31 00:00:00",
         "0.026915",
         "0.0",
         "2224",
         "17236.0"
        ],
        [
         "21",
         "10001",
         "1995-02-01 00:00:00",
         "-0.032258",
         "0.0",
         "2224",
         "16680.0"
        ],
        [
         "22",
         "10001",
         "1995-02-02 00:00:00",
         "0.033333",
         "0.0",
         "2224",
         "17236.0"
        ],
        [
         "23",
         "10001",
         "1995-02-03 00:00:00",
         "0.032258",
         "0.0",
         "2224",
         "17792.0"
        ],
        [
         "24",
         "10001",
         "1995-02-06 00:00:00",
         "-0.0625",
         "0.0",
         "2224",
         "16680.0"
        ],
        [
         "25",
         "10001",
         "1995-02-07 00:00:00",
         "0.05",
         "0.0",
         "2224",
         "17514.0"
        ],
        [
         "26",
         "10001",
         "1995-02-08 00:00:00",
         "0.007937",
         "0.0",
         "2224",
         "17653.0"
        ],
        [
         "27",
         "10001",
         "1995-02-09 00:00:00",
         "-0.007874",
         "0.0",
         "2224",
         "17514.0"
        ],
        [
         "28",
         "10001",
         "1995-02-10 00:00:00",
         "-0.047619",
         "0.0",
         "2224",
         "16680.0"
        ],
        [
         "29",
         "10001",
         "1995-02-13 00:00:00",
         "0.05",
         "0.0",
         "2224",
         "17514.0"
        ],
        [
         "30",
         "10001",
         "1995-02-14 00:00:00",
         "0.015873",
         "0.0",
         "2224",
         "17792.0"
        ],
        [
         "31",
         "10001",
         "1995-02-15 00:00:00",
         "-0.0625",
         "0.0",
         "2224",
         "16680.0"
        ],
        [
         "32",
         "10001",
         "1995-02-16 00:00:00",
         "0.066667",
         "0.0",
         "2224",
         "17792.0"
        ],
        [
         "33",
         "10001",
         "1995-02-17 00:00:00",
         "0.0",
         "0.0",
         "2224",
         "17792.0"
        ],
        [
         "34",
         "10001",
         "1995-02-21 00:00:00",
         "-0.03125",
         "0.0",
         "2224",
         "17236.0"
        ],
        [
         "35",
         "10001",
         "1995-02-22 00:00:00",
         "-0.032258",
         "0.0",
         "2224",
         "16680.0"
        ],
        [
         "36",
         "10001",
         "1995-02-23 00:00:00",
         "0.066667",
         "0.0",
         "2224",
         "17792.0"
        ],
        [
         "37",
         "10001",
         "1995-02-24 00:00:00",
         "-0.03125",
         "0.0",
         "2224",
         "17236.0"
        ],
        [
         "38",
         "10001",
         "1995-02-27 00:00:00",
         "0.0",
         "0.0",
         "2224",
         "17236.0"
        ],
        [
         "39",
         "10001",
         "1995-02-28 00:00:00",
         "-0.02621",
         "0.0",
         "2224",
         "16784.3056"
        ],
        [
         "40",
         "10001",
         "1995-03-01 00:00:00",
         "0.026915",
         "0.0",
         "2224",
         "17236.0"
        ],
        [
         "41",
         "10001",
         "1995-03-02 00:00:00",
         "0.0",
         "0.0",
         "2224",
         "17236.0"
        ],
        [
         "42",
         "10001",
         "1995-03-03 00:00:00",
         "0.0",
         "0.0",
         "2224",
         "17236.0"
        ],
        [
         "43",
         "10001",
         "1995-03-06 00:00:00",
         "0.0",
         "0.0",
         "2224",
         "17236.0"
        ],
        [
         "44",
         "10001",
         "1995-03-07 00:00:00",
         "-0.032258",
         "0.0",
         "2224",
         "16680.0"
        ],
        [
         "45",
         "10001",
         "1995-03-08 00:00:00",
         "0.033333",
         "0.0",
         "2224",
         "17236.0"
        ],
        [
         "46",
         "10001",
         "1995-03-09 00:00:00",
         "0.0",
         "0.0",
         "2224",
         "17236.0"
        ],
        [
         "47",
         "10001",
         "1995-03-10 00:00:00",
         "0.0",
         "0.0",
         "2224",
         "17236.0"
        ],
        [
         "48",
         "10001",
         "1995-03-13 00:00:00",
         "0.032258",
         "0.0",
         "2224",
         "17792.0"
        ],
        [
         "49",
         "10001",
         "1995-03-14 00:00:00",
         "-0.019375",
         "0.095",
         "2224",
         "17236.0"
        ]
       ],
       "shape": {
        "columns": 6,
        "rows": 49183696
       }
      },
      "text/html": [
       "<div>\n",
       "<style scoped>\n",
       "    .dataframe tbody tr th:only-of-type {\n",
       "        vertical-align: middle;\n",
       "    }\n",
       "\n",
       "    .dataframe tbody tr th {\n",
       "        vertical-align: top;\n",
       "    }\n",
       "\n",
       "    .dataframe thead th {\n",
       "        text-align: right;\n",
       "    }\n",
       "</style>\n",
       "<table border=\"1\" class=\"dataframe\">\n",
       "  <thead>\n",
       "    <tr style=\"text-align: right;\">\n",
       "      <th></th>\n",
       "      <th>permno</th>\n",
       "      <th>date</th>\n",
       "      <th>ret</th>\n",
       "      <th>div_amount</th>\n",
       "      <th>shares_outstanding</th>\n",
       "      <th>market_cap</th>\n",
       "    </tr>\n",
       "  </thead>\n",
       "  <tbody>\n",
       "    <tr>\n",
       "      <th>0</th>\n",
       "      <td>10001</td>\n",
       "      <td>1995-01-03</td>\n",
       "      <td>0.046875</td>\n",
       "      <td>0.0</td>\n",
       "      <td>2224</td>\n",
       "      <td>1.862600e+04</td>\n",
       "    </tr>\n",
       "    <tr>\n",
       "      <th>1</th>\n",
       "      <td>10001</td>\n",
       "      <td>1995-01-04</td>\n",
       "      <td>-0.044776</td>\n",
       "      <td>0.0</td>\n",
       "      <td>2224</td>\n",
       "      <td>1.779200e+04</td>\n",
       "    </tr>\n",
       "    <tr>\n",
       "      <th>2</th>\n",
       "      <td>10001</td>\n",
       "      <td>1995-01-05</td>\n",
       "      <td>-0.062500</td>\n",
       "      <td>0.0</td>\n",
       "      <td>2224</td>\n",
       "      <td>1.668000e+04</td>\n",
       "    </tr>\n",
       "    <tr>\n",
       "      <th>3</th>\n",
       "      <td>10001</td>\n",
       "      <td>1995-01-06</td>\n",
       "      <td>0.033333</td>\n",
       "      <td>0.0</td>\n",
       "      <td>2224</td>\n",
       "      <td>1.723600e+04</td>\n",
       "    </tr>\n",
       "    <tr>\n",
       "      <th>4</th>\n",
       "      <td>10001</td>\n",
       "      <td>1995-01-09</td>\n",
       "      <td>-0.032258</td>\n",
       "      <td>0.0</td>\n",
       "      <td>2224</td>\n",
       "      <td>1.668000e+04</td>\n",
       "    </tr>\n",
       "    <tr>\n",
       "      <th>...</th>\n",
       "      <td>...</td>\n",
       "      <td>...</td>\n",
       "      <td>...</td>\n",
       "      <td>...</td>\n",
       "      <td>...</td>\n",
       "      <td>...</td>\n",
       "    </tr>\n",
       "    <tr>\n",
       "      <th>49183691</th>\n",
       "      <td>93436</td>\n",
       "      <td>2023-12-22</td>\n",
       "      <td>-0.007701</td>\n",
       "      <td>0.0</td>\n",
       "      <td>3178921</td>\n",
       "      <td>8.028047e+08</td>\n",
       "    </tr>\n",
       "    <tr>\n",
       "      <th>49183692</th>\n",
       "      <td>93436</td>\n",
       "      <td>2023-12-26</td>\n",
       "      <td>0.016116</td>\n",
       "      <td>0.0</td>\n",
       "      <td>3178921</td>\n",
       "      <td>8.157429e+08</td>\n",
       "    </tr>\n",
       "    <tr>\n",
       "      <th>49183693</th>\n",
       "      <td>93436</td>\n",
       "      <td>2023-12-27</td>\n",
       "      <td>0.018822</td>\n",
       "      <td>0.0</td>\n",
       "      <td>3178921</td>\n",
       "      <td>8.310971e+08</td>\n",
       "    </tr>\n",
       "    <tr>\n",
       "      <th>49183694</th>\n",
       "      <td>93436</td>\n",
       "      <td>2023-12-28</td>\n",
       "      <td>-0.031594</td>\n",
       "      <td>0.0</td>\n",
       "      <td>3178921</td>\n",
       "      <td>8.048392e+08</td>\n",
       "    </tr>\n",
       "    <tr>\n",
       "      <th>49183695</th>\n",
       "      <td>93436</td>\n",
       "      <td>2023-12-29</td>\n",
       "      <td>-0.018564</td>\n",
       "      <td>0.0</td>\n",
       "      <td>3178921</td>\n",
       "      <td>7.898983e+08</td>\n",
       "    </tr>\n",
       "  </tbody>\n",
       "</table>\n",
       "<p>49183696 rows × 6 columns</p>\n",
       "</div>"
      ],
      "text/plain": [
       "          permno       date       ret  div_amount  shares_outstanding  \\\n",
       "0          10001 1995-01-03  0.046875         0.0                2224   \n",
       "1          10001 1995-01-04 -0.044776         0.0                2224   \n",
       "2          10001 1995-01-05 -0.062500         0.0                2224   \n",
       "3          10001 1995-01-06  0.033333         0.0                2224   \n",
       "4          10001 1995-01-09 -0.032258         0.0                2224   \n",
       "...          ...        ...       ...         ...                 ...   \n",
       "49183691   93436 2023-12-22 -0.007701         0.0             3178921   \n",
       "49183692   93436 2023-12-26  0.016116         0.0             3178921   \n",
       "49183693   93436 2023-12-27  0.018822         0.0             3178921   \n",
       "49183694   93436 2023-12-28 -0.031594         0.0             3178921   \n",
       "49183695   93436 2023-12-29 -0.018564         0.0             3178921   \n",
       "\n",
       "            market_cap  \n",
       "0         1.862600e+04  \n",
       "1         1.779200e+04  \n",
       "2         1.668000e+04  \n",
       "3         1.723600e+04  \n",
       "4         1.668000e+04  \n",
       "...                ...  \n",
       "49183691  8.028047e+08  \n",
       "49183692  8.157429e+08  \n",
       "49183693  8.310971e+08  \n",
       "49183694  8.048392e+08  \n",
       "49183695  7.898983e+08  \n",
       "\n",
       "[49183696 rows x 6 columns]"
      ]
     },
     "execution_count": 2,
     "metadata": {},
     "output_type": "execute_result"
    }
   ],
   "source": [
    "# loading data\n",
    "\n",
    "# standard CRSP exchange codes:\n",
    "# 1 = NYSE\n",
    "# 2 = AMEX\n",
    "# 3 = NASDAQ\n",
    "# 4 = NYSE Arca (includes SPY)\n",
    "# 11 = NYSE MKT\n",
    "\n",
    "con = duckdb.connect()\n",
    "\n",
    "start_date = '1995-01-01'\n",
    "end_date = '2024-01-01'\n",
    "\n",
    "# Query:\n",
    "# 1. join with delisting adjusted data\n",
    "# 2. join with market data\n",
    "# 3. filter by exchange\n",
    "# 4. make sure the return is not null\n",
    "query_data = (f\"\"\"\n",
    "    SELECT \n",
    "    dsf.permno,\n",
    "    dlycaldt  AS date,\n",
    "    dlyret    AS ret,\n",
    "    dlyorddivamt as div_amount,\n",
    "    shrout    AS shares_outstanding,\n",
    "    (shrout * dlyprc) AS market_cap,\n",
    "    FROM read_parquet('crsp_202401.dsf_v2.parquet') AS dsf \n",
    "    JOIN (\n",
    "        SELECT *, hexcd AS exchange\n",
    "        FROM read_parquet('crsp_202401.dsenames.parquet')\n",
    "    ) AS dsenames\n",
    "    ON dsf.permno = dsenames.permno\n",
    "              \n",
    "    /* Need to do date between nametd and nameetd*/\n",
    "    WHERE dlycaldt BETWEEN namedt AND nameendt\n",
    "    \n",
    "    /* Other conditions imposed */\n",
    "    AND dlycaldt BETWEEN '{start_date}' AND '{end_date}'\n",
    "    AND exchange IN (1, 2, 3)\n",
    "    AND dsf.dlyret IS NOT NULL\n",
    "\"\"\")\n",
    "\n",
    "crsp_df = con.execute(query_data).fetch_df()\n",
    "crsp_df['date'] = pd.to_datetime(crsp_df['date'])\n",
    "crsp_df = crsp_df.sort_values(['permno', 'date'])\n",
    "crsp_df = crsp_df.reset_index(drop=True)\n",
    "con.close()\n",
    "crsp_df"
   ]
  },
  {
   "cell_type": "code",
   "execution_count": 5,
   "metadata": {},
   "outputs": [
    {
     "name": "stderr",
     "output_type": "stream",
     "text": [
      "100%|██████████| 348/348 [00:00<00:00, 671.09it/s]\n"
     ]
    }
   ],
   "source": [
    "crsp_df = label_trading_days(crsp_df)"
   ]
  },
  {
   "cell_type": "code",
   "execution_count": 6,
   "metadata": {},
   "outputs": [
    {
     "data": {
      "application/vnd.microsoft.datawrangler.viewer.v0+json": {
       "columns": [
        {
         "name": "index",
         "rawType": "int64",
         "type": "integer"
        },
        {
         "name": "permno",
         "rawType": "int32",
         "type": "integer"
        },
        {
         "name": "num_dividends",
         "rawType": "int64",
         "type": "integer"
        }
       ],
       "conversionMethod": "pd.DataFrame",
       "ref": "04d47c30-de84-4cc8-a033-8f6f81097336",
       "rows": [
        [
         "0",
         "10001",
         "137"
        ],
        [
         "1",
         "10002",
         "59"
        ],
        [
         "2",
         "10009",
         "23"
        ],
        [
         "3",
         "10019",
         "2"
        ],
        [
         "4",
         "10025",
         "7"
        ],
        [
         "5",
         "10026",
         "77"
        ],
        [
         "6",
         "10037",
         "36"
        ],
        [
         "7",
         "10043",
         "4"
        ],
        [
         "8",
         "10044",
         "67"
        ],
        [
         "9",
         "10056",
         "47"
        ],
        [
         "10",
         "10057",
         "6"
        ],
        [
         "11",
         "10060",
         "7"
        ],
        [
         "12",
         "10065",
         "115"
        ],
        [
         "13",
         "10071",
         "11"
        ],
        [
         "14",
         "10074",
         "4"
        ],
        [
         "15",
         "10075",
         "3"
        ],
        [
         "16",
         "10085",
         "3"
        ],
        [
         "17",
         "10087",
         "20"
        ],
        [
         "18",
         "10097",
         "5"
        ],
        [
         "19",
         "10104",
         "58"
        ],
        [
         "20",
         "10107",
         "80"
        ],
        [
         "21",
         "10113",
         "39"
        ],
        [
         "22",
         "10119",
         "45"
        ],
        [
         "23",
         "10120",
         "13"
        ],
        [
         "24",
         "10122",
         "30"
        ],
        [
         "25",
         "10123",
         "6"
        ],
        [
         "26",
         "10126",
         "21"
        ],
        [
         "27",
         "10127",
         "2"
        ],
        [
         "28",
         "10130",
         "16"
        ],
        [
         "29",
         "10137",
         "44"
        ],
        [
         "30",
         "10138",
         "119"
        ],
        [
         "31",
         "10140",
         "7"
        ],
        [
         "32",
         "10145",
         "116"
        ],
        [
         "33",
         "10147",
         "13"
        ],
        [
         "34",
         "10149",
         "26"
        ],
        [
         "35",
         "10150",
         "10"
        ],
        [
         "36",
         "10157",
         "8"
        ],
        [
         "37",
         "10163",
         "48"
        ],
        [
         "38",
         "10179",
         "11"
        ],
        [
         "39",
         "10185",
         "19"
        ],
        [
         "40",
         "10194",
         "12"
        ],
        [
         "41",
         "10199",
         "13"
        ],
        [
         "42",
         "10201",
         "55"
        ],
        [
         "43",
         "10205",
         "47"
        ],
        [
         "44",
         "10207",
         "82"
        ],
        [
         "45",
         "10211",
         "44"
        ],
        [
         "46",
         "10214",
         "1"
        ],
        [
         "47",
         "10220",
         "45"
        ],
        [
         "48",
         "10225",
         "77"
        ],
        [
         "49",
         "10230",
         "28"
        ]
       ],
       "shape": {
        "columns": 2,
        "rows": 9287
       }
      },
      "text/html": [
       "<div>\n",
       "<style scoped>\n",
       "    .dataframe tbody tr th:only-of-type {\n",
       "        vertical-align: middle;\n",
       "    }\n",
       "\n",
       "    .dataframe tbody tr th {\n",
       "        vertical-align: top;\n",
       "    }\n",
       "\n",
       "    .dataframe thead th {\n",
       "        text-align: right;\n",
       "    }\n",
       "</style>\n",
       "<table border=\"1\" class=\"dataframe\">\n",
       "  <thead>\n",
       "    <tr style=\"text-align: right;\">\n",
       "      <th></th>\n",
       "      <th>permno</th>\n",
       "      <th>num_dividends</th>\n",
       "    </tr>\n",
       "  </thead>\n",
       "  <tbody>\n",
       "    <tr>\n",
       "      <th>0</th>\n",
       "      <td>10001</td>\n",
       "      <td>137</td>\n",
       "    </tr>\n",
       "    <tr>\n",
       "      <th>1</th>\n",
       "      <td>10002</td>\n",
       "      <td>59</td>\n",
       "    </tr>\n",
       "    <tr>\n",
       "      <th>2</th>\n",
       "      <td>10009</td>\n",
       "      <td>23</td>\n",
       "    </tr>\n",
       "    <tr>\n",
       "      <th>3</th>\n",
       "      <td>10019</td>\n",
       "      <td>2</td>\n",
       "    </tr>\n",
       "    <tr>\n",
       "      <th>4</th>\n",
       "      <td>10025</td>\n",
       "      <td>7</td>\n",
       "    </tr>\n",
       "    <tr>\n",
       "      <th>...</th>\n",
       "      <td>...</td>\n",
       "      <td>...</td>\n",
       "    </tr>\n",
       "    <tr>\n",
       "      <th>9282</th>\n",
       "      <td>93415</td>\n",
       "      <td>54</td>\n",
       "    </tr>\n",
       "    <tr>\n",
       "      <th>9283</th>\n",
       "      <td>93416</td>\n",
       "      <td>83</td>\n",
       "    </tr>\n",
       "    <tr>\n",
       "      <th>9284</th>\n",
       "      <td>93419</td>\n",
       "      <td>52</td>\n",
       "    </tr>\n",
       "    <tr>\n",
       "      <th>9285</th>\n",
       "      <td>93422</td>\n",
       "      <td>25</td>\n",
       "    </tr>\n",
       "    <tr>\n",
       "      <th>9286</th>\n",
       "      <td>93423</td>\n",
       "      <td>38</td>\n",
       "    </tr>\n",
       "  </tbody>\n",
       "</table>\n",
       "<p>9287 rows × 2 columns</p>\n",
       "</div>"
      ],
      "text/plain": [
       "      permno  num_dividends\n",
       "0      10001            137\n",
       "1      10002             59\n",
       "2      10009             23\n",
       "3      10019              2\n",
       "4      10025              7\n",
       "...      ...            ...\n",
       "9282   93415             54\n",
       "9283   93416             83\n",
       "9284   93419             52\n",
       "9285   93422             25\n",
       "9286   93423             38\n",
       "\n",
       "[9287 rows x 2 columns]"
      ]
     },
     "execution_count": 6,
     "metadata": {},
     "output_type": "execute_result"
    }
   ],
   "source": [
    "# which stocks pays monthly dividends?\n",
    "con = duckdb.connect()\n",
    "con.execute(f\"\"\"\n",
    "    SELECT permno, COUNT(*) AS num_dividends\n",
    "    FROM crsp_df\n",
    "    WHERE div_amount > 0.00001\n",
    "    GROUP BY permno\n",
    "    ORDER BY permno\n",
    "\"\"\").fetch_df()"
   ]
  },
  {
   "cell_type": "markdown",
   "metadata": {},
   "source": [
    "Now we want to create a new column in the dataframe: 'div_lag'. What this column does is that it will look back 1-year time window, and find the most recent dividend payment amount. If there is no dividend payment in the past year, then the value is 0"
   ]
  },
  {
   "cell_type": "code",
   "execution_count": 7,
   "metadata": {},
   "outputs": [
    {
     "name": "stderr",
     "output_type": "stream",
     "text": [
      "Calculating div_lag: 100%|██████████| 22602/22602 [04:57<00:00, 75.98it/s]\n"
     ]
    }
   ],
   "source": [
    "from joblib import Parallel, delayed\n",
    "from tqdm import tqdm\n",
    "import pandas as pd\n",
    "\n",
    "# Calculate div_lag\n",
    "def calculate_div_lag(group):\n",
    "    group['div_lag'] = group['div_amount'].shift().rolling(window=252, min_periods=1).apply(lambda x: x[x != 0].max() if not x[x != 0].empty else 0)\n",
    "    group['div_lag'] = group['div_lag'].fillna(0)\n",
    "    return group\n",
    "\n",
    "# Function to apply calculate_div_lag to each group\n",
    "def process_group(name, group):\n",
    "    return calculate_div_lag(group)\n",
    "\n",
    "# Split the DataFrame by 'permno' and process each group in parallel\n",
    "permno_groups = list(crsp_df.groupby('permno'))\n",
    "results = Parallel(n_jobs=-1)(delayed(process_group)(name, group) for name, group in tqdm(permno_groups, desc=\"Calculating div_lag\"))\n",
    "\n",
    "# Combine the results back into a single DataFrame\n",
    "crsp_df = pd.concat(results).reset_index(drop=True)"
   ]
  },
  {
   "cell_type": "code",
   "execution_count": 8,
   "metadata": {},
   "outputs": [],
   "source": [
    "crsp_df.to_parquet('crsp_div_lag.parquet')"
   ]
  },
  {
   "cell_type": "code",
   "execution_count": 12,
   "metadata": {},
   "outputs": [
    {
     "name": "stderr",
     "output_type": "stream",
     "text": [
      "/tmp/ipykernel_3244791/2169642181.py:3: DeprecationWarning: DataFrameGroupBy.apply operated on the grouping columns. This behavior is deprecated, and in a future version of pandas the grouping columns will be excluded from the operation. Either pass `include_groups=False` to exclude the groupings or explicitly select the grouping columns after groupby to silence this warning.\n",
      "  crsp_df.groupby(['month']).apply(\n"
     ]
    },
    {
     "data": {
      "application/vnd.microsoft.datawrangler.viewer.v0+json": {
       "columns": [
        {
         "name": "index",
         "rawType": "int64",
         "type": "integer"
        },
        {
         "name": "month",
         "rawType": "period[M]",
         "type": "unknown"
        },
        {
         "name": "percent_zero_div",
         "rawType": "float64",
         "type": "float"
        }
       ],
       "conversionMethod": "pd.DataFrame",
       "ref": "1ec486f8-1d2e-4541-8e44-46f2eee2a30a",
       "rows": [
        [
         "0",
         "1995-01",
         "94.48"
        ],
        [
         "1",
         "1995-02",
         "82.84"
        ],
        [
         "2",
         "1995-03",
         "70.63"
        ],
        [
         "3",
         "1995-04",
         "63.15"
        ],
        [
         "4",
         "1995-05",
         "62.11"
        ],
        [
         "5",
         "1995-06",
         "60.99"
        ],
        [
         "6",
         "1995-07",
         "60.41"
        ],
        [
         "7",
         "1995-08",
         "60.39"
        ],
        [
         "8",
         "1995-09",
         "60.19"
        ],
        [
         "9",
         "1995-10",
         "59.99"
        ],
        [
         "10",
         "1995-11",
         "59.98"
        ],
        [
         "11",
         "1995-12",
         "59.64"
        ],
        [
         "12",
         "1996-01",
         "59.21"
        ],
        [
         "13",
         "1996-02",
         "59.38"
        ],
        [
         "14",
         "1996-03",
         "59.57"
        ],
        [
         "15",
         "1996-04",
         "59.94"
        ],
        [
         "16",
         "1996-05",
         "60.23"
        ],
        [
         "17",
         "1996-06",
         "60.5"
        ],
        [
         "18",
         "1996-07",
         "60.75"
        ],
        [
         "19",
         "1996-08",
         "60.94"
        ],
        [
         "20",
         "1996-09",
         "60.93"
        ],
        [
         "21",
         "1996-10",
         "61.21"
        ],
        [
         "22",
         "1996-11",
         "61.51"
        ],
        [
         "23",
         "1996-12",
         "61.72"
        ],
        [
         "24",
         "1997-01",
         "61.66"
        ],
        [
         "25",
         "1997-02",
         "61.8"
        ],
        [
         "26",
         "1997-03",
         "61.94"
        ],
        [
         "27",
         "1997-04",
         "61.9"
        ],
        [
         "28",
         "1997-05",
         "61.7"
        ],
        [
         "29",
         "1997-06",
         "61.71"
        ],
        [
         "30",
         "1997-07",
         "61.71"
        ],
        [
         "31",
         "1997-08",
         "61.81"
        ],
        [
         "32",
         "1997-09",
         "61.91"
        ],
        [
         "33",
         "1997-10",
         "62.09"
        ],
        [
         "34",
         "1997-11",
         "62.29"
        ],
        [
         "35",
         "1997-12",
         "62.59"
        ],
        [
         "36",
         "1998-01",
         "62.45"
        ],
        [
         "37",
         "1998-02",
         "62.47"
        ],
        [
         "38",
         "1998-03",
         "62.4"
        ],
        [
         "39",
         "1998-04",
         "62.39"
        ],
        [
         "40",
         "1998-05",
         "62.28"
        ],
        [
         "41",
         "1998-06",
         "62.14"
        ],
        [
         "42",
         "1998-07",
         "62.19"
        ],
        [
         "43",
         "1998-08",
         "62.19"
        ],
        [
         "44",
         "1998-09",
         "61.98"
        ],
        [
         "45",
         "1998-10",
         "61.71"
        ],
        [
         "46",
         "1998-11",
         "61.52"
        ],
        [
         "47",
         "1998-12",
         "61.6"
        ],
        [
         "48",
         "1999-01",
         "61.37"
        ],
        [
         "49",
         "1999-02",
         "61.26"
        ]
       ],
       "shape": {
        "columns": 2,
        "rows": 348
       }
      },
      "text/html": [
       "<div>\n",
       "<style scoped>\n",
       "    .dataframe tbody tr th:only-of-type {\n",
       "        vertical-align: middle;\n",
       "    }\n",
       "\n",
       "    .dataframe tbody tr th {\n",
       "        vertical-align: top;\n",
       "    }\n",
       "\n",
       "    .dataframe thead th {\n",
       "        text-align: right;\n",
       "    }\n",
       "</style>\n",
       "<table border=\"1\" class=\"dataframe\">\n",
       "  <thead>\n",
       "    <tr style=\"text-align: right;\">\n",
       "      <th></th>\n",
       "      <th>month</th>\n",
       "      <th>percent_zero_div</th>\n",
       "    </tr>\n",
       "  </thead>\n",
       "  <tbody>\n",
       "    <tr>\n",
       "      <th>0</th>\n",
       "      <td>1995-01</td>\n",
       "      <td>94.48</td>\n",
       "    </tr>\n",
       "    <tr>\n",
       "      <th>1</th>\n",
       "      <td>1995-02</td>\n",
       "      <td>82.84</td>\n",
       "    </tr>\n",
       "    <tr>\n",
       "      <th>2</th>\n",
       "      <td>1995-03</td>\n",
       "      <td>70.63</td>\n",
       "    </tr>\n",
       "    <tr>\n",
       "      <th>3</th>\n",
       "      <td>1995-04</td>\n",
       "      <td>63.15</td>\n",
       "    </tr>\n",
       "    <tr>\n",
       "      <th>4</th>\n",
       "      <td>1995-05</td>\n",
       "      <td>62.11</td>\n",
       "    </tr>\n",
       "    <tr>\n",
       "      <th>...</th>\n",
       "      <td>...</td>\n",
       "      <td>...</td>\n",
       "    </tr>\n",
       "    <tr>\n",
       "      <th>343</th>\n",
       "      <td>2023-08</td>\n",
       "      <td>56.90</td>\n",
       "    </tr>\n",
       "    <tr>\n",
       "      <th>344</th>\n",
       "      <td>2023-09</td>\n",
       "      <td>56.76</td>\n",
       "    </tr>\n",
       "    <tr>\n",
       "      <th>345</th>\n",
       "      <td>2023-10</td>\n",
       "      <td>56.50</td>\n",
       "    </tr>\n",
       "    <tr>\n",
       "      <th>346</th>\n",
       "      <td>2023-11</td>\n",
       "      <td>56.36</td>\n",
       "    </tr>\n",
       "    <tr>\n",
       "      <th>347</th>\n",
       "      <td>2023-12</td>\n",
       "      <td>56.03</td>\n",
       "    </tr>\n",
       "  </tbody>\n",
       "</table>\n",
       "<p>348 rows × 2 columns</p>\n",
       "</div>"
      ],
      "text/plain": [
       "       month  percent_zero_div\n",
       "0    1995-01             94.48\n",
       "1    1995-02             82.84\n",
       "2    1995-03             70.63\n",
       "3    1995-04             63.15\n",
       "4    1995-05             62.11\n",
       "..       ...               ...\n",
       "343  2023-08             56.90\n",
       "344  2023-09             56.76\n",
       "345  2023-10             56.50\n",
       "346  2023-11             56.36\n",
       "347  2023-12             56.03\n",
       "\n",
       "[348 rows x 2 columns]"
      ]
     },
     "execution_count": 12,
     "metadata": {},
     "output_type": "execute_result"
    }
   ],
   "source": [
    "# check out the percentage of non-div paying stock each month\n",
    "crsp_df['month'] = crsp_df['date'].dt.to_period('M')\n",
    "crsp_df.groupby(['month']).apply(\n",
    "  lambda g: pd.Series({\n",
    "    'percent_zero_div': (g['div_lag'] == 0).sum() / len(g) * 100,\n",
    "  })\n",
    ").reset_index().round({'percent_zero_div': 2})"
   ]
  },
  {
   "cell_type": "code",
   "execution_count": 9,
   "metadata": {},
   "outputs": [
    {
     "data": {
      "application/vnd.microsoft.datawrangler.viewer.v0+json": {
       "columns": [
        {
         "name": "index",
         "rawType": "int64",
         "type": "integer"
        },
        {
         "name": "permno",
         "rawType": "int32",
         "type": "integer"
        },
        {
         "name": "date",
         "rawType": "datetime64[ns]",
         "type": "datetime"
        },
        {
         "name": "ret",
         "rawType": "float64",
         "type": "float"
        },
        {
         "name": "div_amount",
         "rawType": "float64",
         "type": "float"
        },
        {
         "name": "shares_outstanding",
         "rawType": "int32",
         "type": "integer"
        },
        {
         "name": "market_cap",
         "rawType": "float64",
         "type": "float"
        },
        {
         "name": "period_label",
         "rawType": "object",
         "type": "string"
        },
        {
         "name": "div_lag",
         "rawType": "float64",
         "type": "float"
        },
        {
         "name": "mcap_lag",
         "rawType": "float64",
         "type": "float"
        }
       ],
       "conversionMethod": "pd.DataFrame",
       "ref": "d7117ab0-e4a9-4cd1-b405-aabbecc9df97",
       "rows": [
        [
         "0",
         "10659",
         "2006-08-31 00:00:00",
         "0.06714",
         "0.0",
         "13077",
         "295147.89",
         "T",
         "0.0",
         "307963.35000000003"
        ],
        [
         "1",
         "10659",
         "2006-09-01 00:00:00",
         "-0.007089",
         "0.0",
         "13077",
         "293055.57",
         "T+1_T+3",
         "0.0",
         "276578.55"
        ],
        [
         "2",
         "10659",
         "2006-09-05 00:00:00",
         "0.001339",
         "0.0",
         "13083",
         "293582.52",
         "T+1_T+3",
         "0.0",
         "276578.55"
        ],
        [
         "3",
         "10659",
         "2006-09-06 00:00:00",
         "-0.011141",
         "0.0",
         "13083",
         "290311.77",
         "T+1_T+3",
         "0.0",
         "276578.55"
        ],
        [
         "4",
         "10659",
         "2006-09-07 00:00:00",
         "0.020279",
         "0.0",
         "13083",
         "296199.12",
         "T+4_T+8",
         "0.0",
         "276578.55"
        ],
        [
         "5",
         "10659",
         "2006-09-08 00:00:00",
         "-0.000442",
         "0.0",
         "13083",
         "296068.29",
         "T+4_T+8",
         "0.0",
         "276578.55"
        ],
        [
         "6",
         "10659",
         "2006-09-11 00:00:00",
         "0.019885",
         "0.0",
         "13083",
         "301955.63999999996",
         "T+4_T+8",
         "0.0",
         "276578.55"
        ],
        [
         "7",
         "10659",
         "2006-09-12 00:00:00",
         "0.037262",
         "0.0",
         "13083",
         "313207.02",
         "T+4_T+8",
         "0.0",
         "276578.55"
        ],
        [
         "8",
         "10659",
         "2006-09-13 00:00:00",
         "-0.005013",
         "0.0",
         "13083",
         "311637.06",
         "T+4_T+8",
         "0.0",
         "276578.55"
        ],
        [
         "9",
         "10659",
         "2006-09-19 00:00:00",
         "-0.023606",
         "0.0",
         "13083",
         "313861.17",
         "T-8_T-4",
         "0.0",
         "276578.55"
        ],
        [
         "10",
         "10659",
         "2006-09-20 00:00:00",
         "-0.004585",
         "0.0",
         "13083",
         "312422.04",
         "T-8_T-4",
         "0.0",
         "276578.55"
        ],
        [
         "11",
         "10659",
         "2006-09-21 00:00:00",
         "-0.007538",
         "0.0",
         "13083",
         "310067.1",
         "T-8_T-4",
         "0.0",
         "276578.55"
        ],
        [
         "12",
         "10659",
         "2006-09-22 00:00:00",
         "-0.020675",
         "0.0",
         "13083",
         "303656.43",
         "T-8_T-4",
         "0.0",
         "276578.55"
        ],
        [
         "13",
         "10659",
         "2006-09-25 00:00:00",
         "0.014218",
         "0.0",
         "13083",
         "307973.82",
         "T-8_T-4",
         "0.0",
         "276578.55"
        ],
        [
         "14",
         "10659",
         "2006-09-26 00:00:00",
         "-0.002549",
         "0.0",
         "13083",
         "307188.84",
         "T-3_T-1",
         "0.0",
         "276578.55"
        ],
        [
         "15",
         "10659",
         "2006-09-27 00:00:00",
         "0.005111",
         "0.0",
         "13083",
         "308758.80000000005",
         "T-3_T-1",
         "0.0",
         "276578.55"
        ],
        [
         "16",
         "10659",
         "2006-09-28 00:00:00",
         "-0.024576",
         "0.0",
         "13083",
         "301170.66",
         "T-3_T-1",
         "0.0",
         "276578.55"
        ],
        [
         "17",
         "10659",
         "2006-09-29 00:00:00",
         "-0.024761",
         "0.0",
         "13083",
         "293713.35",
         "T",
         "0.0",
         "276578.55"
        ],
        [
         "18",
         "10659",
         "2006-10-02 00:00:00",
         "-0.018263",
         "0.0",
         "13083",
         "288349.32",
         "T+1_T+3",
         "0.0",
         "293713.35"
        ],
        [
         "19",
         "10659",
         "2006-10-03 00:00:00",
         "-0.00726",
         "0.0",
         "13083",
         "286256.04",
         "T+1_T+3",
         "0.0",
         "293713.35"
        ],
        [
         "20",
         "10659",
         "2006-10-04 00:00:00",
         "0.006399",
         "0.0",
         "13083",
         "288087.66",
         "T+1_T+3",
         "0.0",
         "293713.35"
        ],
        [
         "21",
         "10659",
         "2006-10-05 00:00:00",
         "0.012262",
         "0.0",
         "13083",
         "291620.07",
         "T+4_T+8",
         "0.0",
         "293713.35"
        ],
        [
         "22",
         "10659",
         "2006-10-06 00:00:00",
         "-0.017945",
         "0.0",
         "13083",
         "286386.87",
         "T+4_T+8",
         "0.0",
         "293713.35"
        ],
        [
         "23",
         "10659",
         "2006-10-09 00:00:00",
         "0.013705",
         "0.0",
         "13083",
         "290311.77",
         "T+4_T+8",
         "0.0",
         "293713.35"
        ],
        [
         "24",
         "10659",
         "2006-10-10 00:00:00",
         "-0.008112",
         "0.0",
         "13083",
         "287956.83",
         "T+4_T+8",
         "0.0",
         "293713.35"
        ],
        [
         "25",
         "10659",
         "2006-10-11 00:00:00",
         "-0.001363",
         "0.0",
         "13083",
         "287564.34",
         "T+4_T+8",
         "0.0",
         "293713.35"
        ],
        [
         "26",
         "10659",
         "2006-10-19 00:00:00",
         "0.003026",
         "0.0",
         "13083",
         "303525.6",
         "T-8_T-4",
         "0.0",
         "293713.35"
        ],
        [
         "27",
         "10659",
         "2006-10-20 00:00:00",
         "0.007328",
         "0.0",
         "13083",
         "305749.71",
         "T-8_T-4",
         "0.0",
         "293713.35"
        ],
        [
         "28",
         "10659",
         "2006-10-23 00:00:00",
         "0.005991",
         "0.0",
         "13083",
         "307581.33",
         "T-8_T-4",
         "0.0",
         "293713.35"
        ],
        [
         "29",
         "10659",
         "2006-10-24 00:00:00",
         "0.010208",
         "0.0",
         "13083",
         "310721.25",
         "T-8_T-4",
         "0.0",
         "293713.35"
        ],
        [
         "30",
         "10659",
         "2006-10-25 00:00:00",
         "0.025263",
         "0.0",
         "13083",
         "318571.05000000005",
         "T-8_T-4",
         "0.0",
         "293713.35"
        ],
        [
         "31",
         "10659",
         "2006-10-26 00:00:00",
         "0.008214",
         "0.0",
         "13083",
         "321187.65",
         "T-3_T-1",
         "0.0",
         "293713.35"
        ],
        [
         "32",
         "10659",
         "2006-10-27 00:00:00",
         "-0.008147",
         "0.0",
         "13083",
         "318571.05000000005",
         "T-3_T-1",
         "0.0",
         "293713.35"
        ],
        [
         "33",
         "10659",
         "2006-10-30 00:00:00",
         "-0.028747",
         "0.0",
         "13083",
         "309412.94999999995",
         "T-3_T-1",
         "0.0",
         "293713.35"
        ],
        [
         "34",
         "10659",
         "2006-10-31 00:00:00",
         "-0.000846",
         "0.0",
         "13553",
         "320257.39",
         "T",
         "0.0",
         "293713.35"
        ],
        [
         "35",
         "10659",
         "2006-11-01 00:00:00",
         "-0.022006",
         "0.0",
         "13553",
         "313209.83",
         "T+1_T+3",
         "0.0",
         "320257.39"
        ],
        [
         "36",
         "10659",
         "2006-11-02 00:00:00",
         "0.015145",
         "0.0",
         "13553",
         "317953.38",
         "T+1_T+3",
         "0.0",
         "320257.39"
        ],
        [
         "37",
         "10659",
         "2006-11-03 00:00:00",
         "0.000853",
         "0.0",
         "13553",
         "318224.44",
         "T+1_T+3",
         "0.0",
         "320257.39"
        ],
        [
         "38",
         "10659",
         "2006-11-06 00:00:00",
         "0.011499",
         "0.0",
         "13553",
         "321883.75",
         "T+4_T+8",
         "0.0",
         "320257.39"
        ],
        [
         "39",
         "10659",
         "2006-11-07 00:00:00",
         "0.001263",
         "0.0",
         "13553",
         "322290.34",
         "T+4_T+8",
         "0.0",
         "320257.39"
        ],
        [
         "40",
         "10659",
         "2006-11-08 00:00:00",
         "0.006728",
         "0.0",
         "13553",
         "324458.82",
         "T+4_T+8",
         "0.0",
         "320257.39"
        ],
        [
         "41",
         "10659",
         "2006-11-09 00:00:00",
         "0.003759",
         "0.0",
         "13553",
         "325678.59",
         "T+4_T+8",
         "0.0",
         "320257.39"
        ],
        [
         "42",
         "10659",
         "2006-11-10 00:00:00",
         "0.01082",
         "0.0",
         "13553",
         "329202.37",
         "T+4_T+8",
         "0.0",
         "320257.39"
        ],
        [
         "43",
         "10659",
         "2006-11-17 00:00:00",
         "-0.008153",
         "0.0",
         "13553",
         "329744.49",
         "T-8_T-4",
         "0.0",
         "320257.39"
        ],
        [
         "44",
         "10659",
         "2006-11-20 00:00:00",
         "0.013975",
         "0.0",
         "13553",
         "334352.51",
         "T-8_T-4",
         "0.0",
         "320257.39"
        ],
        [
         "45",
         "10659",
         "2006-11-21 00:00:00",
         "0.008918",
         "0.0",
         "13553",
         "337334.17",
         "T-8_T-4",
         "0.0",
         "320257.39"
        ],
        [
         "46",
         "10659",
         "2006-11-22 00:00:00",
         "-0.000402",
         "0.0",
         "13553",
         "337198.64",
         "T-8_T-4",
         "0.0",
         "320257.39"
        ],
        [
         "47",
         "10659",
         "2006-11-24 00:00:00",
         "0.001608",
         "0.0",
         "13553",
         "337740.76",
         "T-8_T-4",
         "0.0",
         "320257.39"
        ],
        [
         "48",
         "10659",
         "2006-11-27 00:00:00",
         "-0.033307",
         "0.0",
         "13553",
         "326491.77",
         "T-3_T-1",
         "0.0",
         "320257.39"
        ],
        [
         "49",
         "10659",
         "2006-11-28 00:00:00",
         "-0.003321",
         "0.0",
         "13553",
         "325407.53",
         "T-3_T-1",
         "0.0",
         "320257.39"
        ]
       ],
       "shape": {
        "columns": 9,
        "rows": 39839860
       }
      },
      "text/html": [
       "<div>\n",
       "<style scoped>\n",
       "    .dataframe tbody tr th:only-of-type {\n",
       "        vertical-align: middle;\n",
       "    }\n",
       "\n",
       "    .dataframe tbody tr th {\n",
       "        vertical-align: top;\n",
       "    }\n",
       "\n",
       "    .dataframe thead th {\n",
       "        text-align: right;\n",
       "    }\n",
       "</style>\n",
       "<table border=\"1\" class=\"dataframe\">\n",
       "  <thead>\n",
       "    <tr style=\"text-align: right;\">\n",
       "      <th></th>\n",
       "      <th>permno</th>\n",
       "      <th>date</th>\n",
       "      <th>ret</th>\n",
       "      <th>div_amount</th>\n",
       "      <th>shares_outstanding</th>\n",
       "      <th>market_cap</th>\n",
       "      <th>period_label</th>\n",
       "      <th>div_lag</th>\n",
       "      <th>mcap_lag</th>\n",
       "    </tr>\n",
       "  </thead>\n",
       "  <tbody>\n",
       "    <tr>\n",
       "      <th>0</th>\n",
       "      <td>10659</td>\n",
       "      <td>2006-08-31</td>\n",
       "      <td>0.067140</td>\n",
       "      <td>0.0</td>\n",
       "      <td>13077</td>\n",
       "      <td>295147.89</td>\n",
       "      <td>T</td>\n",
       "      <td>0.0</td>\n",
       "      <td>307963.35</td>\n",
       "    </tr>\n",
       "    <tr>\n",
       "      <th>1</th>\n",
       "      <td>10659</td>\n",
       "      <td>2006-09-01</td>\n",
       "      <td>-0.007089</td>\n",
       "      <td>0.0</td>\n",
       "      <td>13077</td>\n",
       "      <td>293055.57</td>\n",
       "      <td>T+1_T+3</td>\n",
       "      <td>0.0</td>\n",
       "      <td>276578.55</td>\n",
       "    </tr>\n",
       "    <tr>\n",
       "      <th>2</th>\n",
       "      <td>10659</td>\n",
       "      <td>2006-09-05</td>\n",
       "      <td>0.001339</td>\n",
       "      <td>0.0</td>\n",
       "      <td>13083</td>\n",
       "      <td>293582.52</td>\n",
       "      <td>T+1_T+3</td>\n",
       "      <td>0.0</td>\n",
       "      <td>276578.55</td>\n",
       "    </tr>\n",
       "    <tr>\n",
       "      <th>3</th>\n",
       "      <td>10659</td>\n",
       "      <td>2006-09-06</td>\n",
       "      <td>-0.011141</td>\n",
       "      <td>0.0</td>\n",
       "      <td>13083</td>\n",
       "      <td>290311.77</td>\n",
       "      <td>T+1_T+3</td>\n",
       "      <td>0.0</td>\n",
       "      <td>276578.55</td>\n",
       "    </tr>\n",
       "    <tr>\n",
       "      <th>4</th>\n",
       "      <td>10659</td>\n",
       "      <td>2006-09-07</td>\n",
       "      <td>0.020279</td>\n",
       "      <td>0.0</td>\n",
       "      <td>13083</td>\n",
       "      <td>296199.12</td>\n",
       "      <td>T+4_T+8</td>\n",
       "      <td>0.0</td>\n",
       "      <td>276578.55</td>\n",
       "    </tr>\n",
       "    <tr>\n",
       "      <th>...</th>\n",
       "      <td>...</td>\n",
       "      <td>...</td>\n",
       "      <td>...</td>\n",
       "      <td>...</td>\n",
       "      <td>...</td>\n",
       "      <td>...</td>\n",
       "      <td>...</td>\n",
       "      <td>...</td>\n",
       "      <td>...</td>\n",
       "    </tr>\n",
       "    <tr>\n",
       "      <th>39839855</th>\n",
       "      <td>92945</td>\n",
       "      <td>2009-06-24</td>\n",
       "      <td>0.000000</td>\n",
       "      <td>0.0</td>\n",
       "      <td>16768</td>\n",
       "      <td>198533.12</td>\n",
       "      <td>T-8_T-4</td>\n",
       "      <td>0.0</td>\n",
       "      <td>NaN</td>\n",
       "    </tr>\n",
       "    <tr>\n",
       "      <th>39839856</th>\n",
       "      <td>92945</td>\n",
       "      <td>2009-06-25</td>\n",
       "      <td>0.003378</td>\n",
       "      <td>0.0</td>\n",
       "      <td>16768</td>\n",
       "      <td>199203.84</td>\n",
       "      <td>T-3_T-1</td>\n",
       "      <td>0.0</td>\n",
       "      <td>NaN</td>\n",
       "    </tr>\n",
       "    <tr>\n",
       "      <th>39839857</th>\n",
       "      <td>92945</td>\n",
       "      <td>2009-06-26</td>\n",
       "      <td>0.000842</td>\n",
       "      <td>0.0</td>\n",
       "      <td>16768</td>\n",
       "      <td>199371.52</td>\n",
       "      <td>T-3_T-1</td>\n",
       "      <td>0.0</td>\n",
       "      <td>NaN</td>\n",
       "    </tr>\n",
       "    <tr>\n",
       "      <th>39839858</th>\n",
       "      <td>92945</td>\n",
       "      <td>2009-06-29</td>\n",
       "      <td>-0.003364</td>\n",
       "      <td>0.0</td>\n",
       "      <td>16768</td>\n",
       "      <td>198700.80</td>\n",
       "      <td>T-3_T-1</td>\n",
       "      <td>0.0</td>\n",
       "      <td>NaN</td>\n",
       "    </tr>\n",
       "    <tr>\n",
       "      <th>39839859</th>\n",
       "      <td>92945</td>\n",
       "      <td>2009-06-30</td>\n",
       "      <td>0.004219</td>\n",
       "      <td>0.0</td>\n",
       "      <td>16768</td>\n",
       "      <td>199539.20</td>\n",
       "      <td>T</td>\n",
       "      <td>0.0</td>\n",
       "      <td>NaN</td>\n",
       "    </tr>\n",
       "  </tbody>\n",
       "</table>\n",
       "<p>39839860 rows × 9 columns</p>\n",
       "</div>"
      ],
      "text/plain": [
       "          permno       date       ret  div_amount  shares_outstanding  \\\n",
       "0          10659 2006-08-31  0.067140         0.0               13077   \n",
       "1          10659 2006-09-01 -0.007089         0.0               13077   \n",
       "2          10659 2006-09-05  0.001339         0.0               13083   \n",
       "3          10659 2006-09-06 -0.011141         0.0               13083   \n",
       "4          10659 2006-09-07  0.020279         0.0               13083   \n",
       "...          ...        ...       ...         ...                 ...   \n",
       "39839855   92945 2009-06-24  0.000000         0.0               16768   \n",
       "39839856   92945 2009-06-25  0.003378         0.0               16768   \n",
       "39839857   92945 2009-06-26  0.000842         0.0               16768   \n",
       "39839858   92945 2009-06-29 -0.003364         0.0               16768   \n",
       "39839859   92945 2009-06-30  0.004219         0.0               16768   \n",
       "\n",
       "          market_cap period_label  div_lag   mcap_lag  \n",
       "0          295147.89            T      0.0  307963.35  \n",
       "1          293055.57      T+1_T+3      0.0  276578.55  \n",
       "2          293582.52      T+1_T+3      0.0  276578.55  \n",
       "3          290311.77      T+1_T+3      0.0  276578.55  \n",
       "4          296199.12      T+4_T+8      0.0  276578.55  \n",
       "...              ...          ...      ...        ...  \n",
       "39839855   198533.12      T-8_T-4      0.0        NaN  \n",
       "39839856   199203.84      T-3_T-1      0.0        NaN  \n",
       "39839857   199371.52      T-3_T-1      0.0        NaN  \n",
       "39839858   198700.80      T-3_T-1      0.0        NaN  \n",
       "39839859   199539.20            T      0.0        NaN  \n",
       "\n",
       "[39839860 rows x 9 columns]"
      ]
     },
     "execution_count": 9,
     "metadata": {},
     "output_type": "execute_result"
    }
   ],
   "source": [
    "# lag the market cap, using market cap value of the previous month last trading day\n",
    "con = duckdb.connect()\n",
    "con.execute(\n",
    "\"\"\"\n",
    "  WITH month_end AS (\n",
    "    SELECT permno, LAST_DAY(LAST(date)) AS month_end_date,\n",
    "    LAST(market_cap) AS mcap_lag\n",
    "    FROM crsp_df\n",
    "    WHERE period_label IS NOT NULL\n",
    "    AND market_cap IS NOT NULL\n",
    "    GROUP BY permno, EXTRACT(YEAR FROM date), EXTRACT(MONTH FROM date)\n",
    "  )\n",
    "  SELECT crsp_df.*, month_end.mcap_lag as mcap_lag\n",
    "  FROM crsp_df LEFT JOIN month_end\n",
    "  ON crsp_df.permno = month_end.permno\n",
    "  AND month_end.month_end_date = LAST_DAY(crsp_df.date - INTERVAL 1 MONTH)\n",
    "  WHERE period_label IS NOT NULL\n",
    "  AND period_label NOT LIKE '%nan%'\n",
    "\"\"\"\n",
    ")\n",
    "crsp_df = con.fetch_df()\n",
    "con.close()\n",
    "crsp_df"
   ]
  },
  {
   "cell_type": "code",
   "execution_count": null,
   "metadata": {},
   "outputs": [
    {
     "name": "stderr",
     "output_type": "stream",
     "text": [
      "Applying quantiles: 100%|██████████| 5914/5914 [00:32<00:00, 183.58it/s] \n"
     ]
    }
   ],
   "source": [
    "from tqdm import tqdm\n",
    "\n",
    "# calssify dividend-paying permnos and non-dividend-paying permnos\n",
    "def apply_div_labels(group):\n",
    "    # assign div_label to be that: if div_lag is not zero then 1, else 0\n",
    "    group['bin'] = (group['div_lag'] != 0).astype(int)\n",
    "    return group\n",
    "\n",
    "tqdm.pandas(desc=\"Applying quantiles\")\n",
    "\n",
    "crsp_df = crsp_df.groupby('date').progress_apply(lambda group: apply_div_labels(group)).reset_index(drop=True)"
   ]
  },
  {
   "cell_type": "code",
   "execution_count": 13,
   "metadata": {},
   "outputs": [
    {
     "name": "stderr",
     "output_type": "stream",
     "text": [
      "/tmp/ipykernel_3244791/1223721041.py:4: RuntimeWarning: invalid value encountered in scalar divide\n",
      "  'VW': (g['ret'] * g['mcap_lag']).sum() / g['mcap_lag'].sum()\n",
      "/tmp/ipykernel_3244791/1223721041.py:1: DeprecationWarning: DataFrameGroupBy.apply operated on the grouping columns. This behavior is deprecated, and in a future version of pandas the grouping columns will be excluded from the operation. Either pass `include_groups=False` to exclude the groupings or explicitly select the grouping columns after groupby to silence this warning.\n",
      "  daily_bins = crsp_df.groupby(['period_label', 'date', 'bin']).apply(\n",
      "/tmp/ipykernel_3244791/1223721041.py:8: DeprecationWarning: DataFrameGroupBy.apply operated on the grouping columns. This behavior is deprecated, and in a future version of pandas the grouping columns will be excluded from the operation. Either pass `include_groups=False` to exclude the groupings or explicitly select the grouping columns after groupby to silence this warning.\n",
      "  bins = daily_bins.groupby(['period_label', 'bin']).apply(\n"
     ]
    }
   ],
   "source": [
    "daily_bins = crsp_df.groupby(['period_label', 'date', 'bin']).apply(\n",
    "    lambda g: pd.Series({\n",
    "        'EW': g['ret'].mean(),\n",
    "        'VW': (g['ret'] * g['mcap_lag']).sum() / g['mcap_lag'].sum()\n",
    "    })\n",
    ").reset_index()\n",
    "\n",
    "bins = daily_bins.groupby(['period_label', 'bin']).apply(\n",
    "    lambda g: pd.Series({\n",
    "        'EW': g['EW'].mean(),\n",
    "        'VW': g['VW'].mean()\n",
    "    })\n",
    ").reset_index()"
   ]
  },
  {
   "cell_type": "markdown",
   "metadata": {},
   "source": [
    "#### Full sample"
   ]
  },
  {
   "cell_type": "code",
   "execution_count": 18,
   "metadata": {},
   "outputs": [
    {
     "name": "stderr",
     "output_type": "stream",
     "text": [
      "/tmp/ipykernel_3244791/1134185225.py:3: DeprecationWarning: DataFrameGroupBy.apply operated on the grouping columns. This behavior is deprecated, and in a future version of pandas the grouping columns will be excluded from the operation. Either pass `include_groups=False` to exclude the groupings or explicitly select the grouping columns after groupby to silence this warning.\n",
      "  bins = daily_bins_df[daily_bins_df['date'].between(start_date, end_date)].groupby(['period_label', 'bin']).apply(\n"
     ]
    },
    {
     "data": {
      "text/plain": [
       "<Figure size 1000x600 with 0 Axes>"
      ]
     },
     "metadata": {},
     "output_type": "display_data"
    },
    {
     "data": {
      "image/png": "[encoded data removed]",
      "text/plain": [
       "<Figure size 640x480 with 1 Axes>"
      ]
     },
     "metadata": {},
     "output_type": "display_data"
    },
    {
     "data": {
      "text/plain": [
       "<Figure size 1000x600 with 0 Axes>"
      ]
     },
     "metadata": {},
     "output_type": "display_data"
    },
    {
     "data": {
      "image/png": "[encoded data removed]",
      "text/plain": [
       "<Figure size 640x480 with 1 Axes>"
      ]
     },
     "metadata": {},
     "output_type": "display_data"
    },
    {
     "data": {
      "text/plain": [
       "<Figure size 1000x600 with 0 Axes>"
      ]
     },
     "metadata": {},
     "output_type": "display_data"
    },
    {
     "data": {
      "image/png": "[encoded data removed]",
      "text/plain": [
       "<Figure size 640x480 with 1 Axes>"
      ]
     },
     "metadata": {},
     "output_type": "display_data"
    },
    {
     "data": {
      "text/plain": [
       "<Figure size 1000x600 with 0 Axes>"
      ]
     },
     "metadata": {},
     "output_type": "display_data"
    },
    {
     "data": {
      "image/png": "[encoded data removed]",
      "text/plain": [
       "<Figure size 640x480 with 1 Axes>"
      ]
     },
     "metadata": {},
     "output_type": "display_data"
    },
    {
     "data": {
      "text/plain": [
       "<Figure size 1000x600 with 0 Axes>"
      ]
     },
     "metadata": {},
     "output_type": "display_data"
    },
    {
     "data": {
      "image/png": "[encoded data removed]",
      "text/plain": [
       "<Figure size 640x480 with 1 Axes>"
      ]
     },
     "metadata": {},
     "output_type": "display_data"
    }
   ],
   "source": [
    "plot_bins_period(daily_bins, '1995-01-01', '2023-12-31')"
   ]
  },
  {
   "cell_type": "code",
   "execution_count": 19,
   "metadata": {},
   "outputs": [],
   "source": [
    "daily_bins['trading_period'] = daily_bins['period_label'].isin([\"T-3_T-1\", \"T\", \"T+1_T+3\"])"
   ]
  },
  {
   "cell_type": "code",
   "execution_count": 20,
   "metadata": {},
   "outputs": [
    {
     "name": "stderr",
     "output_type": "stream",
     "text": [
      "/tmp/ipykernel_3244791/928762280.py:1: DeprecationWarning: DataFrameGroupBy.apply operated on the grouping columns. This behavior is deprecated, and in a future version of pandas the grouping columns will be excluded from the operation. Either pass `include_groups=False` to exclude the groupings or explicitly select the grouping columns after groupby to silence this warning.\n",
      "  bins = daily_bins.groupby(['trading_period', 'bin']).apply(\n"
     ]
    },
    {
     "data": {
      "text/plain": [
       "<Figure size 1000x600 with 0 Axes>"
      ]
     },
     "metadata": {},
     "output_type": "display_data"
    },
    {
     "data": {
      "image/png": "[encoded data removed]",
      "text/plain": [
       "<Figure size 640x480 with 1 Axes>"
      ]
     },
     "metadata": {},
     "output_type": "display_data"
    }
   ],
   "source": [
    "bins = daily_bins.groupby(['trading_period', 'bin']).apply(\n",
    "    lambda g: pd.Series({\n",
    "        'EW': g['EW'].mean(),\n",
    "        'VW': g['VW'].mean()\n",
    "    })\n",
    ").reset_index()\n",
    "\n",
    "width = 0.35\n",
    "\n",
    "plt.figure(figsize=(10, 6))\n",
    "day_data = bins[bins['trading_period']]\n",
    "x = np.arange(len(day_data))\n",
    "\n",
    "fig, ax = plt.subplots()\n",
    "\n",
    "# Plot the bars\n",
    "ax.bar(x - width/2, day_data['VW'], width, alpha=0.7, label='VW')\n",
    "ax.bar(x + width/2, day_data['EW'], width, alpha=0.7, label='EW')\n",
    "\n",
    "# Simplify the plot\n",
    "ax.set_xticks(x)\n",
    "ax.set_xticklabels(day_data['bin'].astype(str))  # Ensure proper x-tick labels\n",
    "ax.set_xlabel('Bin')\n",
    "ax.set_ylabel('Returns')\n",
    "ax.set_title(f'Trading Period (T-3_T+3)')\n",
    "ax.legend()\n",
    "\n",
    "plt.show()"
   ]
  },
  {
   "cell_type": "markdown",
   "metadata": {},
   "source": [
    "We want to long non-dividend-paying stocks and short dividend-paying stocks"
   ]
  },
  {
   "cell_type": "code",
   "execution_count": 25,
   "metadata": {},
   "outputs": [],
   "source": [
    "portfolio_trading_period = pd.merge(\n",
    "    daily_bins.query('trading_period & bin == 0'),\n",
    "    daily_bins.query('trading_period & bin == 1'),\n",
    "    suffixes=['_long', '_short'],\n",
    "    on='date'\n",
    ")\n",
    "\n",
    "portfolio_trading_period['long_short_EW'] = portfolio_trading_period['EW_long'] - portfolio_trading_period['EW_short']\n",
    "portfolio_trading_period['long_short_VW'] = portfolio_trading_period['VW_long'] - portfolio_trading_period['VW_short']\n",
    "portfolio_trading_period['cumulative_ret_EW'] = (1 + portfolio_trading_period['long_short_EW']).cumprod() - 1\n",
    "portfolio_trading_period['cumulative_ret_VW'] = (1 + portfolio_trading_period['long_short_VW']).cumprod() - 1"
   ]
  },
  {
   "cell_type": "code",
   "execution_count": 26,
   "metadata": {},
   "outputs": [
    {
     "data": {
      "image/png": "[encoded data removed]",
      "text/plain": [
       "<Figure size 640x480 with 1 Axes>"
      ]
     },
     "metadata": {},
     "output_type": "display_data"
    }
   ],
   "source": [
    "(\n",
    "  (portfolio_trading_period\n",
    "   .set_index('date')[['long_short_VW', 'long_short_EW']]+1)\n",
    "   .rename(columns={'long_short_EW': 'EW', 'long_short_VW': 'VW'})\n",
    "   .resample('ME').prod().cumprod().plot().grid(axis='y')\n",
    ")\n",
    "\n",
    "plt.title('Cumulative Return of Dividend Payer Long-Short Portfolio')\n",
    "plt.xlabel('Date')\n",
    "plt.ylabel('Cumulative Return')\n",
    "plt.show()"
   ]
  }
 ],
 "metadata": {
  "kernelspec": {
   "display_name": ".venv",
   "language": "python",
   "name": "python3"
  },
  "language_info": {
   "codemirror_mode": {
    "name": "ipython",
    "version": 3
   },
   "file_extension": ".py",
   "mimetype": "text/x-python",
   "name": "python",
   "nbconvert_exporter": "python",
   "pygments_lexer": "ipython3",
   "version": "3.12.9"
  }
 },
 "nbformat": 4,
 "nbformat_minor": 2
}
